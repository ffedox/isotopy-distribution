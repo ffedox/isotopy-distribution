{
  "nbformat": 4,
  "nbformat_minor": 0,
  "metadata": {
    "colab": {
      "provenance": [],
      "collapsed_sections": [
        "NN47psGtEt5B"
      ],
      "toc_visible": true
    },
    "kernelspec": {
      "name": "python3",
      "display_name": "Python 3"
    },
    "language_info": {
      "name": "python"
    },
    "accelerator": "GPU",
    "gpuClass": "standard"
  },
  "cells": [
    {
      "cell_type": "markdown",
      "source": [
        "# CNNs with GloVe"
      ],
      "metadata": {
        "id": "F-s1HymjEjor"
      }
    },
    {
      "cell_type": "markdown",
      "source": [
        "# 1. Setup"
      ],
      "metadata": {
        "id": "WXFUKQt3ErX1"
      }
    },
    {
      "cell_type": "markdown",
      "source": [
        "# 1.1. Enabling the GPU on Colab"
      ],
      "metadata": {
        "id": "NN47psGtEt5B"
      }
    },
    {
      "cell_type": "code",
      "execution_count": null,
      "metadata": {
        "id": "3pEFaD2qTZEH",
        "colab": {
          "base_uri": "https://localhost:8080/"
        },
        "outputId": "0fca9c5c-7377-4ca0-aa42-77e2ba5d2f94"
      },
      "outputs": [
        {
          "output_type": "stream",
          "name": "stdout",
          "text": [
            "Found GPU at: /device:GPU:0\n"
          ]
        }
      ],
      "source": [
        "import tensorflow as tf\n",
        "\n",
        "device_name = tf.test.gpu_device_name()\n",
        "\n",
        "if len(device_name) > 0:\n",
        "    print('Found GPU at: {}'.format(device_name))\n",
        "    \n",
        "else:\n",
        "    device_name = '/device:CPU:0'\n",
        "    print('No GPU, using {}.'.format(device_name))"
      ]
    },
    {
      "cell_type": "markdown",
      "source": [
        "# 1.2. Libraries"
      ],
      "metadata": {
        "id": "NLxtZGBVExXp"
      }
    },
    {
      "cell_type": "code",
      "source": [
        "!pip install keras-tuner -q"
      ],
      "metadata": {
        "colab": {
          "base_uri": "https://localhost:8080/"
        },
        "id": "552C3TzY-_n5",
        "outputId": "4eb0e63f-81bf-44d2-96de-3ff5e5ccf8ac"
      },
      "execution_count": null,
      "outputs": [
        {
          "output_type": "stream",
          "name": "stdout",
          "text": [
            "\u001b[2K     \u001b[90m━━━━━━━━━━━━━━━━━━━━━━━━━━━━━━━━━━━━━━━\u001b[0m \u001b[32m135.7/135.7 KB\u001b[0m \u001b[31m3.1 MB/s\u001b[0m eta \u001b[36m0:00:00\u001b[0m\n",
            "\u001b[2K     \u001b[90m━━━━━━━━━━━━━━━━━━━━━━━━━━━━━━━━━━━━━━━━\u001b[0m \u001b[32m1.6/1.6 MB\u001b[0m \u001b[31m23.6 MB/s\u001b[0m eta \u001b[36m0:00:00\u001b[0m\n",
            "\u001b[?25h"
          ]
        }
      ]
    },
    {
      "cell_type": "code",
      "source": [
        "from keras.layers import Conv1D, GlobalMaxPooling1D, Dropout\n",
        "from keras.layers import Embedding, Dense, Activation\n",
        "from keras.utils.data_utils import pad_sequences\n",
        "from keras.preprocessing.text import Tokenizer\n",
        "from keras.callbacks import ModelCheckpoint\n",
        "from keras.preprocessing import sequence \n",
        "from keras.models import Sequential\n",
        "from keras.optimizers import Adam\n",
        "import matplotlib.pyplot as plt\n",
        "\n",
        "from keras.callbacks import TensorBoard, EarlyStopping\n",
        "from keras_tuner.tuners import Hyperband\n",
        "from keras.utils import plot_model\n",
        "import keras_tuner as kt\n",
        "\n",
        "from nltk.tokenize import TreebankWordTokenizer\n",
        "from gensim.models.keyedvectors import KeyedVectors\n",
        "from sklearn.metrics import mean_absolute_error\n",
        "from sklearn.metrics import mean_squared_error\n",
        "from google.colab import drive\n",
        "\n",
        "import numpy as np\n",
        "import pandas as pd"
      ],
      "metadata": {
        "id": "qMTWdnvOTkg4"
      },
      "execution_count": null,
      "outputs": []
    },
    {
      "cell_type": "markdown",
      "source": [
        "# 2. Loading the Grey's Anatomy Dataset"
      ],
      "metadata": {
        "id": "cam0SgxPE49F"
      }
    },
    {
      "cell_type": "code",
      "source": [
        "# Accessing Drive files\n",
        "drive.mount('/content/drive')\n",
        "\n",
        "# Paths to the corpus\n",
        "CORPUS_PATH = '/content/drive/MyDrive/DAR/greys_anatomy_data_train_val_test.xlsx'\n",
        "\n",
        "# Path to the embeddings\n",
        "GLOVE_VECTORS = '/content/drive/MyDrive/embeddings/glove.6B.100d.txt'\n",
        "\n",
        "# Opening aligned .xlsx file \n",
        "data = pd.read_excel(CORPUS_PATH, index_col=0)"
      ],
      "metadata": {
        "id": "hpWd438aTxZv",
        "colab": {
          "base_uri": "https://localhost:8080/"
        },
        "outputId": "8f2b8b50-2ac4-41ac-f68b-4fbf0d2cd50c"
      },
      "execution_count": null,
      "outputs": [
        {
          "output_type": "stream",
          "name": "stdout",
          "text": [
            "Mounted at /content/drive\n"
          ]
        }
      ]
    },
    {
      "cell_type": "markdown",
      "source": [
        "# 3. Tokenizing and padding"
      ],
      "metadata": {
        "id": "AdiHjwsaHgUz"
      }
    },
    {
      "cell_type": "code",
      "source": [
        "# Training set features\n",
        "max_length = 35\n",
        "tokenizer_obj = Tokenizer(oov_token='<OOV>')\n",
        "tokenizer_obj.fit_on_texts(data[data.data_type=='train'].subtitle_text.values)\n",
        "sequences_train = tokenizer_obj.texts_to_sequences(data[data.data_type=='train'].subtitle_text.values)\n",
        "padding_train = pad_sequences(sequences_train, maxlen=max_length, padding='post', truncating='post') # Padding to the longest sentence\n",
        "word_index = tokenizer_obj.word_index\n",
        "\n",
        "# Validation set features\n",
        "sequences_val = tokenizer_obj.texts_to_sequences(data[data.data_type=='val'].subtitle_text.values)\n",
        "padding_val = pad_sequences(sequences_val, maxlen=max_length, padding='post', truncating='post')\n",
        "\n",
        "# Targets\n",
        "expected_train = data[data.data_type=='train'][['pp', 'sp', 'mc']].values\n",
        "expected_val = data[data.data_type=='val'][['pp', 'sp', 'mc']].values\n",
        "\n",
        "# Renaming the variables\n",
        "X_train = padding_train\n",
        "y_train = expected_train\n",
        "X_val = padding_val\n",
        "y_val = expected_val"
      ],
      "metadata": {
        "id": "dA3UTTpBHimn"
      },
      "execution_count": null,
      "outputs": []
    },
    {
      "cell_type": "code",
      "source": [
        "# Network parameters\n",
        "\n",
        "maxlen = 35      \n",
        "batch_size = 32      \n",
        "embedding_dims = 100  # GloVe dimensions"
      ],
      "metadata": {
        "id": "t-yRPakiUtWM"
      },
      "execution_count": null,
      "outputs": []
    },
    {
      "cell_type": "code",
      "source": [
        "# X shape is (number of samples, sequence length)\n",
        "# Y shape is (number of samples, classes)\n",
        "\n",
        "print('Shape of X_train:', X_train.shape) # 55567 samples, 35 maxlen\n",
        "print('Shape of y_train:', y_train.shape) # 55567 samples, 3 classes\n",
        "print('Shape of X_val:', X_val.shape)   # 11907 samples, 35 maxlen\n",
        "print('Shape of y_val:', y_val.shape) # 11907 samples, 3 classes"
      ],
      "metadata": {
        "colab": {
          "base_uri": "https://localhost:8080/"
        },
        "id": "bAHY1SlHU0lg",
        "outputId": "37f7e030-be39-44a1-ab19-4cd9ce7ffd89"
      },
      "execution_count": null,
      "outputs": [
        {
          "output_type": "stream",
          "name": "stdout",
          "text": [
            "Shape of X_train: (55567, 35)\n",
            "Shape of y_train: (55567, 3)\n",
            "Shape of X_val: (11907, 35)\n",
            "Shape of y_val: (11907, 3)\n"
          ]
        }
      ]
    },
    {
      "cell_type": "markdown",
      "source": [
        "# 4. Creating the embedding matrix"
      ],
      "metadata": {
        "id": "KwuR-KIXJEpY"
      }
    },
    {
      "cell_type": "code",
      "source": [
        "# Loading the GloVe embeddings \n",
        "\n",
        "embedding_index = {}\n",
        "embedding_dim = 100\n",
        "\n",
        "f = open(GLOVE_VECTORS, encoding=\"utf8\")\n",
        "\n",
        "for line in f:\n",
        "    values = line.split()\n",
        "    word = values[0]\n",
        "    coefs = np.asarray(values[1:], dtype='float32')\n",
        "    embedding_index[word] = coefs\n",
        "f.close()\n",
        "\n",
        "print('Found %s word vectors.' % len(embedding_index))"
      ],
      "metadata": {
        "colab": {
          "base_uri": "https://localhost:8080/"
        },
        "id": "YdvZQncqU2_8",
        "outputId": "4bdfcde6-ead7-4461-ba69-7f4a58bdfbde"
      },
      "execution_count": null,
      "outputs": [
        {
          "output_type": "stream",
          "name": "stdout",
          "text": [
            "Found 400000 word vectors.\n"
          ]
        }
      ]
    },
    {
      "cell_type": "code",
      "source": [
        "# Creating the embedding matrix\n",
        "\n",
        "embedding_matrix = np.zeros((len(word_index) + 1, embedding_dim))\n",
        "for word, i in word_index.items():\n",
        "    embedding_vector = embedding_index.get(word)\n",
        "    if embedding_vector is not None:\n",
        "        embedding_matrix[i] = embedding_vector"
      ],
      "metadata": {
        "id": "UOVZBSBnU8lT"
      },
      "execution_count": null,
      "outputs": []
    },
    {
      "cell_type": "code",
      "source": [
        "# Defining the embedding layer for the network\n",
        "\n",
        "embedding_layer = Embedding(len(word_index) + 1,\n",
        "                            embedding_dim,\n",
        "                            weights=[embedding_matrix],\n",
        "                            input_length=max_length,\n",
        "                            trainable=False)"
      ],
      "metadata": {
        "id": "_sIl-IYDU_Gz"
      },
      "execution_count": null,
      "outputs": []
    },
    {
      "cell_type": "markdown",
      "source": [
        "# 5. Creating the baseline CNN"
      ],
      "metadata": {
        "id": "E2BDjD2UNcJW"
      }
    },
    {
      "cell_type": "code",
      "source": [
        "# Creating a convolutional neural network for multioutput regression\n",
        "\n",
        "model_glove = Sequential()\n",
        "model_glove.add(embedding_layer)\n",
        "model_glove.add(Conv1D(filters=250, kernel_size=3, padding='valid', activation='relu', strides=1, input_shape=(maxlen, embedding_dims)))\n",
        "model_glove.add(GlobalMaxPooling1D())\n",
        "model_glove.add(Dense(250))\n",
        "model_glove.add(Dropout(0.2))\n",
        "model_glove.add(Activation('relu'))\n",
        "model_glove.add(Dense(3, activation='sigmoid'))"
      ],
      "metadata": {
        "id": "j_EvK91BVIvW"
      },
      "execution_count": null,
      "outputs": []
    },
    {
      "cell_type": "code",
      "source": [
        "# Compiling the CNN\n",
        "\n",
        "model_glove.compile(loss='mse', optimizer='adam', metrics=['mae'])"
      ],
      "metadata": {
        "id": "p5xpBtt7VVnm"
      },
      "execution_count": null,
      "outputs": []
    },
    {
      "cell_type": "markdown",
      "source": [
        "# 6. Training the baseline CNN"
      ],
      "metadata": {
        "id": "d5T4_EzWNlAZ"
      }
    },
    {
      "cell_type": "code",
      "source": [
        "# Training the CNN\n",
        "\n",
        "checkpoint = ModelCheckpoint('model-{epoch:03d}-{val_loss:03f}.h5', verbose=1, monitor='val_loss', save_best_only=True, mode='auto')\n",
        "history_glove = model_glove.fit(X_train, y_train, epochs=8, batch_size=32, validation_data=(X_val, y_val), callbacks=[checkpoint], verbose=1)"
      ],
      "metadata": {
        "id": "vsPb-c9PVYW2",
        "colab": {
          "base_uri": "https://localhost:8080/"
        },
        "outputId": "2d9f746f-8c91-42a0-a360-461c499318fd"
      },
      "execution_count": null,
      "outputs": [
        {
          "output_type": "stream",
          "name": "stdout",
          "text": [
            "Epoch 1/8\n",
            "1728/1737 [============================>.] - ETA: 0s - loss: 0.1521 - mae: 0.3362\n",
            "Epoch 1: val_loss improved from inf to 0.15031, saving model to model-001-0.150308.h5\n",
            "1737/1737 [==============================] - 7s 4ms/step - loss: 0.1521 - mae: 0.3362 - val_loss: 0.1503 - val_mae: 0.3339\n",
            "Epoch 2/8\n",
            "1730/1737 [============================>.] - ETA: 0s - loss: 0.1478 - mae: 0.3294\n",
            "Epoch 2: val_loss improved from 0.15031 to 0.14928, saving model to model-002-0.149281.h5\n",
            "1737/1737 [==============================] - 6s 4ms/step - loss: 0.1478 - mae: 0.3294 - val_loss: 0.1493 - val_mae: 0.3324\n",
            "Epoch 3/8\n",
            "1728/1737 [============================>.] - ETA: 0s - loss: 0.1438 - mae: 0.3225\n",
            "Epoch 3: val_loss did not improve from 0.14928\n",
            "1737/1737 [==============================] - 7s 4ms/step - loss: 0.1438 - mae: 0.3226 - val_loss: 0.1505 - val_mae: 0.3336\n",
            "Epoch 4/8\n",
            "1723/1737 [============================>.] - ETA: 0s - loss: 0.1391 - mae: 0.3143\n",
            "Epoch 4: val_loss did not improve from 0.14928\n",
            "1737/1737 [==============================] - 7s 4ms/step - loss: 0.1392 - mae: 0.3144 - val_loss: 0.1505 - val_mae: 0.3302\n",
            "Epoch 5/8\n",
            "1732/1737 [============================>.] - ETA: 0s - loss: 0.1337 - mae: 0.3043\n",
            "Epoch 5: val_loss did not improve from 0.14928\n",
            "1737/1737 [==============================] - 6s 4ms/step - loss: 0.1337 - mae: 0.3044 - val_loss: 0.1530 - val_mae: 0.3295\n",
            "Epoch 6/8\n",
            "1723/1737 [============================>.] - ETA: 0s - loss: 0.1276 - mae: 0.2936\n",
            "Epoch 6: val_loss did not improve from 0.14928\n",
            "1737/1737 [==============================] - 7s 4ms/step - loss: 0.1275 - mae: 0.2935 - val_loss: 0.1574 - val_mae: 0.3255\n",
            "Epoch 7/8\n",
            "1725/1737 [============================>.] - ETA: 0s - loss: 0.1216 - mae: 0.2824\n",
            "Epoch 7: val_loss did not improve from 0.14928\n",
            "1737/1737 [==============================] - 6s 4ms/step - loss: 0.1216 - mae: 0.2825 - val_loss: 0.1612 - val_mae: 0.3344\n",
            "Epoch 8/8\n",
            "1726/1737 [============================>.] - ETA: 0s - loss: 0.1162 - mae: 0.2723\n",
            "Epoch 8: val_loss did not improve from 0.14928\n",
            "1737/1737 [==============================] - 6s 4ms/step - loss: 0.1163 - mae: 0.2723 - val_loss: 0.1654 - val_mae: 0.3246\n"
          ]
        }
      ]
    },
    {
      "cell_type": "code",
      "source": [
        "# Summarize history for loss\n",
        "\n",
        "plt.plot(history_glove.history['loss'])\n",
        "plt.plot(history_glove.history['val_loss'])\n",
        "plt.title('Training and Validation Loss')\n",
        "plt.ylabel('Loss')\n",
        "plt.xlabel('Epoch')\n",
        "plt.legend(['Training', 'Validation'], loc='upper right')\n",
        "plt.show()"
      ],
      "metadata": {
        "colab": {
          "base_uri": "https://localhost:8080/",
          "height": 299
        },
        "id": "_8qegUfqZ0l3",
        "outputId": "50f6a229-a31c-4347-fda5-0a19490188cf"
      },
      "execution_count": null,
      "outputs": [
        {
          "output_type": "display_data",
          "data": {
            "text/plain": [
              "<Figure size 432x288 with 1 Axes>"
            ],
            "image/png": "[encoded data removed]"
          },
          "metadata": {}
        }
      ]
    },
    {
      "cell_type": "markdown",
      "source": [
        "# 7. Testing the baseline CNN on the hold-out partition"
      ],
      "metadata": {
        "id": "4beUwHL1L1hm"
      }
    },
    {
      "cell_type": "code",
      "source": [
        "# Test set features\n",
        "\n",
        "sequences_test = tokenizer_obj.texts_to_sequences(data[data.data_type=='test'].subtitle_text.values)\n",
        "padding_test = pad_sequences(sequences_test, maxlen=max_length, padding='post', truncating='post')\n",
        "X_test = padding_test"
      ],
      "metadata": {
        "id": "vX7nSverL4NT"
      },
      "execution_count": null,
      "outputs": []
    },
    {
      "cell_type": "code",
      "source": [
        "# Test targets\n",
        "\n",
        "expected_test = data[data.data_type=='test'][['pp', 'sp', 'mc']].values\n",
        "y_test = expected_test"
      ],
      "metadata": {
        "id": "TvhZqnAOMzqT"
      },
      "execution_count": null,
      "outputs": []
    },
    {
      "cell_type": "code",
      "source": [
        "# Predicting on the test set\n",
        "\n",
        "model_pred = model_glove.predict(X_test)"
      ],
      "metadata": {
        "id": "rKfZ_h0-VbZk",
        "colab": {
          "base_uri": "https://localhost:8080/"
        },
        "outputId": "ee2d548f-97d5-4fdf-a088-df0c516cb987"
      },
      "execution_count": null,
      "outputs": [
        {
          "output_type": "stream",
          "name": "stdout",
          "text": [
            "373/373 [==============================] - 1s 2ms/step\n"
          ]
        }
      ]
    },
    {
      "cell_type": "code",
      "source": [
        "# Evaluating with MAE\n",
        "\n",
        "print('MAE (ALL) ', mean_absolute_error(y_test, model_pred), ' \\n')\n",
        "print('MAE (PP): ', list(mean_absolute_error(y_test, model_pred, multioutput='raw_values'))[0])\n",
        "print('MAE (SP): ', list(mean_absolute_error(y_test, model_pred, multioutput='raw_values'))[1])\n",
        "print('MAE (MC): ', list(mean_absolute_error(y_test, model_pred, multioutput='raw_values'))[2])"
      ],
      "metadata": {
        "colab": {
          "base_uri": "https://localhost:8080/"
        },
        "id": "q1WHesLHMEsO",
        "outputId": "8f26d06a-b16a-4164-c57b-4a2ae4e2e153"
      },
      "execution_count": null,
      "outputs": [
        {
          "output_type": "stream",
          "name": "stdout",
          "text": [
            "MAE (ALL)  0.32367263830327847  \n",
            "\n",
            "MAE (PP):  0.2404629343676838\n",
            "MAE (SP):  0.3801482403456686\n",
            "MAE (MC):  0.35040674019648305\n"
          ]
        }
      ]
    },
    {
      "cell_type": "code",
      "source": [
        "# Evaluating with RMSE\n",
        "\n",
        "print('RMSE (ALL) ', mean_squared_error(y_test, model_pred), ' \\n')\n",
        "print('RMSE (PP): ', list(mean_squared_error(y_test, model_pred, squared=False, multioutput='raw_values'))[0])\n",
        "print('RMSE (SP): ', list(mean_squared_error(y_test, model_pred, squared=False, multioutput='raw_values'))[1])\n",
        "print('RMSE (MC): ', list(mean_squared_error(y_test, model_pred, squared=False, multioutput='raw_values'))[2])"
      ],
      "metadata": {
        "colab": {
          "base_uri": "https://localhost:8080/"
        },
        "id": "VM2JZxi9bOWR",
        "outputId": "47423400-568a-49f5-c11f-ab42a0cbd9a4"
      },
      "execution_count": null,
      "outputs": [
        {
          "output_type": "stream",
          "name": "stdout",
          "text": [
            "RMSE (ALL)  0.16550187316698284  \n",
            "\n",
            "RMSE (PP):  0.33837186190593976\n",
            "RMSE (SP):  0.4445073507139265\n",
            "RMSE (MC):  0.4294453605903113\n"
          ]
        }
      ]
    },
    {
      "cell_type": "code",
      "source": [
        "from sklearn.metrics import r2_score\n",
        "\n",
        "# Evaluating with R2 \n",
        "\n",
        "print('R2 (ALL) ', r2_score(y_test, model_pred), ' \\n')\n",
        "print('R2 (PP): ', list(r2_score(y_test, model_pred, multioutput='raw_values'))[0])\n",
        "print('R2 (SP): ', list(r2_score(y_test, model_pred, multioutput='raw_values'))[1])\n",
        "print('R2 (MC): ', list(r2_score(y_test, model_pred, multioutput='raw_values'))[2])"
      ],
      "metadata": {
        "colab": {
          "base_uri": "https://localhost:8080/"
        },
        "id": "k21tfu0JbqBc",
        "outputId": "71f44bca-8286-4ebf-8f79-fac5f692ac8f"
      },
      "execution_count": null,
      "outputs": [
        {
          "output_type": "stream",
          "name": "stdout",
          "text": [
            "R2 (ALL)  -0.05880862052655448  \n",
            "\n",
            "R2 (PP):  -0.05866078461523516\n",
            "R2 (SP):  -0.05756428225127275\n",
            "R2 (MC):  -0.06020079471315554\n"
          ]
        }
      ]
    },
    {
      "cell_type": "markdown",
      "source": [
        "# 8. CNN with Hyperparameter Tuning "
      ],
      "metadata": {
        "id": "9dHmlercmWdA"
      }
    },
    {
      "cell_type": "code",
      "source": [
        "# Initializing the container for the hyperparameters\n",
        "\n",
        "hp = kt.HyperParameters()"
      ],
      "metadata": {
        "id": "8kt95tOILyqR"
      },
      "execution_count": null,
      "outputs": []
    },
    {
      "cell_type": "code",
      "source": [
        "# Defining the hyperparameters to explore, based on the CNN from before\n",
        "\n",
        "def build_hypermodel(hp):\n",
        "\n",
        "  hp_loss = hp.Choice('loss_function', values=['mse', 'mae'])                          # Loss functions: MSE and MAE\n",
        "  hp_kernel = hp.Choice('kernel_size', values=[1, 2, 3, 4, 5])                         # Kernel sizes: from 1 to 3\n",
        "  hp_filters = hp.Int('conv_filters', min_value=50, max_value=250, step=25)            # Number of filters: from 50 to 250, with a step of 25 (e.g. it can be 75, 100 etc.)\n",
        "  hp_learning_rate = hp.Choice('adam_learning_rate', values = [0.002, 0.001, 0.0001])  # Learning rates for the optimizer: 0.002, 0.001, 0.0001\n",
        "  hp_dense_units = hp.Int('dense_units', min_value=32, max_value=512, step=32)         # Number of units in the Dense layer: from 32 to 512, with a step of 32\n",
        "  hp_dropout = hp.Choice('dropout_value', values=[0.05, 0.1, 0.2, 0.3])                # Dropout value: 0.05, 0.1, 0.2, 0.3\n",
        "  hp_layers = hp.Int('num_intermediate_layers', 1, 3)                                  # Intermediate layers: from 1 to 3 sections of Dense layers with Dropout\n",
        "\n",
        "  model_hp = Sequential()\n",
        "  model_hp.add(embedding_layer)\n",
        "  model_hp.add(Conv1D(filters=hp_filters, kernel_size=hp_kernel, padding='same', activation='relu', strides=1, input_shape=(maxlen, embedding_dims)))\n",
        "  model_hp.add(GlobalMaxPooling1D())\n",
        "\n",
        "  for i in range(hp_layers):  \n",
        "    model_hp.add(Dense(units=hp_dense_units, activation='relu'))\n",
        "    model_hp.add(Dropout(hp_dropout))\n",
        "\n",
        "  model_hp.add(Activation('relu'))\n",
        "  model_hp.add(Dense(3))\n",
        "\n",
        "  model_hp.compile(optimizer=Adam(learning_rate=hp_learning_rate), loss=hp_loss, metrics=['mse'])\n",
        "\n",
        "  return model_hp"
      ],
      "metadata": {
        "id": "iAK1SHfapgzy"
      },
      "execution_count": null,
      "outputs": []
    },
    {
      "cell_type": "code",
      "source": [
        "# Hyperband is one of the optimization algorithms provided by Keras Tuner\n",
        "\n",
        "tuner = Hyperband(build_hypermodel, \n",
        "                  objective='mse',        # Objective to minimize\n",
        "                  executions_per_trial=1, # Number of models that should be built and fit for each trial \n",
        "                  hyperband_iterations=1, # The number of times the Hyperband algorithm is iterated over\n",
        "                  max_epochs=4, \n",
        "                  project_name='cnn_keras_tuner')"
      ],
      "metadata": {
        "id": "xUYvH8z_tLfC"
      },
      "execution_count": null,
      "outputs": []
    },
    {
      "cell_type": "code",
      "source": [
        "tuner.search(X_train, y_train, batch_size=32, # Batch size -> another parameter that can be explored\n",
        "             epochs=20,\n",
        "             validation_data=(X_val, y_val),\n",
        "             callbacks=[EarlyStopping('mse', patience=5)], # Patience -> number of epochs with no improvement after which training will be stopped; I set it a bit higher to explore more configurations\n",
        "             verbose=2)"
      ],
      "metadata": {
        "colab": {
          "base_uri": "https://localhost:8080/"
        },
        "id": "lE4cudHcuJLi",
        "outputId": "05dd62d2-1190-4bcf-cb38-ab3460f12eb6"
      },
      "execution_count": null,
      "outputs": [
        {
          "output_type": "stream",
          "name": "stdout",
          "text": [
            "Trial 10 Complete [00h 00m 27s]\n",
            "mse: 0.1449563056230545\n",
            "\n",
            "Best mse So Far: 0.1449563056230545\n",
            "Total elapsed time: 00h 04m 05s\n"
          ]
        }
      ]
    },
    {
      "cell_type": "code",
      "source": [
        "# Get the optimal hyperparameters\n",
        "best_hps = tuner.get_best_hyperparameters(1)[0]\n",
        "\n",
        "# Get the best model\n",
        "best_model = tuner.get_best_models(1)[0]\n",
        "\n",
        "# Show model summary\n",
        "best_model.summary()"
      ],
      "metadata": {
        "colab": {
          "base_uri": "https://localhost:8080/"
        },
        "id": "p7kSzR9OC_3X",
        "outputId": "cf9372e2-da34-4807-f913-0e4ed9e151db"
      },
      "execution_count": null,
      "outputs": [
        {
          "output_type": "stream",
          "name": "stdout",
          "text": [
            "Model: \"sequential\"\n",
            "_________________________________________________________________\n",
            " Layer (type)                Output Shape              Param #   \n",
            "=================================================================\n",
            " embedding (Embedding)       (None, 35, 100)           1380200   \n",
            "                                                                 \n",
            " conv1d (Conv1D)             (None, 35, 50)            10050     \n",
            "                                                                 \n",
            " global_max_pooling1d (Globa  (None, 50)               0         \n",
            " lMaxPooling1D)                                                  \n",
            "                                                                 \n",
            " dense (Dense)               (None, 352)               17952     \n",
            "                                                                 \n",
            " dropout (Dropout)           (None, 352)               0         \n",
            "                                                                 \n",
            " dense_1 (Dense)             (None, 352)               124256    \n",
            "                                                                 \n",
            " dropout_1 (Dropout)         (None, 352)               0         \n",
            "                                                                 \n",
            " activation (Activation)     (None, 352)               0         \n",
            "                                                                 \n",
            " dense_2 (Dense)             (None, 3)                 1059      \n",
            "                                                                 \n",
            "=================================================================\n",
            "Total params: 1,533,517\n",
            "Trainable params: 153,317\n",
            "Non-trainable params: 1,380,200\n",
            "_________________________________________________________________\n"
          ]
        }
      ]
    },
    {
      "cell_type": "code",
      "source": [
        "# Show the optimal hyperparameters \n",
        "\n",
        "best_hps.values"
      ],
      "metadata": {
        "colab": {
          "base_uri": "https://localhost:8080/"
        },
        "id": "1iz0GPuiHycX",
        "outputId": "67c6843c-a01a-4b98-d548-c6f51f691c29"
      },
      "execution_count": null,
      "outputs": [
        {
          "output_type": "execute_result",
          "data": {
            "text/plain": [
              "{'kernel_size': 2,\n",
              " 'conv_filters': 50,\n",
              " 'adam_learning_rate': 0.001,\n",
              " 'dense_units': 352,\n",
              " 'dropout_value': 0.1,\n",
              " 'num_intermediate_layers': 2,\n",
              " 'tuner/epochs': 4,\n",
              " 'tuner/initial_epoch': 0,\n",
              " 'tuner/bracket': 0,\n",
              " 'tuner/round': 0}"
            ]
          },
          "metadata": {},
          "execution_count": 20
        }
      ]
    },
    {
      "cell_type": "code",
      "source": [
        "# Build and train the model with the optimal hyperparameters\n",
        "\n",
        "checkpoint = ModelCheckpoint('model2-{epoch:03d}-{val_loss:03f}.h5', verbose=1, monitor='val_loss', save_best_only=True, mode='auto')\n",
        "\n",
        "model_hp = tuner.hypermodel.build(best_hps)\n",
        "model_hp.fit(X_train, y_train, \n",
        "           validation_data=(X_val, y_val), \n",
        "           epochs=8,\n",
        "           batch_size=32,\n",
        "           callbacks=[checkpoint], verbose=1) "
      ],
      "metadata": {
        "colab": {
          "base_uri": "https://localhost:8080/"
        },
        "id": "s3hUl08ZGAG0",
        "outputId": "c6b1d1e3-66a8-424e-fa40-5d30b1e26770"
      },
      "execution_count": null,
      "outputs": [
        {
          "output_type": "stream",
          "name": "stdout",
          "text": [
            "Epoch 1/8\n",
            "1733/1737 [============================>.] - ETA: 0s - loss: 0.1541 - mse: 0.1541\n",
            "Epoch 1: val_loss improved from inf to 0.15155, saving model to model2-001-0.151547.h5\n",
            "1737/1737 [==============================] - 8s 4ms/step - loss: 0.1541 - mse: 0.1541 - val_loss: 0.1515 - val_mse: 0.1515\n",
            "Epoch 2/8\n",
            "1732/1737 [============================>.] - ETA: 0s - loss: 0.1494 - mse: 0.1494\n",
            "Epoch 2: val_loss improved from 0.15155 to 0.15149, saving model to model2-002-0.151487.h5\n",
            "1737/1737 [==============================] - 8s 4ms/step - loss: 0.1493 - mse: 0.1493 - val_loss: 0.1515 - val_mse: 0.1515\n",
            "Epoch 3/8\n",
            "1728/1737 [============================>.] - ETA: 0s - loss: 0.1473 - mse: 0.1473\n",
            "Epoch 3: val_loss improved from 0.15149 to 0.15092, saving model to model2-003-0.150918.h5\n",
            "1737/1737 [==============================] - 7s 4ms/step - loss: 0.1473 - mse: 0.1473 - val_loss: 0.1509 - val_mse: 0.1509\n",
            "Epoch 4/8\n",
            "1735/1737 [============================>.] - ETA: 0s - loss: 0.1455 - mse: 0.1455\n",
            "Epoch 4: val_loss improved from 0.15092 to 0.15007, saving model to model2-004-0.150066.h5\n",
            "1737/1737 [==============================] - 9s 5ms/step - loss: 0.1455 - mse: 0.1455 - val_loss: 0.1501 - val_mse: 0.1501\n",
            "Epoch 5/8\n",
            "1734/1737 [============================>.] - ETA: 0s - loss: 0.1436 - mse: 0.1436\n",
            "Epoch 5: val_loss improved from 0.15007 to 0.14987, saving model to model2-005-0.149872.h5\n",
            "1737/1737 [==============================] - 9s 5ms/step - loss: 0.1436 - mse: 0.1436 - val_loss: 0.1499 - val_mse: 0.1499\n",
            "Epoch 6/8\n",
            "1724/1737 [============================>.] - ETA: 0s - loss: 0.1416 - mse: 0.1416\n",
            "Epoch 6: val_loss did not improve from 0.14987\n",
            "1737/1737 [==============================] - 7s 4ms/step - loss: 0.1417 - mse: 0.1417 - val_loss: 0.1502 - val_mse: 0.1502\n",
            "Epoch 7/8\n",
            "1727/1737 [============================>.] - ETA: 0s - loss: 0.1399 - mse: 0.1399\n",
            "Epoch 7: val_loss did not improve from 0.14987\n",
            "1737/1737 [==============================] - 7s 4ms/step - loss: 0.1399 - mse: 0.1399 - val_loss: 0.1510 - val_mse: 0.1510\n",
            "Epoch 8/8\n",
            "1733/1737 [============================>.] - ETA: 0s - loss: 0.1379 - mse: 0.1379\n",
            "Epoch 8: val_loss did not improve from 0.14987\n",
            "1737/1737 [==============================] - 8s 4ms/step - loss: 0.1379 - mse: 0.1379 - val_loss: 0.1501 - val_mse: 0.1501\n"
          ]
        },
        {
          "output_type": "execute_result",
          "data": {
            "text/plain": [
              "<keras.callbacks.History at 0x7fc818525df0>"
            ]
          },
          "metadata": {},
          "execution_count": 21
        }
      ]
    },
    {
      "cell_type": "code",
      "source": [
        "# Summarize history for loss\n",
        "\n",
        "plt.plot(model_hp.history.history['loss'])\n",
        "plt.plot(model_hp.history.history['val_loss'])\n",
        "plt.title('Training and Validation Loss')\n",
        "plt.ylabel('Loss')\n",
        "plt.xlabel('Epoch')\n",
        "plt.legend(['Training', 'Validation'], loc='upper right')\n",
        "plt.show()"
      ],
      "metadata": {
        "colab": {
          "base_uri": "https://localhost:8080/",
          "height": 295
        },
        "id": "elc3Rz7ec6S4",
        "outputId": "dd223230-5e71-4887-e441-8e98af9ac0e6"
      },
      "execution_count": null,
      "outputs": [
        {
          "output_type": "display_data",
          "data": {
            "text/plain": [
              "<Figure size 432x288 with 1 Axes>"
            ],
            "image/png": "[encoded data removed]"
          },
          "metadata": {
            "needs_background": "light"
          }
        }
      ]
    },
    {
      "cell_type": "markdown",
      "source": [
        "# 9. Testing the optimized CNN on the hold-out partition"
      ],
      "metadata": {
        "id": "zH0RYVS7xASl"
      }
    },
    {
      "cell_type": "code",
      "source": [
        "# Predicting with the optimized CNN\n",
        "\n",
        "model_pred_2 = model_hp.predict(X_test)"
      ],
      "metadata": {
        "colab": {
          "base_uri": "https://localhost:8080/"
        },
        "id": "Wd7kjchuDzpC",
        "outputId": "78bf0cb4-d93c-45f1-9e39-296ccc5a6c4a"
      },
      "execution_count": null,
      "outputs": [
        {
          "output_type": "stream",
          "name": "stdout",
          "text": [
            "373/373 [==============================] - 1s 2ms/step\n"
          ]
        }
      ]
    },
    {
      "cell_type": "code",
      "source": [
        "# Evaluating with MAE\n",
        "\n",
        "print('MAE (ALL) ', mean_absolute_error(y_test, model_pred_2), ' \\n')\n",
        "print('MAE (PP): ', list(mean_absolute_error(y_test, model_pred_2, multioutput='raw_values'))[0])\n",
        "print('MAE (SP): ', list(mean_absolute_error(y_test, model_pred_2, multioutput='raw_values'))[1])\n",
        "print('MAE (MC): ', list(mean_absolute_error(y_test, model_pred_2, multioutput='raw_values'))[2])"
      ],
      "metadata": {
        "colab": {
          "base_uri": "https://localhost:8080/"
        },
        "id": "6badkc5ETTEi",
        "outputId": "a45cef95-3af2-4daa-e28a-0e0c7cedca93"
      },
      "execution_count": null,
      "outputs": [
        {
          "output_type": "stream",
          "name": "stdout",
          "text": [
            "MAE (ALL)  0.3343011733109483  \n",
            "\n",
            "MAE (PP):  0.2614793595326635\n",
            "MAE (SP):  0.376425691485377\n",
            "MAE (MC):  0.3649984689148044\n"
          ]
        }
      ]
    },
    {
      "cell_type": "code",
      "source": [
        "# Evaluating with RMSE\n",
        "\n",
        "print('RMSE (ALL) ', mean_squared_error(y_test, model_pred_2), ' \\n')\n",
        "print('RMSE (PP): ', list(mean_squared_error(y_test, model_pred_2, squared=False, multioutput='raw_values'))[0])\n",
        "print('RMSE (SP): ', list(mean_squared_error(y_test, model_pred_2, squared=False, multioutput='raw_values'))[1])\n",
        "print('RMSE (MC): ', list(mean_squared_error(y_test, model_pred_2, squared=False, multioutput='raw_values'))[2])"
      ],
      "metadata": {
        "colab": {
          "base_uri": "https://localhost:8080/"
        },
        "id": "xFTJbGvTc84p",
        "outputId": "075a2092-aae4-4c29-c694-ed362d028e7b"
      },
      "execution_count": null,
      "outputs": [
        {
          "output_type": "stream",
          "name": "stdout",
          "text": [
            "RMSE (ALL)  0.1501921119661304  \n",
            "\n",
            "RMSE (PP):  0.32502533579675685\n",
            "RMSE (SP):  0.4198586956009183\n",
            "RMSE (MC):  0.41067449728086597\n"
          ]
        }
      ]
    },
    {
      "cell_type": "code",
      "source": [
        "# Evaluating with R2\n",
        "\n",
        "from sklearn.metrics import r2_score\n",
        "\n",
        "print('R2 (ALL) ', r2_score(y_test, model_pred_2), ' \\n')\n",
        "print('R2 (PP): ', list(r2_score(y_test, model_pred_2, multioutput='raw_values'))[0])\n",
        "print('R2 (SP): ', list(r2_score(y_test, model_pred_2, multioutput='raw_values'))[1])\n",
        "print('R2 (MC): ', list(r2_score(y_test, model_pred_2, multioutput='raw_values'))[2])"
      ],
      "metadata": {
        "colab": {
          "base_uri": "https://localhost:8080/"
        },
        "id": "sqvAcZnudX4Z",
        "outputId": "338a521c-1329-4360-9a0b-c4b7f1610b65"
      },
      "execution_count": null,
      "outputs": [
        {
          "output_type": "stream",
          "name": "stdout",
          "text": [
            "R2 (ALL)  0.03671102686566696  \n",
            "\n",
            "R2 (PP):  0.023206468139489567\n",
            "R2 (SP):  0.056471148463256404\n",
            "R2 (MC):  0.030455463994254917\n"
          ]
        }
      ]
    }
  ]
}