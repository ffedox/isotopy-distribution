{
  "nbformat": 4,
  "nbformat_minor": 0,
  "metadata": {
    "colab": {
      "provenance": [],
      "collapsed_sections": [
        "_iVGobKxOBhq"
      ],
      "toc_visible": true,
      "include_colab_link": true
    },
    "kernelspec": {
      "name": "python3",
      "display_name": "Python 3"
    },
    "gpuClass": "standard",
    "accelerator": "GPU"
  },
  "cells": [
    {
      "cell_type": "markdown",
      "metadata": {
        "id": "view-in-github",
        "colab_type": "text"
      },
      "source": [
        "<a href=\"https://colab.research.google.com/github/ffedox/nlp/blob/main/Regression_with_BERT.ipynb\" target=\"_parent\"><img src=\"https://colab.research.google.com/assets/colab-badge.svg\" alt=\"Open In Colab\"/></a>"
      ]
    },
    {
      "cell_type": "markdown",
      "metadata": {
        "id": "2WJfM6R9w_K8"
      },
      "source": [
        "# Regression with BERT\n"
      ]
    },
    {
      "cell_type": "markdown",
      "metadata": {
        "id": "WLKcxpYaE8ub"
      },
      "source": [
        "# 1. Setup"
      ]
    },
    {
      "cell_type": "markdown",
      "metadata": {
        "id": "4mxB8Ag1FCE3"
      },
      "source": [
        "## 1.1. Enabling the GPU on Colab"
      ]
    },
    {
      "cell_type": "markdown",
      "source": [
        "Checking if there is a GPU available and setting the `device` to \"cuda\" if there is one."
      ],
      "metadata": {
        "id": "5bNbpXEtTvVJ"
      }
    },
    {
      "cell_type": "code",
      "metadata": {
        "id": "24GNUdYRE-jv",
        "colab": {
          "base_uri": "https://localhost:8080/"
        },
        "outputId": "4144ee6e-f1a4-4e4c-a920-a1f21765d22d"
      },
      "source": [
        "import torch\n",
        "\n",
        "# If there's a GPU avaiable, tell PyTorch to use the GPU,\n",
        "# otherwise, using the CPU instead.\n",
        "if torch.cuda.is_available():\n",
        "  device = torch.device(\"cuda\")\n",
        "  print('Found GPU:', torch.cuda.get_device_name(0))\n",
        "else:\n",
        "  device = torch.device(\"cpu\")\n",
        "  print('CPU will be used because no GPU available.')"
      ],
      "execution_count": null,
      "outputs": [
        {
          "output_type": "stream",
          "name": "stdout",
          "text": [
            "Found GPU: Tesla T4\n"
          ]
        }
      ]
    },
    {
      "cell_type": "markdown",
      "metadata": {
        "id": "mdJoYx-IFZNL"
      },
      "source": [
        "## 1.2. Installing the Hugging Face Library"
      ]
    },
    {
      "cell_type": "markdown",
      "metadata": {
        "id": "n1Mf_l2gLo3g"
      },
      "source": [
        "Installing the PyTorch interface for BERT by Hugging Face."
      ]
    },
    {
      "cell_type": "code",
      "metadata": {
        "id": "8QbUEEkwLoCt"
      },
      "source": [
        "!pip install transformers --quiet"
      ],
      "execution_count": null,
      "outputs": []
    },
    {
      "cell_type": "markdown",
      "metadata": {
        "id": "OniLT7F0Fns5"
      },
      "source": [
        "# 2. Loading the Grey's Anatomy Dataset"
      ]
    },
    {
      "cell_type": "code",
      "source": [
        "from google.colab import drive\n",
        "drive.mount('/content/drive')"
      ],
      "metadata": {
        "colab": {
          "base_uri": "https://localhost:8080/"
        },
        "id": "QbpaOOtf2E2W",
        "outputId": "5590f365-ecdf-4a3f-8507-607f9795979a"
      },
      "execution_count": null,
      "outputs": [
        {
          "output_type": "stream",
          "name": "stdout",
          "text": [
            "Drive already mounted at /content/drive; to attempt to forcibly remount, call drive.mount(\"/content/drive\", force_remount=True).\n"
          ]
        }
      ]
    },
    {
      "cell_type": "code",
      "metadata": {
        "id": "JuCsdGNh47_S"
      },
      "source": [
        "import pandas as pd\n",
        "\n",
        "# Load the dataset into a pandas dataframe.\n",
        "data = pd.read_excel('/content/drive/MyDrive/DAR/greys_anatomy_data_train_val_test.xlsx', index_col=0)"
      ],
      "execution_count": null,
      "outputs": []
    },
    {
      "cell_type": "code",
      "source": [
        "# Get train, val and test indexes.\n",
        "train_indexes = data.index[data['data_type'] == 'train'].tolist()\n",
        "val_indexes = data.index[data['data_type'] == 'val'].tolist()\n",
        "test_indexes = data.index[data['data_type'] == 'test'].tolist()\n",
        "\n",
        "# Get the lists of sentences and their labels.\n",
        "sentences = data.subtitle_text.values\n",
        "labels = data[['pp', 'sp', 'mc']].values"
      ],
      "metadata": {
        "id": "qIv1qMIC2XfI"
      },
      "execution_count": null,
      "outputs": []
    },
    {
      "cell_type": "markdown",
      "metadata": {
        "id": "lZSNd4sWG3jx"
      },
      "source": [
        "# 3. Tokenization & Input Formatting"
      ]
    },
    {
      "cell_type": "markdown",
      "metadata": {
        "id": "1m9jpFqPHCsS"
      },
      "source": [
        "## 3.1. BERT Tokenizer"
      ]
    },
    {
      "cell_type": "markdown",
      "source": [
        "Using the `transformers` library to load the `BertTokenizer`."
      ],
      "metadata": {
        "id": "OgBpk7twTzaI"
      }
    },
    {
      "cell_type": "code",
      "metadata": {
        "id": "T9GQcNm9RUI6",
        "colab": {
          "base_uri": "https://localhost:8080/"
        },
        "outputId": "74587225-de90-4a2a-a554-a4081c82b103"
      },
      "source": [
        "from transformers import BertTokenizer, BertModel, AdamW\n",
        "\n",
        "# Load the BERT tokenizer.\n",
        "print('Loading BERT tokenizer...')\n",
        "\n",
        "# Uncased means that the text has been lower cased before Word Piece\n",
        "# tokenization, e.g., John Smith becomes john smith. The Uncased model also\n",
        "# strips out any accent markers.\n",
        "bert_pretrained_model_name = 'bert-base-uncased'\n",
        "tokenizer = BertTokenizer.from_pretrained(bert_pretrained_model_name)#, do_lower_case=True)"
      ],
      "execution_count": null,
      "outputs": [
        {
          "output_type": "stream",
          "name": "stdout",
          "text": [
            "Loading BERT tokenizer...\n"
          ]
        }
      ]
    },
    {
      "cell_type": "markdown",
      "metadata": {
        "id": "MBaX4Rg6HSWu"
      },
      "source": [
        "## 3.2. Tokenize Dataset"
      ]
    },
    {
      "cell_type": "markdown",
      "metadata": {
        "id": "Gi-pNicXahW_"
      },
      "source": [
        "Perform one tokenization pass of the dataset in order to measure the maximum sentence length."
      ]
    },
    {
      "cell_type": "code",
      "metadata": {
        "id": "VXH-KvBoaZOs"
      },
      "source": [
        "def get_max_sentence_length(sentences):\n",
        "\n",
        "  max_len = 0\n",
        "\n",
        "  # For every sentence...\n",
        "  for sent in sentences:\n",
        "\n",
        "      # Tokenize the text and add '[CLS]' and '[SEP]' tokens.\n",
        "      input_ids = tokenizer.encode(sent, add_special_tokens=True)\n",
        "\n",
        "      # Update the maximum sentence length.\n",
        "      max_len = max(max_len, len(input_ids))\n",
        "\n",
        "  return max_len\n",
        "\n",
        "max_sentence_length = get_max_sentence_length(sentences)"
      ],
      "execution_count": null,
      "outputs": []
    },
    {
      "cell_type": "markdown",
      "source": [
        "Using the `tokenizer.batch_encode_plus` method to encode (i.e., convert into numerical representations) the two datasets: the training dataset and the validation dataset. The following parameters are used:\n",
        "\n",
        "\n",
        "*   `add_special_tokens=True` adds special tokens such as [CLS] and [SEP] to the beginning and end of each sentence.\n",
        "*   `return_attention_mask=True` returns a tensor indicating the attention mask, which is used to tell the model where the sentence ends.\n",
        "*   `max_length` sets the maximum length for the encoded sentences, with longer sentences truncated and shorter sentences padded to this length.\n",
        "*   `truncation=True` explicitly truncates sentences to the max_length.\n",
        "*   `padding='max_length'` specifies that padding should be added to sentences to reach the max_length.\n",
        "*   `return_tensors='pt'` specifies that PyTorch tensors should be returned.\n"
      ],
      "metadata": {
        "id": "CeeEcLL-T3Ck"
      }
    },
    {
      "cell_type": "code",
      "source": [
        "# Encode training dataset using the tokenizer.\n",
        "encoded_data_train = tokenizer.batch_encode_plus(\n",
        "    data[data.data_type == 'train'].subtitle_text.values,\n",
        "    add_special_tokens=True,\n",
        "    return_attention_mask=True,  # So we know when a sentence is finished.\n",
        "    max_length=max_sentence_length,\n",
        "    truncation=True,            # Explicitely truncate sentences to max length.\n",
        "    padding='max_length',\n",
        "    return_tensors='pt'\n",
        ")\n",
        "\n",
        "# Encode validation dataset using the tokenizer.\n",
        "encoded_data_val = tokenizer.batch_encode_plus(\n",
        "    data[data.data_type == 'val'].subtitle_text.values,\n",
        "    add_special_tokens=True,\n",
        "    return_attention_mask=True,  \n",
        "    max_length=max_sentence_length,\n",
        "    truncation=True, \n",
        "    padding='max_length',\n",
        "    return_tensors='pt'\n",
        ")"
      ],
      "metadata": {
        "id": "RlGAiGVySCH8"
      },
      "execution_count": null,
      "outputs": []
    },
    {
      "cell_type": "markdown",
      "source": [
        "Extracting `input_ids`, `attention_masks`, and `labels` from each dataset."
      ],
      "metadata": {
        "id": "M4CfdzciT6Hs"
      }
    },
    {
      "cell_type": "markdown",
      "source": [
        "`input_ids` are numerical representations of a text sequence. They are usually obtained by encoding the words of a text sequence using a pre-trained tokenizer. Each word is represented by a unique numerical identifier (token), and the sequence of tokens represents the text sequence."
      ],
      "metadata": {
        "id": "r_GiqypmT82u"
      }
    },
    {
      "cell_type": "markdown",
      "source": [
        "`attention_masks` are binary arrays that indicate which elements of the input_ids are real tokens and which are padding. The attention mask is used to distinguish real tokens from padding elements."
      ],
      "metadata": {
        "id": "ZjMx_KZfT-aq"
      }
    },
    {
      "cell_type": "code",
      "source": [
        "from torch.utils.data import TensorDataset\n",
        "\n",
        "# Extract IDs, attention masks and labels from training dataset.\n",
        "input_ids_train = encoded_data_train['input_ids']\n",
        "attention_masks_train = encoded_data_train['attention_mask']\n",
        "labels_train = torch.tensor(data[data.data_type == 'train'][['pp', 'sp', 'mc']].values, dtype=torch.float32)\n",
        "labels_train\n",
        "\n",
        "# Extract IDs, attention masks and labels from validation dataset.\n",
        "input_ids_val = encoded_data_val['input_ids']\n",
        "attention_masks_val = encoded_data_val['attention_mask']\n",
        "labels_val = torch.tensor(data[data.data_type == 'val'][['pp', 'sp', 'mc']].values, dtype=torch.float32)\n",
        "     \n",
        "# Create train and validation dataset from extracted features.\n",
        "dataset_train = TensorDataset(input_ids_train, attention_masks_train, labels_train)\n",
        "dataset_val = TensorDataset(input_ids_val, attention_masks_val, labels_val)\n",
        "print(\"Train dataset length: {}\\nValidation dataset length: {}\".format(len(dataset_train), len(dataset_val)))"
      ],
      "metadata": {
        "colab": {
          "base_uri": "https://localhost:8080/"
        },
        "id": "k--x4iNnS96Q",
        "outputId": "6d6b95e3-d5e0-46c6-ab50-24bfe985bb84"
      },
      "execution_count": null,
      "outputs": [
        {
          "output_type": "stream",
          "name": "stdout",
          "text": [
            "Train dataset length: 55567\n",
            "Validation dataset length: 11907\n"
          ]
        }
      ]
    },
    {
      "cell_type": "markdown",
      "metadata": {
        "id": "0r846BmV2G6N"
      },
      "source": [
        "Creating an iterator for the dataset using the torch `DataLoader` class. This helps save on memory during training because, unlike a for loop, an iterator does not load into memory the entire dataset."
      ]
    },
    {
      "cell_type": "code",
      "source": [
        "from torch.utils.data import DataLoader\n",
        "\n",
        "# The DataLoader needs to know the batch size for training, so it is specified  \n",
        "# here. For fine-tuning BERT on a specific task, the authors recommend a batch \n",
        "# size of 16 or 32.\n",
        "batch_size = 32\n",
        "\n",
        "# Creating the DataLoaders for our training and validation sets.\n",
        "# Taking training samples in random order. \n",
        "train_dataloader = DataLoader(\n",
        "    dataset_train,  # The training samples.\n",
        "    shuffle = True, # Select batches randomly.\n",
        "    batch_size = batch_size)  # Train with this batch size.\n",
        "\n",
        "# For validation the order doesn't matter, so they are processed sequentially.\n",
        "val_dataloader = DataLoader(\n",
        "    dataset_val,  # The validation samples.\n",
        "    shuffle = False,  # Default: Pull out batches sequentially.\n",
        "    batch_size = batch_size)  # Evaluate with this batch size."
      ],
      "metadata": {
        "id": "tFZOLsIDX6-r"
      },
      "execution_count": null,
      "outputs": []
    },
    {
      "cell_type": "markdown",
      "metadata": {
        "id": "OCpQIk8XHsvv"
      },
      "source": [
        "# 4. Training the Model"
      ]
    },
    {
      "cell_type": "markdown",
      "metadata": {
        "id": "VG0BP-gkIE_q"
      },
      "source": [
        "## 4.1. Creating a Bert model with a regression layer on top"
      ]
    },
    {
      "cell_type": "markdown",
      "source": [
        "Defining a custom PyTorch module for regression. It combines a pre-trained BERT model with a linear layer to predict the outputs."
      ],
      "metadata": {
        "id": "pHdeYXgOUB1a"
      }
    },
    {
      "cell_type": "markdown",
      "source": [
        "In the `init` method, the code instantiates the pre-trained BERT model using the `bert_pretrained_model_name` as a parameter. Then, a linear layer with `output_size` output units is added on top of the BERT model to perform the sequence regression. "
      ],
      "metadata": {
        "id": "138O-uIiUCo4"
      }
    },
    {
      "cell_type": "markdown",
      "source": [
        "The `forward` method is called when the model is used to make predictions on a batch of input data."
      ],
      "metadata": {
        "id": "5oMtnnw-UDkg"
      }
    },
    {
      "cell_type": "markdown",
      "source": [
        "In the `forward` method, the BERT model is called with the `input_sentence` and `input_mask` arguments to produce a hidden representation of the input sentence, which is stored in the `last_hidden_states` variable. The `last_hidden_states` tensor is then passed through a linear layer, represented by the `self.out` variable, to produce the predictions. Finally, the `torch.sigmoid` function is applied to the predictions to constrain the output values within the [0,1] range."
      ],
      "metadata": {
        "id": "OeN-CNF-UEg5"
      }
    },
    {
      "cell_type": "markdown",
      "source": [
        "In summary, the `forward` method of the `BertForSequenceRegression` class takes an input sentence and its corresponding attention mask, passes the input through a pre-trained BERT model, and outputs a prediction for the target variable, which has been constrained within the [0,1] range using the sigmoid function."
      ],
      "metadata": {
        "id": "q5W6_h1cUFRn"
      }
    },
    {
      "cell_type": "code",
      "source": [
        "import torch.nn as nn\n",
        "\n",
        "# Bert Model transformer with a sequence regression head on top (a linear\n",
        "# layer on top of the pooled output).\n",
        "class BertForSequenceRegression(nn.Module):\n",
        "  def __init__(self, bert_pretrained_model_name, output_size):\n",
        "    super(BertForSequenceRegression, self).__init__()\n",
        "    self.bert = BertModel.from_pretrained(bert_pretrained_model_name,\n",
        "                                          output_attentions = False,\n",
        "                                          output_hidden_states = False)\n",
        "    self.out = nn.Linear(self.bert.config.hidden_size, output_size)\n",
        "\n",
        "  def forward(self, input_sentence, input_mask):\n",
        "    last_hidden_states = self.bert(input_sentence, attention_mask=input_mask)[1]\n",
        "    output = self.out(last_hidden_states)\n",
        "    output = torch.sigmoid(output) # Using a sigmoid in the output layer\n",
        "    return output\n",
        "\n",
        "model = BertForSequenceRegression(bert_pretrained_model_name, output_size=3)\n",
        "\n",
        "# Tell pytorch to run this model on the GPU\n",
        "model.to(device)"
      ],
      "metadata": {
        "id": "cOFxZJJA1J7a"
      },
      "execution_count": null,
      "outputs": []
    },
    {
      "cell_type": "markdown",
      "metadata": {
        "id": "mVTz-k9PH-5d"
      },
      "source": [
        "## 4.2. Training Loop"
      ]
    },
    {
      "cell_type": "markdown",
      "metadata": {
        "id": "Eo1LuJn7NdPH"
      },
      "source": [
        "Helper function for formatting elapsed times as hh:mm:ss."
      ]
    },
    {
      "cell_type": "code",
      "metadata": {
        "id": "LGqWolARNcX7"
      },
      "source": [
        "import time\n",
        "import datetime\n",
        "\n",
        "def format_time(elapsed):\n",
        "    '''\n",
        "    Takes a time in seconds and returns a string hh:mm:ss\n",
        "    '''\n",
        "    # Round to the nearest second.\n",
        "    elapsed_rounded = int(round((elapsed)))\n",
        "    \n",
        "    # Format as hh:mm:ss\n",
        "    return str(datetime.timedelta(seconds=elapsed_rounded))"
      ],
      "execution_count": null,
      "outputs": []
    },
    {
      "cell_type": "markdown",
      "source": [
        "Defining the training loop for the model. The model is trained on the provided training dataset for 2 epochs. The Adam optimizer is used to update the model's parameters based on the loss, which is calculated using the mean squared error loss. The training loop also measures and reports the average training loss and the time it took to complete each epoch. After each training epoch, the code performs a validation step on a validation dataset, calculating the loss on the validation set and storing the results in `training_stats`."
      ],
      "metadata": {
        "id": "kUshm1HhUH42"
      }
    },
    {
      "cell_type": "code",
      "metadata": {
        "id": "iKkR-6VIUCMv",
        "colab": {
          "base_uri": "https://localhost:8080/"
        },
        "outputId": "93824571-b8f0-4f7f-efad-053901512c3c"
      },
      "source": [
        "import torch.optim as optim\n",
        "\n",
        "# Optimizer (lr options: 2e-5, 3e-5, 5e-5)\n",
        "optimizer = optim.Adam(model.parameters(), lr=2e-5, eps=1e-8)\n",
        "\n",
        "epochs = 2\n",
        "\n",
        "# Loss function\n",
        "criterion = torch.nn.MSELoss() \n",
        "\n",
        "# Storing statistics such as training loss and timings\n",
        "training_stats = []\n",
        "\n",
        "# Measuring the total training time for the whole run\n",
        "total_t0 = time.time()\n",
        "\n",
        "# For each epoch...\n",
        "for epoch_i in range(0, epochs):\n",
        "  # ========================================\n",
        "  #               Training\n",
        "  # ========================================\n",
        "    \n",
        "  # Perform one full pass over the training set.\n",
        "  \n",
        "  print(\"\")\n",
        "  print('======== Epoch {:} / {:} ========'.format(epoch_i + 1, epochs))\n",
        "  print('Training...')\n",
        "\n",
        "  # Measure how long the training epoch takes.\n",
        "  t0 = time.time()\n",
        "\n",
        "  # Reset the total loss for this epoch.\n",
        "  total_train_loss = 0\n",
        "\n",
        "  # Put the model into training mode.\n",
        "  # Dropout layers behave differently during training vs. eval mode.\n",
        "  model.train()\n",
        "\n",
        "  # For each batch of training data...\n",
        "  for step, batch in enumerate(train_dataloader):\n",
        "    \n",
        "    # Progress update every 40 batches.\n",
        "    if step % 40 == 0 and not step == 0:\n",
        "      # Calculate elapsed time in minutes.\n",
        "      elapsed = format_time(time.time() - t0)\n",
        "            \n",
        "      # Report progress.\n",
        "      print('  Batch {:>5,}  of  {:>5,}.    Elapsed: {:}.'.format(step, len(train_dataloader), elapsed))\n",
        "\n",
        "\n",
        "    # Unpack this training batch from our dataloader. \n",
        "    #\n",
        "    # As we unpack the batch, we'll also copy each tensor to the GPU using the \n",
        "    # `to` method.\n",
        "    #\n",
        "    # `batch` contains three pytorch tensors:\n",
        "    #   [0]: input ids \n",
        "    #   [1]: attention masks\n",
        "    #   [2]: labels \n",
        "    b_input_ids = batch[0].to(device)\n",
        "    b_input_mask = batch[1].to(device)\n",
        "    b_labels = batch[2].to(device)\n",
        "\n",
        "    # zero gradients\n",
        "    optimizer.zero_grad()\n",
        "    model.zero_grad()  \n",
        "\n",
        "    # Perform a forward pass (evaluate the model on this training batch).\n",
        "    output = model(b_input_ids, b_input_mask)\n",
        "\n",
        "    # loss\n",
        "    loss = criterion(output.view(-1), b_labels.view(-1))\n",
        "      \n",
        "    # Accumulate the training loss over all of the batches so that we can\n",
        "    # calculate the average loss at the end. `loss` is a Tensor containing a\n",
        "    # single value; the `.item()` function just returns the Python value \n",
        "    # from the tensor.\n",
        "    total_train_loss += loss.item()\n",
        "\n",
        "    # Perform a backward pass to calculate the gradients.\n",
        "    loss.backward()\n",
        "\n",
        "    # Update parameters and take a step using the computed gradient.\n",
        "    # The optimizer dictates the \"update rule\"--how the parameters are\n",
        "    # modified based on their gradients, the learning rate, etc.\n",
        "    optimizer.step()\n",
        "\n",
        "  # Calculate the average loss over all of the batches.\n",
        "  avg_train_loss = total_train_loss / len(train_dataloader)\n",
        "\n",
        "  # Measure how long this epoch took.\n",
        "  training_time = format_time(time.time() - t0)\n",
        "\n",
        "  print(\"\")\n",
        "  print(\"  Average training loss: {0:.2f}\".format(avg_train_loss))\n",
        "  print(\"  Training epoch took: {:}\".format(training_time))\n",
        "  \n",
        "  # ========================================\n",
        "  #               Validation\n",
        "  # ========================================\n",
        "  # After the completion of each training epoch, measure the performance on\n",
        "  # the validation set.\n",
        "\n",
        "  print(\"\")\n",
        "  print(\"Running Validation...\")\n",
        "\n",
        "  t0 = time.time()\n",
        "\n",
        "  model.eval()\n",
        "\n",
        "  # Tracking variables \n",
        "  total_eval_accuracy = 0\n",
        "  total_eval_loss = 0\n",
        "  nb_eval_steps = 0\n",
        "\n",
        "  # Evaluate data for one epoch\n",
        "  for batch in val_dataloader:\n",
        "\n",
        "    # Unpack this training batch from the dataloader. \n",
        "    #\n",
        "    # As we unpack the batch, we'll also copy each tensor to the GPU using \n",
        "    # the `to` method.\n",
        "    #\n",
        "    # `batch` contains three pytorch tensors:\n",
        "    #   [0]: input ids \n",
        "    #   [1]: attention masks\n",
        "    #   [2]: labels \n",
        "    b_input_ids = batch[0].to(device)\n",
        "    b_input_mask = batch[1].to(device)\n",
        "    b_labels = batch[2].to(device)\n",
        "\n",
        "    # Tell pytorch not to bother with constructing the compute graph during\n",
        "    # the forward pass, since this is only needed for backprop (training).\n",
        "    with torch.no_grad():\n",
        "      \n",
        "      # Perform a forward pass\n",
        "      output = model(b_input_ids, b_input_mask)\n",
        "\n",
        "    # loss\n",
        "    loss = criterion(output.view(-1), b_labels.view(-1))\n",
        "\n",
        "    # Accumulate the development loss.\n",
        "    total_eval_loss += loss.item()\n",
        "\n",
        "  # Calculate the average loss over all of the batches.\n",
        "  avg_val_loss = total_eval_loss / len(val_dataloader)\n",
        "\n",
        "  # Measure how long the development run took.\n",
        "  validation_time = format_time(time.time() - t0)\n",
        "\n",
        "  print(\"  Validation Loss: {0:.2f}\".format(avg_val_loss))\n",
        "  print(\"  Validation took: {:}\".format(validation_time))\n",
        "\n",
        "  # Record all statistics from this epoch.\n",
        "  training_stats.append(\n",
        "      {\n",
        "          'epoch': epoch_i + 1,\n",
        "          'Training Loss': avg_train_loss,\n",
        "          'Training Time': training_time,\n",
        "          'Valid. Loss': avg_val_loss,\n",
        "          'Validation Time': validation_time\n",
        "      })\n",
        "  \n",
        "print(\"\")\n",
        "print(\"Training complete!\")\n",
        "\n",
        "print(\"Total training took {:} (h:mm:ss)\".format(format_time(time.time()-total_t0)))"
      ],
      "execution_count": null,
      "outputs": [
        {
          "output_type": "stream",
          "name": "stdout",
          "text": [
            "\n",
            "======== Epoch 1 / 2 ========\n",
            "Training...\n",
            "  Batch    40  of  1,737.    Elapsed: 0:00:08.\n",
            "  Batch    80  of  1,737.    Elapsed: 0:00:16.\n",
            "  Batch   120  of  1,737.    Elapsed: 0:00:24.\n",
            "  Batch   160  of  1,737.    Elapsed: 0:00:33.\n",
            "  Batch   200  of  1,737.    Elapsed: 0:00:41.\n",
            "  Batch   240  of  1,737.    Elapsed: 0:00:49.\n",
            "  Batch   280  of  1,737.    Elapsed: 0:00:57.\n",
            "  Batch   320  of  1,737.    Elapsed: 0:01:05.\n",
            "  Batch   360  of  1,737.    Elapsed: 0:01:13.\n",
            "  Batch   400  of  1,737.    Elapsed: 0:01:21.\n",
            "  Batch   440  of  1,737.    Elapsed: 0:01:29.\n",
            "  Batch   480  of  1,737.    Elapsed: 0:01:37.\n",
            "  Batch   520  of  1,737.    Elapsed: 0:01:46.\n",
            "  Batch   560  of  1,737.    Elapsed: 0:01:54.\n",
            "  Batch   600  of  1,737.    Elapsed: 0:02:02.\n",
            "  Batch   640  of  1,737.    Elapsed: 0:02:10.\n",
            "  Batch   680  of  1,737.    Elapsed: 0:02:18.\n",
            "  Batch   720  of  1,737.    Elapsed: 0:02:26.\n",
            "  Batch   760  of  1,737.    Elapsed: 0:02:35.\n",
            "  Batch   800  of  1,737.    Elapsed: 0:02:43.\n",
            "  Batch   840  of  1,737.    Elapsed: 0:02:51.\n",
            "  Batch   880  of  1,737.    Elapsed: 0:02:59.\n",
            "  Batch   920  of  1,737.    Elapsed: 0:03:07.\n",
            "  Batch   960  of  1,737.    Elapsed: 0:03:15.\n",
            "  Batch 1,000  of  1,737.    Elapsed: 0:03:23.\n",
            "  Batch 1,040  of  1,737.    Elapsed: 0:03:31.\n",
            "  Batch 1,080  of  1,737.    Elapsed: 0:03:40.\n",
            "  Batch 1,120  of  1,737.    Elapsed: 0:03:48.\n",
            "  Batch 1,160  of  1,737.    Elapsed: 0:03:56.\n",
            "  Batch 1,200  of  1,737.    Elapsed: 0:04:04.\n",
            "  Batch 1,240  of  1,737.    Elapsed: 0:04:12.\n",
            "  Batch 1,280  of  1,737.    Elapsed: 0:04:20.\n",
            "  Batch 1,320  of  1,737.    Elapsed: 0:04:28.\n",
            "  Batch 1,360  of  1,737.    Elapsed: 0:04:37.\n",
            "  Batch 1,400  of  1,737.    Elapsed: 0:04:45.\n",
            "  Batch 1,440  of  1,737.    Elapsed: 0:04:53.\n",
            "  Batch 1,480  of  1,737.    Elapsed: 0:05:01.\n",
            "  Batch 1,520  of  1,737.    Elapsed: 0:05:09.\n",
            "  Batch 1,560  of  1,737.    Elapsed: 0:05:17.\n",
            "  Batch 1,600  of  1,737.    Elapsed: 0:05:25.\n",
            "  Batch 1,640  of  1,737.    Elapsed: 0:05:34.\n",
            "  Batch 1,680  of  1,737.    Elapsed: 0:05:42.\n",
            "  Batch 1,720  of  1,737.    Elapsed: 0:05:50.\n",
            "\n",
            "  Average training loss: 0.15\n",
            "  Training epoch took: 0:05:53\n",
            "\n",
            "Running Validation...\n",
            "  Validation Loss: 0.14\n",
            "  Validation took: 0:00:23\n",
            "\n",
            "======== Epoch 2 / 2 ========\n",
            "Training...\n",
            "  Batch    40  of  1,737.    Elapsed: 0:00:08.\n",
            "  Batch    80  of  1,737.    Elapsed: 0:00:16.\n",
            "  Batch   120  of  1,737.    Elapsed: 0:00:24.\n",
            "  Batch   160  of  1,737.    Elapsed: 0:00:33.\n",
            "  Batch   200  of  1,737.    Elapsed: 0:00:41.\n",
            "  Batch   240  of  1,737.    Elapsed: 0:00:49.\n",
            "  Batch   280  of  1,737.    Elapsed: 0:00:57.\n",
            "  Batch   320  of  1,737.    Elapsed: 0:01:05.\n",
            "  Batch   360  of  1,737.    Elapsed: 0:01:13.\n",
            "  Batch   400  of  1,737.    Elapsed: 0:01:21.\n",
            "  Batch   440  of  1,737.    Elapsed: 0:01:29.\n",
            "  Batch   480  of  1,737.    Elapsed: 0:01:38.\n",
            "  Batch   520  of  1,737.    Elapsed: 0:01:46.\n",
            "  Batch   560  of  1,737.    Elapsed: 0:01:54.\n",
            "  Batch   600  of  1,737.    Elapsed: 0:02:02.\n",
            "  Batch   640  of  1,737.    Elapsed: 0:02:10.\n",
            "  Batch   680  of  1,737.    Elapsed: 0:02:18.\n",
            "  Batch   720  of  1,737.    Elapsed: 0:02:26.\n",
            "  Batch   760  of  1,737.    Elapsed: 0:02:34.\n",
            "  Batch   800  of  1,737.    Elapsed: 0:02:43.\n",
            "  Batch   840  of  1,737.    Elapsed: 0:02:51.\n",
            "  Batch   880  of  1,737.    Elapsed: 0:02:59.\n",
            "  Batch   920  of  1,737.    Elapsed: 0:03:07.\n",
            "  Batch   960  of  1,737.    Elapsed: 0:03:15.\n",
            "  Batch 1,000  of  1,737.    Elapsed: 0:03:23.\n",
            "  Batch 1,040  of  1,737.    Elapsed: 0:03:31.\n",
            "  Batch 1,080  of  1,737.    Elapsed: 0:03:39.\n",
            "  Batch 1,120  of  1,737.    Elapsed: 0:03:48.\n",
            "  Batch 1,160  of  1,737.    Elapsed: 0:03:56.\n",
            "  Batch 1,200  of  1,737.    Elapsed: 0:04:04.\n",
            "  Batch 1,240  of  1,737.    Elapsed: 0:04:12.\n",
            "  Batch 1,280  of  1,737.    Elapsed: 0:04:20.\n",
            "  Batch 1,320  of  1,737.    Elapsed: 0:04:28.\n",
            "  Batch 1,360  of  1,737.    Elapsed: 0:04:36.\n",
            "  Batch 1,400  of  1,737.    Elapsed: 0:04:45.\n",
            "  Batch 1,440  of  1,737.    Elapsed: 0:04:53.\n",
            "  Batch 1,480  of  1,737.    Elapsed: 0:05:01.\n",
            "  Batch 1,520  of  1,737.    Elapsed: 0:05:09.\n",
            "  Batch 1,560  of  1,737.    Elapsed: 0:05:17.\n",
            "  Batch 1,600  of  1,737.    Elapsed: 0:05:25.\n",
            "  Batch 1,640  of  1,737.    Elapsed: 0:05:33.\n",
            "  Batch 1,680  of  1,737.    Elapsed: 0:05:41.\n",
            "  Batch 1,720  of  1,737.    Elapsed: 0:05:50.\n",
            "\n",
            "  Average training loss: 0.13\n",
            "  Training epoch took: 0:05:53\n",
            "\n",
            "Running Validation...\n",
            "  Validation Loss: 0.14\n",
            "  Validation took: 0:00:23\n",
            "\n",
            "Training complete!\n",
            "Total training took 0:12:31 (h:mm:ss)\n"
          ]
        }
      ]
    },
    {
      "cell_type": "code",
      "metadata": {
        "id": "46JdqZssf1Pu",
        "colab": {
          "base_uri": "https://localhost:8080/",
          "height": 143
        },
        "outputId": "2d6d9c98-87b7-4af2-cfa6-63382bacd0db"
      },
      "source": [
        "# Display floats with three decimal places.\n",
        "pd.set_option('precision', 4)\n",
        "\n",
        "# Create a DataFrame with the training statistics.\n",
        "df_stats = pd.DataFrame(data=training_stats)\n",
        "\n",
        "# Use the 'epoch' as the row index.\n",
        "df_stats = df_stats.set_index('epoch')\n",
        "\n",
        "# Display the table.\n",
        "df_stats"
      ],
      "execution_count": null,
      "outputs": [
        {
          "output_type": "execute_result",
          "data": {
            "text/plain": [
              "       Training Loss Training Time  Valid. Loss Validation Time\n",
              "epoch                                                          \n",
              "1             0.1470       0:05:53       0.1435         0:00:23\n",
              "2             0.1336       0:05:53       0.1433         0:00:23"
            ],
            "text/html": [
              "\n",
              "  <div id=\"df-4878031a-18a9-4aba-895f-15290dcf92fe\">\n",
              "    <div class=\"colab-df-container\">\n",
              "      <div>\n",
              "<style scoped>\n",
              "    .dataframe tbody tr th:only-of-type {\n",
              "        vertical-align: middle;\n",
              "    }\n",
              "\n",
              "    .dataframe tbody tr th {\n",
              "        vertical-align: top;\n",
              "    }\n",
              "\n",
              "    .dataframe thead th {\n",
              "        text-align: right;\n",
              "    }\n",
              "</style>\n",
              "<table border=\"1\" class=\"dataframe\">\n",
              "  <thead>\n",
              "    <tr style=\"text-align: right;\">\n",
              "      <th></th>\n",
              "      <th>Training Loss</th>\n",
              "      <th>Training Time</th>\n",
              "      <th>Valid. Loss</th>\n",
              "      <th>Validation Time</th>\n",
              "    </tr>\n",
              "    <tr>\n",
              "      <th>epoch</th>\n",
              "      <th></th>\n",
              "      <th></th>\n",
              "      <th></th>\n",
              "      <th></th>\n",
              "    </tr>\n",
              "  </thead>\n",
              "  <tbody>\n",
              "    <tr>\n",
              "      <th>1</th>\n",
              "      <td>0.1470</td>\n",
              "      <td>0:05:53</td>\n",
              "      <td>0.1435</td>\n",
              "      <td>0:00:23</td>\n",
              "    </tr>\n",
              "    <tr>\n",
              "      <th>2</th>\n",
              "      <td>0.1336</td>\n",
              "      <td>0:05:53</td>\n",
              "      <td>0.1433</td>\n",
              "      <td>0:00:23</td>\n",
              "    </tr>\n",
              "  </tbody>\n",
              "</table>\n",
              "</div>\n",
              "      <button class=\"colab-df-convert\" onclick=\"convertToInteractive('df-4878031a-18a9-4aba-895f-15290dcf92fe')\"\n",
              "              title=\"Convert this dataframe to an interactive table.\"\n",
              "              style=\"display:none;\">\n",
              "        \n",
              "  <svg xmlns=\"http://www.w3.org/2000/svg\" height=\"24px\"viewBox=\"0 0 24 24\"\n",
              "       width=\"24px\">\n",
              "    <path d=\"M0 0h24v24H0V0z\" fill=\"none\"/>\n",
              "    <path d=\"M18.56 5.44l.94 2.06.94-2.06 2.06-.94-2.06-.94-.94-2.06-.94 2.06-2.06.94zm-11 1L8.5 8.5l.94-2.06 2.06-.94-2.06-.94L8.5 2.5l-.94 2.06-2.06.94zm10 10l.94 2.06.94-2.06 2.06-.94-2.06-.94-.94-2.06-.94 2.06-2.06.94z\"/><path d=\"M17.41 7.96l-1.37-1.37c-.4-.4-.92-.59-1.43-.59-.52 0-1.04.2-1.43.59L10.3 9.45l-7.72 7.72c-.78.78-.78 2.05 0 2.83L4 21.41c.39.39.9.59 1.41.59.51 0 1.02-.2 1.41-.59l7.78-7.78 2.81-2.81c.8-.78.8-2.07 0-2.86zM5.41 20L4 18.59l7.72-7.72 1.47 1.35L5.41 20z\"/>\n",
              "  </svg>\n",
              "      </button>\n",
              "      \n",
              "  <style>\n",
              "    .colab-df-container {\n",
              "      display:flex;\n",
              "      flex-wrap:wrap;\n",
              "      gap: 12px;\n",
              "    }\n",
              "\n",
              "    .colab-df-convert {\n",
              "      background-color: #E8F0FE;\n",
              "      border: none;\n",
              "      border-radius: 50%;\n",
              "      cursor: pointer;\n",
              "      display: none;\n",
              "      fill: #1967D2;\n",
              "      height: 32px;\n",
              "      padding: 0 0 0 0;\n",
              "      width: 32px;\n",
              "    }\n",
              "\n",
              "    .colab-df-convert:hover {\n",
              "      background-color: #E2EBFA;\n",
              "      box-shadow: 0px 1px 2px rgba(60, 64, 67, 0.3), 0px 1px 3px 1px rgba(60, 64, 67, 0.15);\n",
              "      fill: #174EA6;\n",
              "    }\n",
              "\n",
              "    [theme=dark] .colab-df-convert {\n",
              "      background-color: #3B4455;\n",
              "      fill: #D2E3FC;\n",
              "    }\n",
              "\n",
              "    [theme=dark] .colab-df-convert:hover {\n",
              "      background-color: #434B5C;\n",
              "      box-shadow: 0px 1px 3px 1px rgba(0, 0, 0, 0.15);\n",
              "      filter: drop-shadow(0px 1px 2px rgba(0, 0, 0, 0.3));\n",
              "      fill: #FFFFFF;\n",
              "    }\n",
              "  </style>\n",
              "\n",
              "      <script>\n",
              "        const buttonEl =\n",
              "          document.querySelector('#df-4878031a-18a9-4aba-895f-15290dcf92fe button.colab-df-convert');\n",
              "        buttonEl.style.display =\n",
              "          google.colab.kernel.accessAllowed ? 'block' : 'none';\n",
              "\n",
              "        async function convertToInteractive(key) {\n",
              "          const element = document.querySelector('#df-4878031a-18a9-4aba-895f-15290dcf92fe');\n",
              "          const dataTable =\n",
              "            await google.colab.kernel.invokeFunction('convertToInteractive',\n",
              "                                                     [key], {});\n",
              "          if (!dataTable) return;\n",
              "\n",
              "          const docLinkHtml = 'Like what you see? Visit the ' +\n",
              "            '<a target=\"_blank\" href=https://colab.research.google.com/notebooks/data_table.ipynb>data table notebook</a>'\n",
              "            + ' to learn more about interactive tables.';\n",
              "          element.innerHTML = '';\n",
              "          dataTable['output_type'] = 'display_data';\n",
              "          await google.colab.output.renderOutput(dataTable, element);\n",
              "          const docLink = document.createElement('div');\n",
              "          docLink.innerHTML = docLinkHtml;\n",
              "          element.appendChild(docLink);\n",
              "        }\n",
              "      </script>\n",
              "    </div>\n",
              "  </div>\n",
              "  "
            ]
          },
          "metadata": {},
          "execution_count": 51
        }
      ]
    },
    {
      "cell_type": "code",
      "metadata": {
        "id": "Ya44ZLK9UClM",
        "colab": {
          "base_uri": "https://localhost:8080/",
          "height": 427
        },
        "outputId": "b6e14b17-a8ad-429a-ba45-1605c5ad7b0a"
      },
      "source": [
        "import matplotlib.pyplot as plt\n",
        "%matplotlib inline\n",
        "\n",
        "import seaborn as sns\n",
        "\n",
        "# Use plot styling from seaborn.\n",
        "sns.set(style='darkgrid')\n",
        "\n",
        "# Increase the plot size and font size.\n",
        "sns.set(font_scale=1.5)\n",
        "plt.rcParams[\"figure.figsize\"] = (12,6)\n",
        "\n",
        "# Plot the learning curve.\n",
        "plt.plot(df_stats['Training Loss'], 'b-o', label=\"Training\")\n",
        "plt.plot(df_stats['Valid. Loss'], 'g-o', label=\"Validation\")\n",
        "\n",
        "# Label the plot.\n",
        "plt.title(\"Training & Validation Loss\")\n",
        "plt.xlabel(\"Epoch\")\n",
        "plt.ylabel(\"Loss\")\n",
        "plt.legend()\n",
        "plt.xticks([1, 2, 3, 4, 5, 6, 7, 8, 9])\n",
        "\n",
        "plt.show()"
      ],
      "execution_count": null,
      "outputs": [
        {
          "output_type": "display_data",
          "data": {
            "text/plain": [
              "<Figure size 864x432 with 1 Axes>"
            ],
            "image/png": "[encoded data removed]"
          },
          "metadata": {}
        }
      ]
    },
    {
      "cell_type": "markdown",
      "metadata": {
        "id": "glJ7rGlQJWQQ"
      },
      "source": [
        "# 5. Performance On Test Set"
      ]
    },
    {
      "cell_type": "code",
      "source": [
        "# Encode test dataset using the tokenizer.\n",
        "encoded_data_test = tokenizer.batch_encode_plus(\n",
        "    data[data.data_type == 'test'].subtitle_text.values,\n",
        "    add_special_tokens=True,\n",
        "    return_attention_mask=True,  \n",
        "    max_length=max_sentence_length,\n",
        "    truncation=True,\n",
        "    padding='max_length',\n",
        "    return_tensors='pt'\n",
        ")"
      ],
      "metadata": {
        "id": "MWz8zji6MDxL"
      },
      "execution_count": null,
      "outputs": []
    },
    {
      "cell_type": "code",
      "source": [
        "# Extract IDs, attention masks and labels from testing dataset.\n",
        "input_ids_test = encoded_data_test['input_ids']\n",
        "attention_masks_test = encoded_data_test['attention_mask']\n",
        "labels_test = torch.tensor(data[data.data_type == 'test'][['pp', 'sp', 'mc']].values, dtype=torch.float32)\n",
        "\n",
        "dataset_test = TensorDataset(input_ids_test, attention_masks_test)\n",
        "test_dataloader = DataLoader(dataset_test)\n",
        "print(\"Test dataset length: {}\".format(len(dataset_test)))"
      ],
      "metadata": {
        "colab": {
          "base_uri": "https://localhost:8080/"
        },
        "id": "pR26emXifKGL",
        "outputId": "3385bcce-cfa0-4bb6-a846-81ddaaa62c70"
      },
      "execution_count": null,
      "outputs": [
        {
          "output_type": "stream",
          "name": "stdout",
          "text": [
            "Test dataset length: 11908\n"
          ]
        }
      ]
    },
    {
      "cell_type": "markdown",
      "source": [
        "Defining a function `predict` that takes as input a test dataloader (`test_dataloader`) and returns a list of predictions. The function loops over the rows of the test dataloader and performs the following steps:\n",
        "\n",
        "1.   For each row in the test dataloader, it converts each element of the row to a PyTorch tensor and transfers it to the specified device.\n",
        "2.   It defines a dictionary called `inputs` that holds the converted tensors as inputs to the model.\n",
        "3.   It performs an evaluation of the model on the inputs using `model(**inputs)`\n",
        "4. The output of the model is a tensor `outputs[0]`. The outputs are detached from the computation history of the model and converted to a numpy array.\n",
        "5. It appends the outputs to the list `predictions`.\n",
        "\n",
        "The function is called on the test dataloader and the target values from the test set are collected to compare them with the predictions."
      ],
      "metadata": {
        "id": "Mdl3WmnyULxk"
      }
    },
    {
      "cell_type": "code",
      "source": [
        "def predict(test_dataloader):\n",
        "\n",
        "    predictions = []\n",
        "\n",
        "    for row in test_dataloader:\n",
        "      row = tuple(r.to(device) for r in row)\n",
        "      inputs = {'input_sentence': row[0],\n",
        "        'input_mask': row[1]\n",
        "        }\n",
        "\n",
        "      with torch.no_grad():\n",
        "          outputs = model(**inputs)\n",
        "\n",
        "      outputs = outputs[0]\n",
        "      outputs = outputs.detach().cpu().numpy()\n",
        "      predictions.append(outputs)\n",
        "\n",
        "    return predictions\n",
        "\n",
        "# Predict on the test set\n",
        "predictions = predict(test_dataloader)\n",
        "\n",
        "# Collect target values from test set\n",
        "true = data[data.data_type=='test'][['pp', 'sp', 'mc']].values"
      ],
      "metadata": {
        "id": "aof1d3bdfxWD"
      },
      "execution_count": null,
      "outputs": []
    },
    {
      "cell_type": "code",
      "source": [
        "from sklearn.metrics import mean_absolute_error\n",
        "\n",
        "print('MAE (ALL) ', mean_absolute_error(true, predictions), ' \\n')\n",
        "print('MAE (PP): ', list(mean_absolute_error(true, predictions, multioutput='raw_values'))[0])\n",
        "print('MAE (SP): ', list(mean_absolute_error(true, predictions, multioutput='raw_values'))[1])\n",
        "print('MAE (MC): ', list(mean_absolute_error(true, predictions, multioutput='raw_values'))[2])"
      ],
      "metadata": {
        "colab": {
          "base_uri": "https://localhost:8080/"
        },
        "id": "p0YP5AYmlrOo",
        "outputId": "c2133175-3ddd-40a2-c4fc-2ca11f92bed3"
      },
      "execution_count": null,
      "outputs": [
        {
          "output_type": "stream",
          "name": "stdout",
          "text": [
            "MAE (ALL)  0.28447874390506517  \n",
            "\n",
            "MAE (PP):  0.19081222371789794\n",
            "MAE (SP):  0.3517186488272645\n",
            "MAE (MC):  0.31090535917003304\n"
          ]
        }
      ]
    },
    {
      "cell_type": "code",
      "source": [
        "from sklearn.metrics import mean_squared_error\n",
        "\n",
        "print('RMSE (ALL) ', mean_squared_error(true, predictions), ' \\n')\n",
        "print('RMSE (PP): ', list(mean_squared_error(true, predictions, squared=False, multioutput='raw_values'))[0])\n",
        "print('RMSE (SP): ', list(mean_squared_error(true, predictions, squared=False, multioutput='raw_values'))[1])\n",
        "print('RMSE (MC): ', list(mean_squared_error(true, predictions, squared=False, multioutput='raw_values'))[2])"
      ],
      "metadata": {
        "colab": {
          "base_uri": "https://localhost:8080/"
        },
        "id": "Er4zVJvNsIeQ",
        "outputId": "6fa16f7a-ca64-467f-8d90-b511463cff73"
      },
      "execution_count": null,
      "outputs": [
        {
          "output_type": "stream",
          "name": "stdout",
          "text": [
            "RMSE (ALL)  0.1947259128134251  \n",
            "\n",
            "RMSE (PP):  0.3798935650353424\n",
            "RMSE (SP):  0.47378505418077\n",
            "RMSE (MC):  0.46409733905716183\n"
          ]
        }
      ]
    },
    {
      "cell_type": "code",
      "source": [
        "from sklearn.metrics import r2_score\n",
        "\n",
        "print('R2 (ALL) ', r2_score(true, predictions), ' \\n')\n",
        "print('R2 (PP): ', list(r2_score(true, predictions, multioutput='raw_values'))[0])\n",
        "print('R2 (SP): ', list(r2_score(true, predictions, multioutput='raw_values'))[1])\n",
        "print('R2 (MC): ', list(r2_score(true, predictions, multioutput='raw_values'))[2])"
      ],
      "metadata": {
        "id": "W5MKkL7qJQcI",
        "outputId": "f86bbe0c-2f77-4371-9616-1eb0b196891d",
        "colab": {
          "base_uri": "https://localhost:8080/"
        }
      },
      "execution_count": null,
      "outputs": [
        {
          "output_type": "stream",
          "name": "stdout",
          "text": [
            "R2 (ALL)  0.08185937970920376  \n",
            "\n",
            "R2 (PP):  0.05261516561868784\n",
            "R2 (SP):  0.1152448402277021\n",
            "R2 (MC):  0.07771813328122135\n"
          ]
        }
      ]
    }
  ]
}