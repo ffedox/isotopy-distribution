{
  "nbformat": 4,
  "nbformat_minor": 0,
  "metadata": {
    "colab": {
      "provenance": [],
      "include_colab_link": true
    },
    "kernelspec": {
      "name": "python3",
      "display_name": "Python 3"
    },
    "language_info": {
      "name": "python"
    }
  },
  "cells": [
    {
      "cell_type": "markdown",
      "metadata": {
        "id": "view-in-github",
        "colab_type": "text"
      },
      "source": [
        "<a href=\"https://colab.research.google.com/github/ffedox/nlp/blob/main/Regression_Baselines.ipynb\" target=\"_parent\"><img src=\"https://colab.research.google.com/assets/colab-badge.svg\" alt=\"Open In Colab\"/></a>"
      ]
    },
    {
      "cell_type": "markdown",
      "source": [
        "# Baselines for R², MAE and RMSE"
      ],
      "metadata": {
        "id": "TAWIKIdvZmaT"
      }
    },
    {
      "cell_type": "markdown",
      "source": [
        "# 1. Setup"
      ],
      "metadata": {
        "id": "hd2rxTmRaDI_"
      }
    },
    {
      "cell_type": "code",
      "source": [
        "# Modules used in this notebook\n",
        "\n",
        "from sklearn.metrics import mean_absolute_percentage_error\n",
        "from sklearn.metrics import mean_absolute_error\n",
        "from sklearn.metrics import mean_squared_error\n",
        "from sklearn.metrics import r2_score\n",
        "import matplotlib.pyplot as plt\n",
        "import seaborn as sns\n",
        "import pandas as pd\n",
        "import numpy as np"
      ],
      "metadata": {
        "id": "okg7pK4UZiLR"
      },
      "execution_count": 4,
      "outputs": []
    },
    {
      "cell_type": "code",
      "source": [
        "# Accessing Drive files\n",
        "\n",
        "from google.colab import drive\n",
        "drive.mount('/content/drive')"
      ],
      "metadata": {
        "id": "Z5666DmyaUpc",
        "colab": {
          "base_uri": "https://localhost:8080/"
        },
        "outputId": "125030eb-462d-44fe-f7e8-0ac501803372"
      },
      "execution_count": 1,
      "outputs": [
        {
          "output_type": "stream",
          "name": "stdout",
          "text": [
            "Mounted at /content/drive\n"
          ]
        }
      ]
    },
    {
      "cell_type": "markdown",
      "source": [
        "# 2. Loading the Grey's Anatomy Dataset"
      ],
      "metadata": {
        "id": "pHKVrchraFTU"
      }
    },
    {
      "cell_type": "code",
      "source": [
        "# Already partitioned and preprocessed\n",
        "\n",
        "data = pd.read_excel('/content/drive/MyDrive/DAR/greys_anatomy_data_train_val_test.xlsx', index_col=0)\n",
        "\n",
        "train = data[data['data_type'] == 'train']\n",
        "val   = data[data['data_type'] == 'val']\n",
        "test  = data[data['data_type'] == 'test']"
      ],
      "metadata": {
        "id": "1YXatPYNaOB2"
      },
      "execution_count": 5,
      "outputs": []
    },
    {
      "cell_type": "code",
      "source": [
        "test.head()"
      ],
      "metadata": {
        "colab": {
          "base_uri": "https://localhost:8080/",
          "height": 206
        },
        "id": "651mxM-uUdzC",
        "outputId": "03968715-5a88-4960-a083-e55825ffc6aa"
      },
      "execution_count": 8,
      "outputs": [
        {
          "output_type": "execute_result",
          "data": {
            "text/plain": [
              "          pp        sp        mc  \\\n",
              "5   0.000000  0.833333  0.166667   \n",
              "14  0.000000  0.500000  0.500000   \n",
              "17  0.000000  0.333333  0.666667   \n",
              "29  0.000000  1.000000  0.000000   \n",
              "32  0.666667  0.000000  0.333333   \n",
              "\n",
              "                                     subtitle_text data_type  \n",
              "5                                 what do you got?      test  \n",
              "14             do the graft via keyhole procedure.      test  \n",
              "17  i try not to judge the way that anyone handles      test  \n",
              "29   oh, you know, actually, the karevs are having      test  \n",
              "32        but you're used to brain tumor shepherd,      test  "
            ],
            "text/html": [
              "\n",
              "  <div id=\"df-576b2876-8f51-459e-a4d0-14dff4e508c4\">\n",
              "    <div class=\"colab-df-container\">\n",
              "      <div>\n",
              "<style scoped>\n",
              "    .dataframe tbody tr th:only-of-type {\n",
              "        vertical-align: middle;\n",
              "    }\n",
              "\n",
              "    .dataframe tbody tr th {\n",
              "        vertical-align: top;\n",
              "    }\n",
              "\n",
              "    .dataframe thead th {\n",
              "        text-align: right;\n",
              "    }\n",
              "</style>\n",
              "<table border=\"1\" class=\"dataframe\">\n",
              "  <thead>\n",
              "    <tr style=\"text-align: right;\">\n",
              "      <th></th>\n",
              "      <th>pp</th>\n",
              "      <th>sp</th>\n",
              "      <th>mc</th>\n",
              "      <th>subtitle_text</th>\n",
              "      <th>data_type</th>\n",
              "    </tr>\n",
              "  </thead>\n",
              "  <tbody>\n",
              "    <tr>\n",
              "      <th>5</th>\n",
              "      <td>0.000000</td>\n",
              "      <td>0.833333</td>\n",
              "      <td>0.166667</td>\n",
              "      <td>what do you got?</td>\n",
              "      <td>test</td>\n",
              "    </tr>\n",
              "    <tr>\n",
              "      <th>14</th>\n",
              "      <td>0.000000</td>\n",
              "      <td>0.500000</td>\n",
              "      <td>0.500000</td>\n",
              "      <td>do the graft via keyhole procedure.</td>\n",
              "      <td>test</td>\n",
              "    </tr>\n",
              "    <tr>\n",
              "      <th>17</th>\n",
              "      <td>0.000000</td>\n",
              "      <td>0.333333</td>\n",
              "      <td>0.666667</td>\n",
              "      <td>i try not to judge the way that anyone handles</td>\n",
              "      <td>test</td>\n",
              "    </tr>\n",
              "    <tr>\n",
              "      <th>29</th>\n",
              "      <td>0.000000</td>\n",
              "      <td>1.000000</td>\n",
              "      <td>0.000000</td>\n",
              "      <td>oh, you know, actually, the karevs are having</td>\n",
              "      <td>test</td>\n",
              "    </tr>\n",
              "    <tr>\n",
              "      <th>32</th>\n",
              "      <td>0.666667</td>\n",
              "      <td>0.000000</td>\n",
              "      <td>0.333333</td>\n",
              "      <td>but you're used to brain tumor shepherd,</td>\n",
              "      <td>test</td>\n",
              "    </tr>\n",
              "  </tbody>\n",
              "</table>\n",
              "</div>\n",
              "      <button class=\"colab-df-convert\" onclick=\"convertToInteractive('df-576b2876-8f51-459e-a4d0-14dff4e508c4')\"\n",
              "              title=\"Convert this dataframe to an interactive table.\"\n",
              "              style=\"display:none;\">\n",
              "        \n",
              "  <svg xmlns=\"http://www.w3.org/2000/svg\" height=\"24px\"viewBox=\"0 0 24 24\"\n",
              "       width=\"24px\">\n",
              "    <path d=\"M0 0h24v24H0V0z\" fill=\"none\"/>\n",
              "    <path d=\"M18.56 5.44l.94 2.06.94-2.06 2.06-.94-2.06-.94-.94-2.06-.94 2.06-2.06.94zm-11 1L8.5 8.5l.94-2.06 2.06-.94-2.06-.94L8.5 2.5l-.94 2.06-2.06.94zm10 10l.94 2.06.94-2.06 2.06-.94-2.06-.94-.94-2.06-.94 2.06-2.06.94z\"/><path d=\"M17.41 7.96l-1.37-1.37c-.4-.4-.92-.59-1.43-.59-.52 0-1.04.2-1.43.59L10.3 9.45l-7.72 7.72c-.78.78-.78 2.05 0 2.83L4 21.41c.39.39.9.59 1.41.59.51 0 1.02-.2 1.41-.59l7.78-7.78 2.81-2.81c.8-.78.8-2.07 0-2.86zM5.41 20L4 18.59l7.72-7.72 1.47 1.35L5.41 20z\"/>\n",
              "  </svg>\n",
              "      </button>\n",
              "      \n",
              "  <style>\n",
              "    .colab-df-container {\n",
              "      display:flex;\n",
              "      flex-wrap:wrap;\n",
              "      gap: 12px;\n",
              "    }\n",
              "\n",
              "    .colab-df-convert {\n",
              "      background-color: #E8F0FE;\n",
              "      border: none;\n",
              "      border-radius: 50%;\n",
              "      cursor: pointer;\n",
              "      display: none;\n",
              "      fill: #1967D2;\n",
              "      height: 32px;\n",
              "      padding: 0 0 0 0;\n",
              "      width: 32px;\n",
              "    }\n",
              "\n",
              "    .colab-df-convert:hover {\n",
              "      background-color: #E2EBFA;\n",
              "      box-shadow: 0px 1px 2px rgba(60, 64, 67, 0.3), 0px 1px 3px 1px rgba(60, 64, 67, 0.15);\n",
              "      fill: #174EA6;\n",
              "    }\n",
              "\n",
              "    [theme=dark] .colab-df-convert {\n",
              "      background-color: #3B4455;\n",
              "      fill: #D2E3FC;\n",
              "    }\n",
              "\n",
              "    [theme=dark] .colab-df-convert:hover {\n",
              "      background-color: #434B5C;\n",
              "      box-shadow: 0px 1px 3px 1px rgba(0, 0, 0, 0.15);\n",
              "      filter: drop-shadow(0px 1px 2px rgba(0, 0, 0, 0.3));\n",
              "      fill: #FFFFFF;\n",
              "    }\n",
              "  </style>\n",
              "\n",
              "      <script>\n",
              "        const buttonEl =\n",
              "          document.querySelector('#df-576b2876-8f51-459e-a4d0-14dff4e508c4 button.colab-df-convert');\n",
              "        buttonEl.style.display =\n",
              "          google.colab.kernel.accessAllowed ? 'block' : 'none';\n",
              "\n",
              "        async function convertToInteractive(key) {\n",
              "          const element = document.querySelector('#df-576b2876-8f51-459e-a4d0-14dff4e508c4');\n",
              "          const dataTable =\n",
              "            await google.colab.kernel.invokeFunction('convertToInteractive',\n",
              "                                                     [key], {});\n",
              "          if (!dataTable) return;\n",
              "\n",
              "          const docLinkHtml = 'Like what you see? Visit the ' +\n",
              "            '<a target=\"_blank\" href=https://colab.research.google.com/notebooks/data_table.ipynb>data table notebook</a>'\n",
              "            + ' to learn more about interactive tables.';\n",
              "          element.innerHTML = '';\n",
              "          dataTable['output_type'] = 'display_data';\n",
              "          await google.colab.output.renderOutput(dataTable, element);\n",
              "          const docLink = document.createElement('div');\n",
              "          docLink.innerHTML = docLinkHtml;\n",
              "          element.appendChild(docLink);\n",
              "        }\n",
              "      </script>\n",
              "    </div>\n",
              "  </div>\n",
              "  "
            ]
          },
          "metadata": {},
          "execution_count": 8
        }
      ]
    },
    {
      "cell_type": "markdown",
      "source": [
        "# 3. Visualizing Dataset Distributions\n"
      ],
      "metadata": {
        "id": "h1H0UyoYaMfp"
      }
    },
    {
      "cell_type": "markdown",
      "source": [
        "## 3.1. Professional Plot"
      ],
      "metadata": {
        "id": "ilRwCo7Te3Fc"
      }
    },
    {
      "cell_type": "code",
      "source": [
        "fig, axs = plt.subplots(ncols=3, figsize=(20, 6.6))\n",
        "\n",
        "pp_test = sns.histplot(train['pp'], ax=axs[0], binwidth=0.1);\n",
        "pp_test.set_xlabel('Train PP', fontsize = 15);\n",
        "\n",
        "pp_dev = sns.histplot(val['pp'], ax=axs[1], binwidth=0.1);\n",
        "pp_dev.set_xlabel('Val PP', fontsize = 15);\n",
        "\n",
        "pp_test = sns.histplot(test['pp'], ax=axs[2], binwidth=0.1);\n",
        "pp_test.set_xlabel('Test PP', fontsize = 15);"
      ],
      "metadata": {
        "colab": {
          "base_uri": "https://localhost:8080/",
          "height": 429
        },
        "id": "SeYZ8cLsa4fz",
        "outputId": "9552e06d-55df-495c-c0e5-c8a64dc0f6b2"
      },
      "execution_count": null,
      "outputs": [
        {
          "output_type": "display_data",
          "data": {
            "text/plain": [
              "<Figure size 1440x475.2 with 3 Axes>"
            ],
            "image/png": "[encoded data removed]"
          },
          "metadata": {
            "needs_background": "light"
          }
        }
      ]
    },
    {
      "cell_type": "markdown",
      "source": [
        "## 3.2. Sentimental Plot"
      ],
      "metadata": {
        "id": "y0lAUbpLe6HC"
      }
    },
    {
      "cell_type": "code",
      "source": [
        "fig, axs = plt.subplots(ncols=3, figsize=(20, 6.6))\n",
        "\n",
        "sp_test = sns.histplot(train['sp'], ax=axs[0], binwidth=0.1);\n",
        "sp_test.set_xlabel('Train SP', fontsize = 15);\n",
        "\n",
        "sp_dev = sns.histplot(val['sp'], ax=axs[1], binwidth=0.1);\n",
        "sp_dev.set_xlabel('Val SP', fontsize = 15);\n",
        "\n",
        "sp_test = sns.histplot(test['sp'], ax=axs[2], binwidth=0.1);\n",
        "sp_test.set_xlabel('Test SP', fontsize = 15);"
      ],
      "metadata": {
        "colab": {
          "base_uri": "https://localhost:8080/",
          "height": 426
        },
        "id": "0OAqQa8ee9MV",
        "outputId": "8bf1aab6-cf6e-4104-d67b-3d0a64d98c8c"
      },
      "execution_count": null,
      "outputs": [
        {
          "output_type": "display_data",
          "data": {
            "text/plain": [
              "<Figure size 1440x475.2 with 3 Axes>"
            ],
            "image/png": "[encoded data removed]"
          },
          "metadata": {
            "needs_background": "light"
          }
        }
      ]
    },
    {
      "cell_type": "markdown",
      "source": [
        "## 3.3. Medical Case"
      ],
      "metadata": {
        "id": "-yuvl1cme7mb"
      }
    },
    {
      "cell_type": "code",
      "source": [
        "fig, axs = plt.subplots(ncols=3, figsize=(20, 6.6))\n",
        "\n",
        "mc_test = sns.histplot(train['mc'], ax=axs[0], binwidth=0.1);\n",
        "mc_test.set_xlabel('Train MC', fontsize = 15);\n",
        "\n",
        "mc_dev = sns.histplot(val['mc'], ax=axs[1], binwidth=0.1);\n",
        "mc_dev.set_xlabel('Val MC', fontsize = 15);\n",
        "\n",
        "mc_test = sns.histplot(test['mc'], ax=axs[2], binwidth=0.1);\n",
        "mc_test.set_xlabel('Test MC', fontsize = 15);"
      ],
      "metadata": {
        "colab": {
          "base_uri": "https://localhost:8080/",
          "height": 426
        },
        "id": "ufQZrLLhfLuW",
        "outputId": "674c5d6e-5a8e-41e1-f88c-d2fd466416f9"
      },
      "execution_count": null,
      "outputs": [
        {
          "output_type": "display_data",
          "data": {
            "text/plain": [
              "<Figure size 1440x475.2 with 3 Axes>"
            ],
            "image/png": "[encoded data removed]"
          },
          "metadata": {
            "needs_background": "light"
          }
        }
      ]
    },
    {
      "cell_type": "markdown",
      "source": [
        "##  3.4. Extracting Counts and Means"
      ],
      "metadata": {
        "id": "0fYZsVv7ftPY"
      }
    },
    {
      "cell_type": "code",
      "source": [
        "# Professional Plot\n",
        "print(train['pp'].count(), val['pp'].count(), test['pp'].count())\n",
        "print(train['pp'].mean(), val['pp'].mean(), test['pp'].mean())\n",
        "print(train['pp'].median(), val['pp'].median(), test['pp'].median())\n",
        "\n",
        "# Sentimental Plot\n",
        "print(train['sp'].count(), val['sp'].count(), test['sp'].count())\n",
        "print(train['sp'].mean(), val['sp'].mean(), test['sp'].mean())\n",
        "print(train['sp'].median(), val['sp'].median(), test['sp'].median())\n",
        "\n",
        "# Medical Case\n",
        "print(train['mc'].count(), val['mc'].count(), test['mc'].count())\n",
        "print(train['mc'].mean(), val['mc'].mean(), test['mc'].mean())\n",
        "print(train['mc'].median(), val['mc'].median(), test['mc'].median())"
      ],
      "metadata": {
        "colab": {
          "base_uri": "https://localhost:8080/"
        },
        "id": "IAAxkc1xft8h",
        "outputId": "f6efe74b-2e96-4538-b9cb-17f9aeb4cefb"
      },
      "execution_count": null,
      "outputs": [
        {
          "output_type": "stream",
          "name": "stdout",
          "text": [
            "55567 11907 11908\n",
            "0.1912556013461227 0.19365359312449257 0.1906141529503975\n",
            "0.0 0.0 0.0\n",
            "55567 11907 11908\n",
            "0.478434442504844 0.4756025867136978 0.47447094390325834\n",
            "0.5 0.5 0.5\n",
            "55567 11907 11908\n",
            "0.3314617188859095 0.33198958595783995 0.3360485947822192\n",
            "0.0 0.0 0.0\n"
          ]
        }
      ]
    },
    {
      "cell_type": "markdown",
      "source": [
        "# 4. Baselines"
      ],
      "metadata": {
        "id": "0j4lovoCfGFT"
      }
    },
    {
      "cell_type": "markdown",
      "source": [
        "For regression problems, the common rule is to create baseline models that predict the mean or median of the training data output."
      ],
      "metadata": {
        "id": "lMEAXNDF1bsa"
      }
    },
    {
      "cell_type": "markdown",
      "source": [
        "## 4.1. RMSE"
      ],
      "metadata": {
        "id": "MrsSx4orwMX1"
      }
    },
    {
      "cell_type": "markdown",
      "source": [
        "The most trivial model minimizing squared error is predicting the mean for all the samples. "
      ],
      "metadata": {
        "id": "c6xdAeKcwCFK"
      }
    },
    {
      "cell_type": "code",
      "execution_count": null,
      "metadata": {
        "id": "FeJJZ4a_ZaJS"
      },
      "outputs": [],
      "source": [
        "# Initializing an empty array with the shape of the test set\n",
        "\n",
        "baseline_model = np.zeros((11908, 3))"
      ]
    },
    {
      "cell_type": "code",
      "source": [
        "# Populating the array with the mean for each class\n",
        "\n",
        "baseline_model[:, 0] = train['pp'].mean()\n",
        "baseline_model[:, 1] = train['sp'].mean()\n",
        "baseline_model[:, 2] = train['mc'].mean()"
      ],
      "metadata": {
        "id": "yStFscmShdUn"
      },
      "execution_count": null,
      "outputs": []
    },
    {
      "cell_type": "code",
      "source": [
        "# y_test -> the target values of the test set\n",
        "\n",
        "y_test = data[data.data_type=='test'][['pp', 'sp', 'mc']].values"
      ],
      "metadata": {
        "id": "EqrUB-o0iFVg"
      },
      "execution_count": null,
      "outputs": []
    },
    {
      "cell_type": "code",
      "source": [
        "# RMSE when always predicting the mean for each class\n",
        "\n",
        "print('RMSE (ALL) ', mean_squared_error(y_test, baseline_model), ' \\n')\n",
        "print('RMSE (PP): ', list(mean_squared_error(y_test, baseline_model, squared=False, multioutput='raw_values'))[0])\n",
        "print('RMSE (SP): ', list(mean_squared_error(y_test, baseline_model, squared=False, multioutput='raw_values'))[1])\n",
        "print('RMSE (MC): ', list(mean_squared_error(y_test, baseline_model, squared=False, multioutput='raw_values'))[2])"
      ],
      "metadata": {
        "id": "4NrI46UjEw0H",
        "outputId": "0b496a5e-f7c3-4206-ba00-a19670ec70ae",
        "colab": {
          "base_uri": "https://localhost:8080/"
        }
      },
      "execution_count": null,
      "outputs": [
        {
          "output_type": "stream",
          "name": "stdout",
          "text": [
            "RMSE (ALL)  0.1563238957677585  \n",
            "\n",
            "RMSE (PP):  0.3288642418313142\n",
            "RMSE (SP):  0.43225877402787743\n",
            "RMSE (MC):  0.4170999281034543\n"
          ]
        }
      ]
    },
    {
      "cell_type": "markdown",
      "source": [
        "## 4.2. R2"
      ],
      "metadata": {
        "id": "MgPt9K_g09cH"
      }
    },
    {
      "cell_type": "markdown",
      "source": [
        "R-squared (coefficient of determination) measures the variation that is explained by a regression model. R-squared of a regression model is positive if the model's prediction is better than a prediction which is just the mean of the already available y values (ȳ), otherwise it is negative."
      ],
      "metadata": {
        "id": "kECYHARA0DFr"
      }
    },
    {
      "cell_type": "markdown",
      "source": [
        "A baseline model which always predicts ȳ has an R² of 0."
      ],
      "metadata": {
        "id": "pkULWNdvf5rL"
      }
    },
    {
      "cell_type": "markdown",
      "source": [
        "## 4.4. MAE"
      ],
      "metadata": {
        "id": "PfoUiSFxwWOn"
      }
    },
    {
      "cell_type": "markdown",
      "source": [
        "The most trivial model minimizing absolute error is predicting the median for all the samples."
      ],
      "metadata": {
        "id": "WbJjQ8mhwYam"
      }
    },
    {
      "cell_type": "code",
      "source": [
        "# Initializing an empty array with the shape of the test set\n",
        "\n",
        "baseline_model = np.zeros((11908, 3))"
      ],
      "metadata": {
        "id": "X8O1XESXwXwC"
      },
      "execution_count": null,
      "outputs": []
    },
    {
      "cell_type": "code",
      "source": [
        "# Populating the array with the median for each class\n",
        "\n",
        "baseline_model[:, 0] = train['pp'].median()\n",
        "baseline_model[:, 1] = train['sp'].median()\n",
        "baseline_model[:, 2] = train['mc'].median()"
      ],
      "metadata": {
        "id": "DA97hlKRw4rw"
      },
      "execution_count": null,
      "outputs": []
    },
    {
      "cell_type": "code",
      "source": [
        "# MAE when always predicting the median for each class\n",
        "\n",
        "print('MAE (ALL) ', mean_absolute_error(y_test, baseline_model), ' \\n')\n",
        "print('MAE (PP): ', list(mean_absolute_error(y_test, baseline_model, multioutput='raw_values'))[0])\n",
        "print('MAE (SP): ', list(mean_absolute_error(y_test, baseline_model, multioutput='raw_values'))[1])\n",
        "print('MAE (MC): ', list(mean_absolute_error(y_test, baseline_model, multioutput='raw_values'))[2])"
      ],
      "metadata": {
        "colab": {
          "base_uri": "https://localhost:8080/"
        },
        "id": "1ge_gQ_1yCRN",
        "outputId": "6c13b001-d679-4979-a2cd-b18cb1cc4115"
      },
      "execution_count": null,
      "outputs": [
        {
          "output_type": "stream",
          "name": "stdout",
          "text": [
            "MAE (ALL)  0.30753834956891696  \n",
            "\n",
            "MAE (PP):  0.19061415295039685\n",
            "MAE (SP):  0.3959523009741342\n",
            "MAE (MC):  0.3360485947822199\n"
          ]
        }
      ]
    },
    {
      "cell_type": "markdown",
      "source": [
        "# 5. References"
      ],
      "metadata": {
        "id": "Z1tchIONywGa"
      }
    },
    {
      "cell_type": "markdown",
      "source": [
        "https://stats.stackexchange.com/questions/545979/why-getting-very-high-values-for-mse-mae-mape-when-r2-score-is-very-good\n",
        "\n",
        "https://stats.stackexchange.com/questions/564723/model-evaluation-r2-score-is-very-bad-when-the-range-of-values-is-low-but-mean\n",
        "\n",
        "https://stats.stackexchange.com/questions/183265/what-does-negative-r-squared-mean \n",
        "\n",
        "https://towardsdatascience.com/baseline-models-your-guide-for-model-building-1ec3aa244b8d\n",
        "\n",
        "https://stats.stackexchange.com/questions/48267/mean-absolute-error-or-root-mean-squared-error\n",
        "\n",
        "https://machinelearningmastery.com/how-to-get-baseline-results-and-why-they-matter/\n",
        "\n",
        "https://stackoverflow.com/questions/68127297/getting-non-zero-value-for-r2-score-when-i-comapre-true-values-with-their-mean\n",
        "\n",
        "https://towardsdatascience.com/ways-to-evaluate-regression-models-77a3ff45ba70\n",
        "\n",
        "https://en.wikipedia.org/wiki/Coefficient_of_determination"
      ],
      "metadata": {
        "id": "OwmDd2h4y0V2"
      }
    }
  ]
}