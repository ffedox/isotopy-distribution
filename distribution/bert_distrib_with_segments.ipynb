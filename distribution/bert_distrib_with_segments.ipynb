{
  "nbformat": 4,
  "nbformat_minor": 0,
  "metadata": {
    "colab": {
      "provenance": [],
      "collapsed_sections": [
        "_iVGobKxOBhq"
      ],
      "include_colab_link": true
    },
    "kernelspec": {
      "name": "python3",
      "display_name": "Python 3"
    },
    "gpuClass": "standard",
    "accelerator": "GPU",
    "widgets": {
      "application/vnd.jupyter.widget-state+json": {
        "486760b7ac124d0abd232f1617c20819": {
          "model_module": "@jupyter-widgets/controls",
          "model_name": "HBoxModel",
          "model_module_version": "1.5.0",
          "state": {
            "_dom_classes": [],
            "_model_module": "@jupyter-widgets/controls",
            "_model_module_version": "1.5.0",
            "_model_name": "HBoxModel",
            "_view_count": null,
            "_view_module": "@jupyter-widgets/controls",
            "_view_module_version": "1.5.0",
            "_view_name": "HBoxView",
            "box_style": "",
            "children": [
              "IPY_MODEL_a58a8a6dbdcd48eca91e81ff5fc73d09",
              "IPY_MODEL_304373706cf34356970762242b901dd2",
              "IPY_MODEL_b4532119afc74f0faa4c3ac86e4e6065"
            ],
            "layout": "IPY_MODEL_e1103a4927204e6c9b30a9337eb8f070"
          }
        },
        "a58a8a6dbdcd48eca91e81ff5fc73d09": {
          "model_module": "@jupyter-widgets/controls",
          "model_name": "HTMLModel",
          "model_module_version": "1.5.0",
          "state": {
            "_dom_classes": [],
            "_model_module": "@jupyter-widgets/controls",
            "_model_module_version": "1.5.0",
            "_model_name": "HTMLModel",
            "_view_count": null,
            "_view_module": "@jupyter-widgets/controls",
            "_view_module_version": "1.5.0",
            "_view_name": "HTMLView",
            "description": "",
            "description_tooltip": null,
            "layout": "IPY_MODEL_3a89bad498614979a848a1bf9c21d868",
            "placeholder": "​",
            "style": "IPY_MODEL_4008c89041a34ee9af93855c4c75c2ac",
            "value": "Downloading (…)solve/main/vocab.txt: 100%"
          }
        },
        "304373706cf34356970762242b901dd2": {
          "model_module": "@jupyter-widgets/controls",
          "model_name": "FloatProgressModel",
          "model_module_version": "1.5.0",
          "state": {
            "_dom_classes": [],
            "_model_module": "@jupyter-widgets/controls",
            "_model_module_version": "1.5.0",
            "_model_name": "FloatProgressModel",
            "_view_count": null,
            "_view_module": "@jupyter-widgets/controls",
            "_view_module_version": "1.5.0",
            "_view_name": "ProgressView",
            "bar_style": "success",
            "description": "",
            "description_tooltip": null,
            "layout": "IPY_MODEL_49147782cf2e4f6da7316cd257b40105",
            "max": 231508,
            "min": 0,
            "orientation": "horizontal",
            "style": "IPY_MODEL_30d4c88cfd8e4d1c9ab953af94bbda26",
            "value": 231508
          }
        },
        "b4532119afc74f0faa4c3ac86e4e6065": {
          "model_module": "@jupyter-widgets/controls",
          "model_name": "HTMLModel",
          "model_module_version": "1.5.0",
          "state": {
            "_dom_classes": [],
            "_model_module": "@jupyter-widgets/controls",
            "_model_module_version": "1.5.0",
            "_model_name": "HTMLModel",
            "_view_count": null,
            "_view_module": "@jupyter-widgets/controls",
            "_view_module_version": "1.5.0",
            "_view_name": "HTMLView",
            "description": "",
            "description_tooltip": null,
            "layout": "IPY_MODEL_d963424b74344430b1565954a1b03996",
            "placeholder": "​",
            "style": "IPY_MODEL_3d3ac12bec964c5085ad149ee99d0b32",
            "value": " 232k/232k [00:00&lt;00:00, 350kB/s]"
          }
        },
        "e1103a4927204e6c9b30a9337eb8f070": {
          "model_module": "@jupyter-widgets/base",
          "model_name": "LayoutModel",
          "model_module_version": "1.2.0",
          "state": {
            "_model_module": "@jupyter-widgets/base",
            "_model_module_version": "1.2.0",
            "_model_name": "LayoutModel",
            "_view_count": null,
            "_view_module": "@jupyter-widgets/base",
            "_view_module_version": "1.2.0",
            "_view_name": "LayoutView",
            "align_content": null,
            "align_items": null,
            "align_self": null,
            "border": null,
            "bottom": null,
            "display": null,
            "flex": null,
            "flex_flow": null,
            "grid_area": null,
            "grid_auto_columns": null,
            "grid_auto_flow": null,
            "grid_auto_rows": null,
            "grid_column": null,
            "grid_gap": null,
            "grid_row": null,
            "grid_template_areas": null,
            "grid_template_columns": null,
            "grid_template_rows": null,
            "height": null,
            "justify_content": null,
            "justify_items": null,
            "left": null,
            "margin": null,
            "max_height": null,
            "max_width": null,
            "min_height": null,
            "min_width": null,
            "object_fit": null,
            "object_position": null,
            "order": null,
            "overflow": null,
            "overflow_x": null,
            "overflow_y": null,
            "padding": null,
            "right": null,
            "top": null,
            "visibility": null,
            "width": null
          }
        },
        "3a89bad498614979a848a1bf9c21d868": {
          "model_module": "@jupyter-widgets/base",
          "model_name": "LayoutModel",
          "model_module_version": "1.2.0",
          "state": {
            "_model_module": "@jupyter-widgets/base",
            "_model_module_version": "1.2.0",
            "_model_name": "LayoutModel",
            "_view_count": null,
            "_view_module": "@jupyter-widgets/base",
            "_view_module_version": "1.2.0",
            "_view_name": "LayoutView",
            "align_content": null,
            "align_items": null,
            "align_self": null,
            "border": null,
            "bottom": null,
            "display": null,
            "flex": null,
            "flex_flow": null,
            "grid_area": null,
            "grid_auto_columns": null,
            "grid_auto_flow": null,
            "grid_auto_rows": null,
            "grid_column": null,
            "grid_gap": null,
            "grid_row": null,
            "grid_template_areas": null,
            "grid_template_columns": null,
            "grid_template_rows": null,
            "height": null,
            "justify_content": null,
            "justify_items": null,
            "left": null,
            "margin": null,
            "max_height": null,
            "max_width": null,
            "min_height": null,
            "min_width": null,
            "object_fit": null,
            "object_position": null,
            "order": null,
            "overflow": null,
            "overflow_x": null,
            "overflow_y": null,
            "padding": null,
            "right": null,
            "top": null,
            "visibility": null,
            "width": null
          }
        },
        "4008c89041a34ee9af93855c4c75c2ac": {
          "model_module": "@jupyter-widgets/controls",
          "model_name": "DescriptionStyleModel",
          "model_module_version": "1.5.0",
          "state": {
            "_model_module": "@jupyter-widgets/controls",
            "_model_module_version": "1.5.0",
            "_model_name": "DescriptionStyleModel",
            "_view_count": null,
            "_view_module": "@jupyter-widgets/base",
            "_view_module_version": "1.2.0",
            "_view_name": "StyleView",
            "description_width": ""
          }
        },
        "49147782cf2e4f6da7316cd257b40105": {
          "model_module": "@jupyter-widgets/base",
          "model_name": "LayoutModel",
          "model_module_version": "1.2.0",
          "state": {
            "_model_module": "@jupyter-widgets/base",
            "_model_module_version": "1.2.0",
            "_model_name": "LayoutModel",
            "_view_count": null,
            "_view_module": "@jupyter-widgets/base",
            "_view_module_version": "1.2.0",
            "_view_name": "LayoutView",
            "align_content": null,
            "align_items": null,
            "align_self": null,
            "border": null,
            "bottom": null,
            "display": null,
            "flex": null,
            "flex_flow": null,
            "grid_area": null,
            "grid_auto_columns": null,
            "grid_auto_flow": null,
            "grid_auto_rows": null,
            "grid_column": null,
            "grid_gap": null,
            "grid_row": null,
            "grid_template_areas": null,
            "grid_template_columns": null,
            "grid_template_rows": null,
            "height": null,
            "justify_content": null,
            "justify_items": null,
            "left": null,
            "margin": null,
            "max_height": null,
            "max_width": null,
            "min_height": null,
            "min_width": null,
            "object_fit": null,
            "object_position": null,
            "order": null,
            "overflow": null,
            "overflow_x": null,
            "overflow_y": null,
            "padding": null,
            "right": null,
            "top": null,
            "visibility": null,
            "width": null
          }
        },
        "30d4c88cfd8e4d1c9ab953af94bbda26": {
          "model_module": "@jupyter-widgets/controls",
          "model_name": "ProgressStyleModel",
          "model_module_version": "1.5.0",
          "state": {
            "_model_module": "@jupyter-widgets/controls",
            "_model_module_version": "1.5.0",
            "_model_name": "ProgressStyleModel",
            "_view_count": null,
            "_view_module": "@jupyter-widgets/base",
            "_view_module_version": "1.2.0",
            "_view_name": "StyleView",
            "bar_color": null,
            "description_width": ""
          }
        },
        "d963424b74344430b1565954a1b03996": {
          "model_module": "@jupyter-widgets/base",
          "model_name": "LayoutModel",
          "model_module_version": "1.2.0",
          "state": {
            "_model_module": "@jupyter-widgets/base",
            "_model_module_version": "1.2.0",
            "_model_name": "LayoutModel",
            "_view_count": null,
            "_view_module": "@jupyter-widgets/base",
            "_view_module_version": "1.2.0",
            "_view_name": "LayoutView",
            "align_content": null,
            "align_items": null,
            "align_self": null,
            "border": null,
            "bottom": null,
            "display": null,
            "flex": null,
            "flex_flow": null,
            "grid_area": null,
            "grid_auto_columns": null,
            "grid_auto_flow": null,
            "grid_auto_rows": null,
            "grid_column": null,
            "grid_gap": null,
            "grid_row": null,
            "grid_template_areas": null,
            "grid_template_columns": null,
            "grid_template_rows": null,
            "height": null,
            "justify_content": null,
            "justify_items": null,
            "left": null,
            "margin": null,
            "max_height": null,
            "max_width": null,
            "min_height": null,
            "min_width": null,
            "object_fit": null,
            "object_position": null,
            "order": null,
            "overflow": null,
            "overflow_x": null,
            "overflow_y": null,
            "padding": null,
            "right": null,
            "top": null,
            "visibility": null,
            "width": null
          }
        },
        "3d3ac12bec964c5085ad149ee99d0b32": {
          "model_module": "@jupyter-widgets/controls",
          "model_name": "DescriptionStyleModel",
          "model_module_version": "1.5.0",
          "state": {
            "_model_module": "@jupyter-widgets/controls",
            "_model_module_version": "1.5.0",
            "_model_name": "DescriptionStyleModel",
            "_view_count": null,
            "_view_module": "@jupyter-widgets/base",
            "_view_module_version": "1.2.0",
            "_view_name": "StyleView",
            "description_width": ""
          }
        },
        "bf16e450fe664e4582ac7bee4cc1bc4f": {
          "model_module": "@jupyter-widgets/controls",
          "model_name": "HBoxModel",
          "model_module_version": "1.5.0",
          "state": {
            "_dom_classes": [],
            "_model_module": "@jupyter-widgets/controls",
            "_model_module_version": "1.5.0",
            "_model_name": "HBoxModel",
            "_view_count": null,
            "_view_module": "@jupyter-widgets/controls",
            "_view_module_version": "1.5.0",
            "_view_name": "HBoxView",
            "box_style": "",
            "children": [
              "IPY_MODEL_376a9837aae14334bb0818a21e2f4217",
              "IPY_MODEL_fc8ff8c2c86f4329a2e4c6929ff44530",
              "IPY_MODEL_ceeb4beffa4847de9428cc6524b1641c"
            ],
            "layout": "IPY_MODEL_329cb8ba98cc42cf8dc5b29c09d2da8a"
          }
        },
        "376a9837aae14334bb0818a21e2f4217": {
          "model_module": "@jupyter-widgets/controls",
          "model_name": "HTMLModel",
          "model_module_version": "1.5.0",
          "state": {
            "_dom_classes": [],
            "_model_module": "@jupyter-widgets/controls",
            "_model_module_version": "1.5.0",
            "_model_name": "HTMLModel",
            "_view_count": null,
            "_view_module": "@jupyter-widgets/controls",
            "_view_module_version": "1.5.0",
            "_view_name": "HTMLView",
            "description": "",
            "description_tooltip": null,
            "layout": "IPY_MODEL_0e1e8b23d3f845a9bf36705c6f5b7566",
            "placeholder": "​",
            "style": "IPY_MODEL_be2494618e894fb9aaf0005be186d95e",
            "value": "Downloading (…)okenizer_config.json: 100%"
          }
        },
        "fc8ff8c2c86f4329a2e4c6929ff44530": {
          "model_module": "@jupyter-widgets/controls",
          "model_name": "FloatProgressModel",
          "model_module_version": "1.5.0",
          "state": {
            "_dom_classes": [],
            "_model_module": "@jupyter-widgets/controls",
            "_model_module_version": "1.5.0",
            "_model_name": "FloatProgressModel",
            "_view_count": null,
            "_view_module": "@jupyter-widgets/controls",
            "_view_module_version": "1.5.0",
            "_view_name": "ProgressView",
            "bar_style": "success",
            "description": "",
            "description_tooltip": null,
            "layout": "IPY_MODEL_29b829ae453a407bade18585e543bc45",
            "max": 28,
            "min": 0,
            "orientation": "horizontal",
            "style": "IPY_MODEL_0c803ced627a45fe8e59bccb9073da14",
            "value": 28
          }
        },
        "ceeb4beffa4847de9428cc6524b1641c": {
          "model_module": "@jupyter-widgets/controls",
          "model_name": "HTMLModel",
          "model_module_version": "1.5.0",
          "state": {
            "_dom_classes": [],
            "_model_module": "@jupyter-widgets/controls",
            "_model_module_version": "1.5.0",
            "_model_name": "HTMLModel",
            "_view_count": null,
            "_view_module": "@jupyter-widgets/controls",
            "_view_module_version": "1.5.0",
            "_view_name": "HTMLView",
            "description": "",
            "description_tooltip": null,
            "layout": "IPY_MODEL_6ffeb47f74874dbca6f1704e301aa499",
            "placeholder": "​",
            "style": "IPY_MODEL_ae22d89da8e042f695bd9f12b087e433",
            "value": " 28.0/28.0 [00:00&lt;00:00, 928B/s]"
          }
        },
        "329cb8ba98cc42cf8dc5b29c09d2da8a": {
          "model_module": "@jupyter-widgets/base",
          "model_name": "LayoutModel",
          "model_module_version": "1.2.0",
          "state": {
            "_model_module": "@jupyter-widgets/base",
            "_model_module_version": "1.2.0",
            "_model_name": "LayoutModel",
            "_view_count": null,
            "_view_module": "@jupyter-widgets/base",
            "_view_module_version": "1.2.0",
            "_view_name": "LayoutView",
            "align_content": null,
            "align_items": null,
            "align_self": null,
            "border": null,
            "bottom": null,
            "display": null,
            "flex": null,
            "flex_flow": null,
            "grid_area": null,
            "grid_auto_columns": null,
            "grid_auto_flow": null,
            "grid_auto_rows": null,
            "grid_column": null,
            "grid_gap": null,
            "grid_row": null,
            "grid_template_areas": null,
            "grid_template_columns": null,
            "grid_template_rows": null,
            "height": null,
            "justify_content": null,
            "justify_items": null,
            "left": null,
            "margin": null,
            "max_height": null,
            "max_width": null,
            "min_height": null,
            "min_width": null,
            "object_fit": null,
            "object_position": null,
            "order": null,
            "overflow": null,
            "overflow_x": null,
            "overflow_y": null,
            "padding": null,
            "right": null,
            "top": null,
            "visibility": null,
            "width": null
          }
        },
        "0e1e8b23d3f845a9bf36705c6f5b7566": {
          "model_module": "@jupyter-widgets/base",
          "model_name": "LayoutModel",
          "model_module_version": "1.2.0",
          "state": {
            "_model_module": "@jupyter-widgets/base",
            "_model_module_version": "1.2.0",
            "_model_name": "LayoutModel",
            "_view_count": null,
            "_view_module": "@jupyter-widgets/base",
            "_view_module_version": "1.2.0",
            "_view_name": "LayoutView",
            "align_content": null,
            "align_items": null,
            "align_self": null,
            "border": null,
            "bottom": null,
            "display": null,
            "flex": null,
            "flex_flow": null,
            "grid_area": null,
            "grid_auto_columns": null,
            "grid_auto_flow": null,
            "grid_auto_rows": null,
            "grid_column": null,
            "grid_gap": null,
            "grid_row": null,
            "grid_template_areas": null,
            "grid_template_columns": null,
            "grid_template_rows": null,
            "height": null,
            "justify_content": null,
            "justify_items": null,
            "left": null,
            "margin": null,
            "max_height": null,
            "max_width": null,
            "min_height": null,
            "min_width": null,
            "object_fit": null,
            "object_position": null,
            "order": null,
            "overflow": null,
            "overflow_x": null,
            "overflow_y": null,
            "padding": null,
            "right": null,
            "top": null,
            "visibility": null,
            "width": null
          }
        },
        "be2494618e894fb9aaf0005be186d95e": {
          "model_module": "@jupyter-widgets/controls",
          "model_name": "DescriptionStyleModel",
          "model_module_version": "1.5.0",
          "state": {
            "_model_module": "@jupyter-widgets/controls",
            "_model_module_version": "1.5.0",
            "_model_name": "DescriptionStyleModel",
            "_view_count": null,
            "_view_module": "@jupyter-widgets/base",
            "_view_module_version": "1.2.0",
            "_view_name": "StyleView",
            "description_width": ""
          }
        },
        "29b829ae453a407bade18585e543bc45": {
          "model_module": "@jupyter-widgets/base",
          "model_name": "LayoutModel",
          "model_module_version": "1.2.0",
          "state": {
            "_model_module": "@jupyter-widgets/base",
            "_model_module_version": "1.2.0",
            "_model_name": "LayoutModel",
            "_view_count": null,
            "_view_module": "@jupyter-widgets/base",
            "_view_module_version": "1.2.0",
            "_view_name": "LayoutView",
            "align_content": null,
            "align_items": null,
            "align_self": null,
            "border": null,
            "bottom": null,
            "display": null,
            "flex": null,
            "flex_flow": null,
            "grid_area": null,
            "grid_auto_columns": null,
            "grid_auto_flow": null,
            "grid_auto_rows": null,
            "grid_column": null,
            "grid_gap": null,
            "grid_row": null,
            "grid_template_areas": null,
            "grid_template_columns": null,
            "grid_template_rows": null,
            "height": null,
            "justify_content": null,
            "justify_items": null,
            "left": null,
            "margin": null,
            "max_height": null,
            "max_width": null,
            "min_height": null,
            "min_width": null,
            "object_fit": null,
            "object_position": null,
            "order": null,
            "overflow": null,
            "overflow_x": null,
            "overflow_y": null,
            "padding": null,
            "right": null,
            "top": null,
            "visibility": null,
            "width": null
          }
        },
        "0c803ced627a45fe8e59bccb9073da14": {
          "model_module": "@jupyter-widgets/controls",
          "model_name": "ProgressStyleModel",
          "model_module_version": "1.5.0",
          "state": {
            "_model_module": "@jupyter-widgets/controls",
            "_model_module_version": "1.5.0",
            "_model_name": "ProgressStyleModel",
            "_view_count": null,
            "_view_module": "@jupyter-widgets/base",
            "_view_module_version": "1.2.0",
            "_view_name": "StyleView",
            "bar_color": null,
            "description_width": ""
          }
        },
        "6ffeb47f74874dbca6f1704e301aa499": {
          "model_module": "@jupyter-widgets/base",
          "model_name": "LayoutModel",
          "model_module_version": "1.2.0",
          "state": {
            "_model_module": "@jupyter-widgets/base",
            "_model_module_version": "1.2.0",
            "_model_name": "LayoutModel",
            "_view_count": null,
            "_view_module": "@jupyter-widgets/base",
            "_view_module_version": "1.2.0",
            "_view_name": "LayoutView",
            "align_content": null,
            "align_items": null,
            "align_self": null,
            "border": null,
            "bottom": null,
            "display": null,
            "flex": null,
            "flex_flow": null,
            "grid_area": null,
            "grid_auto_columns": null,
            "grid_auto_flow": null,
            "grid_auto_rows": null,
            "grid_column": null,
            "grid_gap": null,
            "grid_row": null,
            "grid_template_areas": null,
            "grid_template_columns": null,
            "grid_template_rows": null,
            "height": null,
            "justify_content": null,
            "justify_items": null,
            "left": null,
            "margin": null,
            "max_height": null,
            "max_width": null,
            "min_height": null,
            "min_width": null,
            "object_fit": null,
            "object_position": null,
            "order": null,
            "overflow": null,
            "overflow_x": null,
            "overflow_y": null,
            "padding": null,
            "right": null,
            "top": null,
            "visibility": null,
            "width": null
          }
        },
        "ae22d89da8e042f695bd9f12b087e433": {
          "model_module": "@jupyter-widgets/controls",
          "model_name": "DescriptionStyleModel",
          "model_module_version": "1.5.0",
          "state": {
            "_model_module": "@jupyter-widgets/controls",
            "_model_module_version": "1.5.0",
            "_model_name": "DescriptionStyleModel",
            "_view_count": null,
            "_view_module": "@jupyter-widgets/base",
            "_view_module_version": "1.2.0",
            "_view_name": "StyleView",
            "description_width": ""
          }
        },
        "b4d0390f03a0473bbc3c6a119d34419f": {
          "model_module": "@jupyter-widgets/controls",
          "model_name": "HBoxModel",
          "model_module_version": "1.5.0",
          "state": {
            "_dom_classes": [],
            "_model_module": "@jupyter-widgets/controls",
            "_model_module_version": "1.5.0",
            "_model_name": "HBoxModel",
            "_view_count": null,
            "_view_module": "@jupyter-widgets/controls",
            "_view_module_version": "1.5.0",
            "_view_name": "HBoxView",
            "box_style": "",
            "children": [
              "IPY_MODEL_e737cec0d03e4a1291ec2542352c9180",
              "IPY_MODEL_507ed099521347b9ad16feb496167752",
              "IPY_MODEL_fccc9c106e9940c78e4e51a5a44a9165"
            ],
            "layout": "IPY_MODEL_f64ca2bd41c0489fbc2c9582cef9cbfe"
          }
        },
        "e737cec0d03e4a1291ec2542352c9180": {
          "model_module": "@jupyter-widgets/controls",
          "model_name": "HTMLModel",
          "model_module_version": "1.5.0",
          "state": {
            "_dom_classes": [],
            "_model_module": "@jupyter-widgets/controls",
            "_model_module_version": "1.5.0",
            "_model_name": "HTMLModel",
            "_view_count": null,
            "_view_module": "@jupyter-widgets/controls",
            "_view_module_version": "1.5.0",
            "_view_name": "HTMLView",
            "description": "",
            "description_tooltip": null,
            "layout": "IPY_MODEL_18bf1b02e2374f77b8875e56ef988507",
            "placeholder": "​",
            "style": "IPY_MODEL_df31fc40cbb94177a572a0dcc6e953c9",
            "value": "Downloading (…)lve/main/config.json: 100%"
          }
        },
        "507ed099521347b9ad16feb496167752": {
          "model_module": "@jupyter-widgets/controls",
          "model_name": "FloatProgressModel",
          "model_module_version": "1.5.0",
          "state": {
            "_dom_classes": [],
            "_model_module": "@jupyter-widgets/controls",
            "_model_module_version": "1.5.0",
            "_model_name": "FloatProgressModel",
            "_view_count": null,
            "_view_module": "@jupyter-widgets/controls",
            "_view_module_version": "1.5.0",
            "_view_name": "ProgressView",
            "bar_style": "success",
            "description": "",
            "description_tooltip": null,
            "layout": "IPY_MODEL_b3eff0105b9d4faab58072284abd5833",
            "max": 570,
            "min": 0,
            "orientation": "horizontal",
            "style": "IPY_MODEL_e9c90cf322d1498c8de84324c0434d71",
            "value": 570
          }
        },
        "fccc9c106e9940c78e4e51a5a44a9165": {
          "model_module": "@jupyter-widgets/controls",
          "model_name": "HTMLModel",
          "model_module_version": "1.5.0",
          "state": {
            "_dom_classes": [],
            "_model_module": "@jupyter-widgets/controls",
            "_model_module_version": "1.5.0",
            "_model_name": "HTMLModel",
            "_view_count": null,
            "_view_module": "@jupyter-widgets/controls",
            "_view_module_version": "1.5.0",
            "_view_name": "HTMLView",
            "description": "",
            "description_tooltip": null,
            "layout": "IPY_MODEL_fbaefd307ed0453397aacb9657b6864a",
            "placeholder": "​",
            "style": "IPY_MODEL_0a69e2c2bad948298c02aef071d4ea85",
            "value": " 570/570 [00:00&lt;00:00, 16.9kB/s]"
          }
        },
        "f64ca2bd41c0489fbc2c9582cef9cbfe": {
          "model_module": "@jupyter-widgets/base",
          "model_name": "LayoutModel",
          "model_module_version": "1.2.0",
          "state": {
            "_model_module": "@jupyter-widgets/base",
            "_model_module_version": "1.2.0",
            "_model_name": "LayoutModel",
            "_view_count": null,
            "_view_module": "@jupyter-widgets/base",
            "_view_module_version": "1.2.0",
            "_view_name": "LayoutView",
            "align_content": null,
            "align_items": null,
            "align_self": null,
            "border": null,
            "bottom": null,
            "display": null,
            "flex": null,
            "flex_flow": null,
            "grid_area": null,
            "grid_auto_columns": null,
            "grid_auto_flow": null,
            "grid_auto_rows": null,
            "grid_column": null,
            "grid_gap": null,
            "grid_row": null,
            "grid_template_areas": null,
            "grid_template_columns": null,
            "grid_template_rows": null,
            "height": null,
            "justify_content": null,
            "justify_items": null,
            "left": null,
            "margin": null,
            "max_height": null,
            "max_width": null,
            "min_height": null,
            "min_width": null,
            "object_fit": null,
            "object_position": null,
            "order": null,
            "overflow": null,
            "overflow_x": null,
            "overflow_y": null,
            "padding": null,
            "right": null,
            "top": null,
            "visibility": null,
            "width": null
          }
        },
        "18bf1b02e2374f77b8875e56ef988507": {
          "model_module": "@jupyter-widgets/base",
          "model_name": "LayoutModel",
          "model_module_version": "1.2.0",
          "state": {
            "_model_module": "@jupyter-widgets/base",
            "_model_module_version": "1.2.0",
            "_model_name": "LayoutModel",
            "_view_count": null,
            "_view_module": "@jupyter-widgets/base",
            "_view_module_version": "1.2.0",
            "_view_name": "LayoutView",
            "align_content": null,
            "align_items": null,
            "align_self": null,
            "border": null,
            "bottom": null,
            "display": null,
            "flex": null,
            "flex_flow": null,
            "grid_area": null,
            "grid_auto_columns": null,
            "grid_auto_flow": null,
            "grid_auto_rows": null,
            "grid_column": null,
            "grid_gap": null,
            "grid_row": null,
            "grid_template_areas": null,
            "grid_template_columns": null,
            "grid_template_rows": null,
            "height": null,
            "justify_content": null,
            "justify_items": null,
            "left": null,
            "margin": null,
            "max_height": null,
            "max_width": null,
            "min_height": null,
            "min_width": null,
            "object_fit": null,
            "object_position": null,
            "order": null,
            "overflow": null,
            "overflow_x": null,
            "overflow_y": null,
            "padding": null,
            "right": null,
            "top": null,
            "visibility": null,
            "width": null
          }
        },
        "df31fc40cbb94177a572a0dcc6e953c9": {
          "model_module": "@jupyter-widgets/controls",
          "model_name": "DescriptionStyleModel",
          "model_module_version": "1.5.0",
          "state": {
            "_model_module": "@jupyter-widgets/controls",
            "_model_module_version": "1.5.0",
            "_model_name": "DescriptionStyleModel",
            "_view_count": null,
            "_view_module": "@jupyter-widgets/base",
            "_view_module_version": "1.2.0",
            "_view_name": "StyleView",
            "description_width": ""
          }
        },
        "b3eff0105b9d4faab58072284abd5833": {
          "model_module": "@jupyter-widgets/base",
          "model_name": "LayoutModel",
          "model_module_version": "1.2.0",
          "state": {
            "_model_module": "@jupyter-widgets/base",
            "_model_module_version": "1.2.0",
            "_model_name": "LayoutModel",
            "_view_count": null,
            "_view_module": "@jupyter-widgets/base",
            "_view_module_version": "1.2.0",
            "_view_name": "LayoutView",
            "align_content": null,
            "align_items": null,
            "align_self": null,
            "border": null,
            "bottom": null,
            "display": null,
            "flex": null,
            "flex_flow": null,
            "grid_area": null,
            "grid_auto_columns": null,
            "grid_auto_flow": null,
            "grid_auto_rows": null,
            "grid_column": null,
            "grid_gap": null,
            "grid_row": null,
            "grid_template_areas": null,
            "grid_template_columns": null,
            "grid_template_rows": null,
            "height": null,
            "justify_content": null,
            "justify_items": null,
            "left": null,
            "margin": null,
            "max_height": null,
            "max_width": null,
            "min_height": null,
            "min_width": null,
            "object_fit": null,
            "object_position": null,
            "order": null,
            "overflow": null,
            "overflow_x": null,
            "overflow_y": null,
            "padding": null,
            "right": null,
            "top": null,
            "visibility": null,
            "width": null
          }
        },
        "e9c90cf322d1498c8de84324c0434d71": {
          "model_module": "@jupyter-widgets/controls",
          "model_name": "ProgressStyleModel",
          "model_module_version": "1.5.0",
          "state": {
            "_model_module": "@jupyter-widgets/controls",
            "_model_module_version": "1.5.0",
            "_model_name": "ProgressStyleModel",
            "_view_count": null,
            "_view_module": "@jupyter-widgets/base",
            "_view_module_version": "1.2.0",
            "_view_name": "StyleView",
            "bar_color": null,
            "description_width": ""
          }
        },
        "fbaefd307ed0453397aacb9657b6864a": {
          "model_module": "@jupyter-widgets/base",
          "model_name": "LayoutModel",
          "model_module_version": "1.2.0",
          "state": {
            "_model_module": "@jupyter-widgets/base",
            "_model_module_version": "1.2.0",
            "_model_name": "LayoutModel",
            "_view_count": null,
            "_view_module": "@jupyter-widgets/base",
            "_view_module_version": "1.2.0",
            "_view_name": "LayoutView",
            "align_content": null,
            "align_items": null,
            "align_self": null,
            "border": null,
            "bottom": null,
            "display": null,
            "flex": null,
            "flex_flow": null,
            "grid_area": null,
            "grid_auto_columns": null,
            "grid_auto_flow": null,
            "grid_auto_rows": null,
            "grid_column": null,
            "grid_gap": null,
            "grid_row": null,
            "grid_template_areas": null,
            "grid_template_columns": null,
            "grid_template_rows": null,
            "height": null,
            "justify_content": null,
            "justify_items": null,
            "left": null,
            "margin": null,
            "max_height": null,
            "max_width": null,
            "min_height": null,
            "min_width": null,
            "object_fit": null,
            "object_position": null,
            "order": null,
            "overflow": null,
            "overflow_x": null,
            "overflow_y": null,
            "padding": null,
            "right": null,
            "top": null,
            "visibility": null,
            "width": null
          }
        },
        "0a69e2c2bad948298c02aef071d4ea85": {
          "model_module": "@jupyter-widgets/controls",
          "model_name": "DescriptionStyleModel",
          "model_module_version": "1.5.0",
          "state": {
            "_model_module": "@jupyter-widgets/controls",
            "_model_module_version": "1.5.0",
            "_model_name": "DescriptionStyleModel",
            "_view_count": null,
            "_view_module": "@jupyter-widgets/base",
            "_view_module_version": "1.2.0",
            "_view_name": "StyleView",
            "description_width": ""
          }
        }
      }
    }
  },
  "cells": [
    {
      "cell_type": "markdown",
      "metadata": {
        "id": "view-in-github",
        "colab_type": "text"
      },
      "source": [
        "<a href=\"https://colab.research.google.com/github/ffedox/nlp/blob/main/distribution/bert_distrib_with_segments.ipynb\" target=\"_parent\"><img src=\"https://colab.research.google.com/assets/colab-badge.svg\" alt=\"Open In Colab\"/></a>"
      ]
    },
    {
      "cell_type": "markdown",
      "metadata": {
        "id": "2WJfM6R9w_K8"
      },
      "source": [
        "# Distribution Learning with BERT (Segments)\n"
      ]
    },
    {
      "cell_type": "markdown",
      "metadata": {
        "id": "WLKcxpYaE8ub"
      },
      "source": [
        "# 1. Setup"
      ]
    },
    {
      "cell_type": "markdown",
      "metadata": {
        "id": "4mxB8Ag1FCE3"
      },
      "source": [
        "## 1.1. Enabling the GPU on Colab"
      ]
    },
    {
      "cell_type": "markdown",
      "source": [
        "Checking if there is a GPU available and setting the `device` to \"cuda\" if there is one."
      ],
      "metadata": {
        "id": "5bNbpXEtTvVJ"
      }
    },
    {
      "cell_type": "code",
      "metadata": {
        "id": "24GNUdYRE-jv",
        "colab": {
          "base_uri": "https://localhost:8080/"
        },
        "outputId": "a003162c-8a60-40ae-e799-43cebd6b7e8e"
      },
      "source": [
        "import torch\n",
        "\n",
        "# If there's a GPU avaiable, tell PyTorch to use the GPU,\n",
        "# otherwise, using the CPU instead.\n",
        "if torch.cuda.is_available():\n",
        "  device = torch.device(\"cuda\")\n",
        "  print('Found GPU:', torch.cuda.get_device_name(0))\n",
        "else:\n",
        "  device = torch.device(\"cpu\")\n",
        "  print('CPU will be used because no GPU available.')"
      ],
      "execution_count": 1,
      "outputs": [
        {
          "output_type": "stream",
          "name": "stdout",
          "text": [
            "Found GPU: Tesla T4\n"
          ]
        }
      ]
    },
    {
      "cell_type": "markdown",
      "metadata": {
        "id": "mdJoYx-IFZNL"
      },
      "source": [
        "## 1.2. Installing the Hugging Face Library"
      ]
    },
    {
      "cell_type": "markdown",
      "metadata": {
        "id": "n1Mf_l2gLo3g"
      },
      "source": [
        "Installing the PyTorch interface for BERT by Hugging Face."
      ]
    },
    {
      "cell_type": "code",
      "metadata": {
        "id": "8QbUEEkwLoCt",
        "colab": {
          "base_uri": "https://localhost:8080/"
        },
        "outputId": "32aec21a-1b07-47d7-9dd3-01c639815225"
      },
      "source": [
        "!pip install transformers --quiet"
      ],
      "execution_count": 2,
      "outputs": [
        {
          "output_type": "stream",
          "name": "stdout",
          "text": [
            "\u001b[2K     \u001b[90m━━━━━━━━━━━━━━━━━━━━━━━━━━━━━━━━━━━━━━━━\u001b[0m \u001b[32m6.3/6.3 MB\u001b[0m \u001b[31m46.2 MB/s\u001b[0m eta \u001b[36m0:00:00\u001b[0m\n",
            "\u001b[2K     \u001b[90m━━━━━━━━━━━━━━━━━━━━━━━━━━━━━━━━━━━━━━━━\u001b[0m \u001b[32m7.6/7.6 MB\u001b[0m \u001b[31m66.7 MB/s\u001b[0m eta \u001b[36m0:00:00\u001b[0m\n",
            "\u001b[2K     \u001b[90m━━━━━━━━━━━━━━━━━━━━━━━━━━━━━━━━━━━━━━━\u001b[0m \u001b[32m190.3/190.3 KB\u001b[0m \u001b[31m8.7 MB/s\u001b[0m eta \u001b[36m0:00:00\u001b[0m\n",
            "\u001b[?25h"
          ]
        }
      ]
    },
    {
      "cell_type": "markdown",
      "metadata": {
        "id": "OniLT7F0Fns5"
      },
      "source": [
        "# 2. Loading the Grey's Anatomy Dataset"
      ]
    },
    {
      "cell_type": "code",
      "source": [
        "from google.colab import drive\n",
        "drive.mount('/content/drive')"
      ],
      "metadata": {
        "colab": {
          "base_uri": "https://localhost:8080/"
        },
        "id": "QbpaOOtf2E2W",
        "outputId": "a246f2f9-acf9-4b43-877e-f56faa0018f2"
      },
      "execution_count": 3,
      "outputs": [
        {
          "output_type": "stream",
          "name": "stdout",
          "text": [
            "Mounted at /content/drive\n"
          ]
        }
      ]
    },
    {
      "cell_type": "code",
      "source": [
        "model_save_name = 'bert_ft_epoch.pt'\n",
        "path = F\"/content/drive/My Drive/{model_save_name}\" "
      ],
      "metadata": {
        "id": "Dy9-E16QcB5M"
      },
      "execution_count": 4,
      "outputs": []
    },
    {
      "cell_type": "code",
      "metadata": {
        "id": "JuCsdGNh47_S"
      },
      "source": [
        "import pandas as pd\n",
        "\n",
        "# Load the dataset into a pandas dataframe.\n",
        "data = pd.read_csv('/content/drive/MyDrive/DAR/all_data_with_segments_preprocessed_train_test_val.csv') #, index_col=0)"
      ],
      "execution_count": 5,
      "outputs": []
    },
    {
      "cell_type": "code",
      "source": [
        "data.head()"
      ],
      "metadata": {
        "colab": {
          "base_uri": "https://localhost:8080/",
          "height": 206
        },
        "id": "-MTDalga9YUw",
        "outputId": "ea2bad8b-9cfb-425e-d4c9-e4495e57920e"
      },
      "execution_count": 11,
      "outputs": [
        {
          "output_type": "execute_result",
          "data": {
            "text/plain": [
              "       code segment_start segment_end   pp   sp   mc  \\\n",
              "0  GAS07E08      00:08:10    00:08:59  0.0  0.0  1.0   \n",
              "1  GAS12E13      00:03:53    00:04:03  1.0  0.0  0.0   \n",
              "2  GAS17E06      00:10:21    00:11:26  0.0  0.5  0.5   \n",
              "3  GAS07E01      00:16:16    00:16:43  0.0  1.0  0.0   \n",
              "4  GAS05E14      00:15:00    00:15:54  0.0  0.0  1.0   \n",
              "\n",
              "                                        segment_text data_type  \n",
              "0   Dr. webber, ronald dace, state department. We...     train  \n",
              "1  Now, listen, about bauer. Bye! Military hospit...     train  \n",
              "2  I didn't even know his whole name. Do you want...     train  \n",
              "3  Clamp. So how are you? I hear there's a guy. Y...     train  \n",
              "4  What's happening? She's tamponading,her b.p.'s...     train  "
            ],
            "text/html": [
              "\n",
              "  <div id=\"df-e7ffb486-3c01-47c9-91c7-17cec1743600\">\n",
              "    <div class=\"colab-df-container\">\n",
              "      <div>\n",
              "<style scoped>\n",
              "    .dataframe tbody tr th:only-of-type {\n",
              "        vertical-align: middle;\n",
              "    }\n",
              "\n",
              "    .dataframe tbody tr th {\n",
              "        vertical-align: top;\n",
              "    }\n",
              "\n",
              "    .dataframe thead th {\n",
              "        text-align: right;\n",
              "    }\n",
              "</style>\n",
              "<table border=\"1\" class=\"dataframe\">\n",
              "  <thead>\n",
              "    <tr style=\"text-align: right;\">\n",
              "      <th></th>\n",
              "      <th>code</th>\n",
              "      <th>segment_start</th>\n",
              "      <th>segment_end</th>\n",
              "      <th>pp</th>\n",
              "      <th>sp</th>\n",
              "      <th>mc</th>\n",
              "      <th>segment_text</th>\n",
              "      <th>data_type</th>\n",
              "    </tr>\n",
              "  </thead>\n",
              "  <tbody>\n",
              "    <tr>\n",
              "      <th>0</th>\n",
              "      <td>GAS07E08</td>\n",
              "      <td>00:08:10</td>\n",
              "      <td>00:08:59</td>\n",
              "      <td>0.0</td>\n",
              "      <td>0.0</td>\n",
              "      <td>1.0</td>\n",
              "      <td>Dr. webber, ronald dace, state department. We...</td>\n",
              "      <td>train</td>\n",
              "    </tr>\n",
              "    <tr>\n",
              "      <th>1</th>\n",
              "      <td>GAS12E13</td>\n",
              "      <td>00:03:53</td>\n",
              "      <td>00:04:03</td>\n",
              "      <td>1.0</td>\n",
              "      <td>0.0</td>\n",
              "      <td>0.0</td>\n",
              "      <td>Now, listen, about bauer. Bye! Military hospit...</td>\n",
              "      <td>train</td>\n",
              "    </tr>\n",
              "    <tr>\n",
              "      <th>2</th>\n",
              "      <td>GAS17E06</td>\n",
              "      <td>00:10:21</td>\n",
              "      <td>00:11:26</td>\n",
              "      <td>0.0</td>\n",
              "      <td>0.5</td>\n",
              "      <td>0.5</td>\n",
              "      <td>I didn't even know his whole name. Do you want...</td>\n",
              "      <td>train</td>\n",
              "    </tr>\n",
              "    <tr>\n",
              "      <th>3</th>\n",
              "      <td>GAS07E01</td>\n",
              "      <td>00:16:16</td>\n",
              "      <td>00:16:43</td>\n",
              "      <td>0.0</td>\n",
              "      <td>1.0</td>\n",
              "      <td>0.0</td>\n",
              "      <td>Clamp. So how are you? I hear there's a guy. Y...</td>\n",
              "      <td>train</td>\n",
              "    </tr>\n",
              "    <tr>\n",
              "      <th>4</th>\n",
              "      <td>GAS05E14</td>\n",
              "      <td>00:15:00</td>\n",
              "      <td>00:15:54</td>\n",
              "      <td>0.0</td>\n",
              "      <td>0.0</td>\n",
              "      <td>1.0</td>\n",
              "      <td>What's happening? She's tamponading,her b.p.'s...</td>\n",
              "      <td>train</td>\n",
              "    </tr>\n",
              "  </tbody>\n",
              "</table>\n",
              "</div>\n",
              "      <button class=\"colab-df-convert\" onclick=\"convertToInteractive('df-e7ffb486-3c01-47c9-91c7-17cec1743600')\"\n",
              "              title=\"Convert this dataframe to an interactive table.\"\n",
              "              style=\"display:none;\">\n",
              "        \n",
              "  <svg xmlns=\"http://www.w3.org/2000/svg\" height=\"24px\"viewBox=\"0 0 24 24\"\n",
              "       width=\"24px\">\n",
              "    <path d=\"M0 0h24v24H0V0z\" fill=\"none\"/>\n",
              "    <path d=\"M18.56 5.44l.94 2.06.94-2.06 2.06-.94-2.06-.94-.94-2.06-.94 2.06-2.06.94zm-11 1L8.5 8.5l.94-2.06 2.06-.94-2.06-.94L8.5 2.5l-.94 2.06-2.06.94zm10 10l.94 2.06.94-2.06 2.06-.94-2.06-.94-.94-2.06-.94 2.06-2.06.94z\"/><path d=\"M17.41 7.96l-1.37-1.37c-.4-.4-.92-.59-1.43-.59-.52 0-1.04.2-1.43.59L10.3 9.45l-7.72 7.72c-.78.78-.78 2.05 0 2.83L4 21.41c.39.39.9.59 1.41.59.51 0 1.02-.2 1.41-.59l7.78-7.78 2.81-2.81c.8-.78.8-2.07 0-2.86zM5.41 20L4 18.59l7.72-7.72 1.47 1.35L5.41 20z\"/>\n",
              "  </svg>\n",
              "      </button>\n",
              "      \n",
              "  <style>\n",
              "    .colab-df-container {\n",
              "      display:flex;\n",
              "      flex-wrap:wrap;\n",
              "      gap: 12px;\n",
              "    }\n",
              "\n",
              "    .colab-df-convert {\n",
              "      background-color: #E8F0FE;\n",
              "      border: none;\n",
              "      border-radius: 50%;\n",
              "      cursor: pointer;\n",
              "      display: none;\n",
              "      fill: #1967D2;\n",
              "      height: 32px;\n",
              "      padding: 0 0 0 0;\n",
              "      width: 32px;\n",
              "    }\n",
              "\n",
              "    .colab-df-convert:hover {\n",
              "      background-color: #E2EBFA;\n",
              "      box-shadow: 0px 1px 2px rgba(60, 64, 67, 0.3), 0px 1px 3px 1px rgba(60, 64, 67, 0.15);\n",
              "      fill: #174EA6;\n",
              "    }\n",
              "\n",
              "    [theme=dark] .colab-df-convert {\n",
              "      background-color: #3B4455;\n",
              "      fill: #D2E3FC;\n",
              "    }\n",
              "\n",
              "    [theme=dark] .colab-df-convert:hover {\n",
              "      background-color: #434B5C;\n",
              "      box-shadow: 0px 1px 3px 1px rgba(0, 0, 0, 0.15);\n",
              "      filter: drop-shadow(0px 1px 2px rgba(0, 0, 0, 0.3));\n",
              "      fill: #FFFFFF;\n",
              "    }\n",
              "  </style>\n",
              "\n",
              "      <script>\n",
              "        const buttonEl =\n",
              "          document.querySelector('#df-e7ffb486-3c01-47c9-91c7-17cec1743600 button.colab-df-convert');\n",
              "        buttonEl.style.display =\n",
              "          google.colab.kernel.accessAllowed ? 'block' : 'none';\n",
              "\n",
              "        async function convertToInteractive(key) {\n",
              "          const element = document.querySelector('#df-e7ffb486-3c01-47c9-91c7-17cec1743600');\n",
              "          const dataTable =\n",
              "            await google.colab.kernel.invokeFunction('convertToInteractive',\n",
              "                                                     [key], {});\n",
              "          if (!dataTable) return;\n",
              "\n",
              "          const docLinkHtml = 'Like what you see? Visit the ' +\n",
              "            '<a target=\"_blank\" href=https://colab.research.google.com/notebooks/data_table.ipynb>data table notebook</a>'\n",
              "            + ' to learn more about interactive tables.';\n",
              "          element.innerHTML = '';\n",
              "          dataTable['output_type'] = 'display_data';\n",
              "          await google.colab.output.renderOutput(dataTable, element);\n",
              "          const docLink = document.createElement('div');\n",
              "          docLink.innerHTML = docLinkHtml;\n",
              "          element.appendChild(docLink);\n",
              "        }\n",
              "      </script>\n",
              "    </div>\n",
              "  </div>\n",
              "  "
            ]
          },
          "metadata": {},
          "execution_count": 11
        }
      ]
    },
    {
      "cell_type": "code",
      "source": [
        "data.dropna(subset=['segment_text'], inplace=True)"
      ],
      "metadata": {
        "id": "P-RsxIw19wMT"
      },
      "execution_count": 6,
      "outputs": []
    },
    {
      "cell_type": "code",
      "source": [
        "# Get train, val and test indexes.\n",
        "train_indexes = data.index[data['data_type'] == 'train'].tolist()\n",
        "val_indexes = data.index[data['data_type'] == 'val'].tolist()\n",
        "test_indexes = data.index[data['data_type'] == 'test'].tolist()\n",
        "\n",
        "# Get the lists of sentences and their labels.\n",
        "sentences = data.segment_text.values\n",
        "labels = data[['pp', 'sp', 'mc']].values"
      ],
      "metadata": {
        "id": "qIv1qMIC2XfI"
      },
      "execution_count": 7,
      "outputs": []
    },
    {
      "cell_type": "markdown",
      "metadata": {
        "id": "lZSNd4sWG3jx"
      },
      "source": [
        "# 3. Tokenization & Input Formatting"
      ]
    },
    {
      "cell_type": "markdown",
      "metadata": {
        "id": "1m9jpFqPHCsS"
      },
      "source": [
        "## 3.1. BERT Tokenizer"
      ]
    },
    {
      "cell_type": "markdown",
      "source": [
        "Using the `transformers` library to load the `BertTokenizer`."
      ],
      "metadata": {
        "id": "OgBpk7twTzaI"
      }
    },
    {
      "cell_type": "code",
      "metadata": {
        "id": "T9GQcNm9RUI6",
        "colab": {
          "base_uri": "https://localhost:8080/",
          "height": 131,
          "referenced_widgets": [
            "486760b7ac124d0abd232f1617c20819",
            "a58a8a6dbdcd48eca91e81ff5fc73d09",
            "304373706cf34356970762242b901dd2",
            "b4532119afc74f0faa4c3ac86e4e6065",
            "e1103a4927204e6c9b30a9337eb8f070",
            "3a89bad498614979a848a1bf9c21d868",
            "4008c89041a34ee9af93855c4c75c2ac",
            "49147782cf2e4f6da7316cd257b40105",
            "30d4c88cfd8e4d1c9ab953af94bbda26",
            "d963424b74344430b1565954a1b03996",
            "3d3ac12bec964c5085ad149ee99d0b32",
            "bf16e450fe664e4582ac7bee4cc1bc4f",
            "376a9837aae14334bb0818a21e2f4217",
            "fc8ff8c2c86f4329a2e4c6929ff44530",
            "ceeb4beffa4847de9428cc6524b1641c",
            "329cb8ba98cc42cf8dc5b29c09d2da8a",
            "0e1e8b23d3f845a9bf36705c6f5b7566",
            "be2494618e894fb9aaf0005be186d95e",
            "29b829ae453a407bade18585e543bc45",
            "0c803ced627a45fe8e59bccb9073da14",
            "6ffeb47f74874dbca6f1704e301aa499",
            "ae22d89da8e042f695bd9f12b087e433",
            "b4d0390f03a0473bbc3c6a119d34419f",
            "e737cec0d03e4a1291ec2542352c9180",
            "507ed099521347b9ad16feb496167752",
            "fccc9c106e9940c78e4e51a5a44a9165",
            "f64ca2bd41c0489fbc2c9582cef9cbfe",
            "18bf1b02e2374f77b8875e56ef988507",
            "df31fc40cbb94177a572a0dcc6e953c9",
            "b3eff0105b9d4faab58072284abd5833",
            "e9c90cf322d1498c8de84324c0434d71",
            "fbaefd307ed0453397aacb9657b6864a",
            "0a69e2c2bad948298c02aef071d4ea85"
          ]
        },
        "outputId": "b196c915-8470-48d4-c5a5-10867ba2d24c"
      },
      "source": [
        "from transformers import BertTokenizer, BertModel, AdamW\n",
        "\n",
        "# Load the BERT tokenizer.\n",
        "print('Loading BERT tokenizer...')\n",
        "\n",
        "# Uncased means that the text has been lower cased before Word Piece\n",
        "# tokenization, e.g., John Smith becomes john smith. The Uncased model also\n",
        "# strips out any accent markers.\n",
        "bert_pretrained_model_name = 'bert-base-uncased'\n",
        "tokenizer = BertTokenizer.from_pretrained(bert_pretrained_model_name)#, do_lower_case=True)"
      ],
      "execution_count": 8,
      "outputs": [
        {
          "output_type": "stream",
          "name": "stdout",
          "text": [
            "Loading BERT tokenizer...\n"
          ]
        },
        {
          "output_type": "display_data",
          "data": {
            "text/plain": [
              "Downloading (…)solve/main/vocab.txt:   0%|          | 0.00/232k [00:00<?, ?B/s]"
            ],
            "application/vnd.jupyter.widget-view+json": {
              "version_major": 2,
              "version_minor": 0,
              "model_id": "486760b7ac124d0abd232f1617c20819"
            }
          },
          "metadata": {}
        },
        {
          "output_type": "display_data",
          "data": {
            "text/plain": [
              "Downloading (…)okenizer_config.json:   0%|          | 0.00/28.0 [00:00<?, ?B/s]"
            ],
            "application/vnd.jupyter.widget-view+json": {
              "version_major": 2,
              "version_minor": 0,
              "model_id": "bf16e450fe664e4582ac7bee4cc1bc4f"
            }
          },
          "metadata": {}
        },
        {
          "output_type": "display_data",
          "data": {
            "text/plain": [
              "Downloading (…)lve/main/config.json:   0%|          | 0.00/570 [00:00<?, ?B/s]"
            ],
            "application/vnd.jupyter.widget-view+json": {
              "version_major": 2,
              "version_minor": 0,
              "model_id": "b4d0390f03a0473bbc3c6a119d34419f"
            }
          },
          "metadata": {}
        }
      ]
    },
    {
      "cell_type": "markdown",
      "metadata": {
        "id": "MBaX4Rg6HSWu"
      },
      "source": [
        "## 3.2. Tokenize Dataset"
      ]
    },
    {
      "cell_type": "code",
      "source": [
        "#def get_max_sentence_length(sentences):\n",
        "\n",
        "  #max_len = 0\n",
        "\n",
        "  # For every sentence...\n",
        "  #for sent in sentences:\n",
        "\n",
        "      # Tokenize the text and add '[CLS]' and '[SEP]' tokens.\n",
        "      #input_ids = tokenizer.encode(sent, add_special_tokens=True)\n",
        "\n",
        "      # Update the maximum sentence length.\n",
        "      #max_len = max(max_len, len(input_ids))\n",
        "\n",
        "  #return max_len\n",
        "\n",
        "#max_sentence_length = get_max_sentence_length(sentences)"
      ],
      "metadata": {
        "id": "313BAt1lHlkY"
      },
      "execution_count": null,
      "outputs": []
    },
    {
      "cell_type": "markdown",
      "source": [
        "Using the `tokenizer.batch_encode_plus` method to encode (i.e., convert into numerical representations) the two datasets: the training dataset and the validation dataset. The following parameters are used:\n",
        "\n",
        "\n",
        "*   `add_special_tokens=True` adds special tokens such as [CLS] and [SEP] to the beginning and end of each sentence.\n",
        "*   `return_attention_mask=True` returns a tensor indicating the attention mask, which is used to tell the model where the sentence ends.\n",
        "*   `max_length` sets the maximum length for the encoded sentences, with longer sentences truncated and shorter sentences padded to this length.\n",
        "*   `truncation=True` explicitly truncates sentences to the max_length.\n",
        "*   `padding='max_length'` specifies that padding should be added to sentences to reach the max_length.\n",
        "*   `return_tensors='pt'` specifies that PyTorch tensors should be returned.\n"
      ],
      "metadata": {
        "id": "CeeEcLL-T3Ck"
      }
    },
    {
      "cell_type": "markdown",
      "source": [
        "`max_length=512` is the maximum supported, even if some segments are longer than that."
      ],
      "metadata": {
        "id": "fwGFCLWMDlUX"
      }
    },
    {
      "cell_type": "code",
      "source": [
        "# Encode training dataset using the tokenizer.\n",
        "encoded_data_train = tokenizer.batch_encode_plus(\n",
        "    data[data.data_type == 'train'].segment_text.values,\n",
        "    add_special_tokens=True,\n",
        "    return_attention_mask=True,  # So we know when a sentence is finished.\n",
        "    max_length=512,\n",
        "    truncation=True,            # Explicitely truncate sentences to max length.\n",
        "    padding='max_length',\n",
        "    return_tensors='pt'\n",
        ")\n",
        "\n",
        "# Encode validation dataset using the tokenizer.\n",
        "encoded_data_val = tokenizer.batch_encode_plus(\n",
        "    data[data.data_type == 'val'].segment_text.values,\n",
        "    add_special_tokens=True,\n",
        "    return_attention_mask=True,  \n",
        "    max_length=512,\n",
        "    truncation=True, \n",
        "    padding='max_length',\n",
        "    return_tensors='pt'\n",
        ")"
      ],
      "metadata": {
        "id": "RlGAiGVySCH8"
      },
      "execution_count": 10,
      "outputs": []
    },
    {
      "cell_type": "markdown",
      "source": [
        "Extracting `input_ids`, `attention_masks`, and `labels` from each dataset."
      ],
      "metadata": {
        "id": "M4CfdzciT6Hs"
      }
    },
    {
      "cell_type": "markdown",
      "source": [
        "`input_ids` are numerical representations of a text sequence. They are usually obtained by encoding the words of a text sequence using a pre-trained tokenizer. Each word is represented by a unique numerical identifier (token), and the sequence of tokens represents the text sequence."
      ],
      "metadata": {
        "id": "r_GiqypmT82u"
      }
    },
    {
      "cell_type": "markdown",
      "source": [
        "`attention_masks` are binary arrays that indicate which elements of the input_ids are real tokens and which are padding. The attention mask is used to distinguish real tokens from padding elements."
      ],
      "metadata": {
        "id": "ZjMx_KZfT-aq"
      }
    },
    {
      "cell_type": "code",
      "source": [
        "from torch.utils.data import TensorDataset\n",
        "\n",
        "# Extract IDs, attention masks and labels from training dataset.\n",
        "input_ids_train = encoded_data_train['input_ids']\n",
        "attention_masks_train = encoded_data_train['attention_mask']\n",
        "labels_train = torch.tensor(data[data.data_type == 'train'][['pp', 'sp', 'mc']].values, dtype=torch.float32)\n",
        "labels_train\n",
        "\n",
        "# Extract IDs, attention masks and labels from validation dataset.\n",
        "input_ids_val = encoded_data_val['input_ids']\n",
        "attention_masks_val = encoded_data_val['attention_mask']\n",
        "labels_val = torch.tensor(data[data.data_type == 'val'][['pp', 'sp', 'mc']].values, dtype=torch.float32)\n",
        "     \n",
        "# Create train and validation dataset from extracted features.\n",
        "dataset_train = TensorDataset(input_ids_train, attention_masks_train, labels_train)\n",
        "dataset_val = TensorDataset(input_ids_val, attention_masks_val, labels_val)\n",
        "print(\"Train dataset length: {}\\nValidation dataset length: {}\".format(len(dataset_train), len(dataset_val)))"
      ],
      "metadata": {
        "colab": {
          "base_uri": "https://localhost:8080/"
        },
        "id": "k--x4iNnS96Q",
        "outputId": "952d1264-8e93-46f7-9801-c402dd658917"
      },
      "execution_count": 11,
      "outputs": [
        {
          "output_type": "stream",
          "name": "stdout",
          "text": [
            "Train dataset length: 1119\n",
            "Validation dataset length: 8157\n"
          ]
        }
      ]
    },
    {
      "cell_type": "markdown",
      "metadata": {
        "id": "0r846BmV2G6N"
      },
      "source": [
        "Creating an iterator for the dataset using the torch `DataLoader` class. This helps save on memory during training because, unlike a for loop, an iterator does not load into memory the entire dataset."
      ]
    },
    {
      "cell_type": "markdown",
      "source": [
        "For segments, `batch_size` has to be 16 to avoid memory issues."
      ],
      "metadata": {
        "id": "r7JMkv7fCFXb"
      }
    },
    {
      "cell_type": "code",
      "source": [
        "from torch.utils.data import DataLoader\n",
        "\n",
        "# The DataLoader needs to know the batch size for training, so it is specified  \n",
        "# here. For fine-tuning BERT on a specific task, the authors recommend a batch \n",
        "# size of 16 or 32.\n",
        "batch_size = 16\n",
        "\n",
        "# Creating the DataLoaders for our training and validation sets.\n",
        "# Taking training samples in random order. \n",
        "train_dataloader = DataLoader(\n",
        "    dataset_train,  # The training samples.\n",
        "    shuffle = True, # Select batches randomly.\n",
        "    batch_size = batch_size)  # Train with this batch size.\n",
        "\n",
        "# For validation the order doesn't matter, so they are processed sequentially.\n",
        "val_dataloader = DataLoader(\n",
        "    dataset_val,  # The validation samples.\n",
        "    shuffle = False,  # Default: Pull out batches sequentially.\n",
        "    batch_size = batch_size)  # Evaluate with this batch size."
      ],
      "metadata": {
        "id": "tFZOLsIDX6-r"
      },
      "execution_count": 12,
      "outputs": []
    },
    {
      "cell_type": "markdown",
      "metadata": {
        "id": "OCpQIk8XHsvv"
      },
      "source": [
        "# 4. Training the Model"
      ]
    },
    {
      "cell_type": "markdown",
      "metadata": {
        "id": "VG0BP-gkIE_q"
      },
      "source": [
        "## 4.1. Creating a Bert model with a regression layer on top"
      ]
    },
    {
      "cell_type": "markdown",
      "source": [
        "Defining a custom PyTorch module for regression. It combines a pre-trained BERT model with a linear layer to predict the outputs."
      ],
      "metadata": {
        "id": "pHdeYXgOUB1a"
      }
    },
    {
      "cell_type": "markdown",
      "source": [
        "In the `init` method, the code instantiates the pre-trained BERT model using the `bert_pretrained_model_name` as a parameter. Then, a linear layer with `output_size` output units is added on top of the BERT model to perform the sequence regression. "
      ],
      "metadata": {
        "id": "138O-uIiUCo4"
      }
    },
    {
      "cell_type": "markdown",
      "source": [
        "The `forward` method is called when the model is used to make predictions on a batch of input data."
      ],
      "metadata": {
        "id": "5oMtnnw-UDkg"
      }
    },
    {
      "cell_type": "markdown",
      "source": [
        "In the `forward` method, the BERT model is called with the `input_sentence` and `input_mask` arguments to produce a hidden representation of the input sentence, which is stored in the `last_hidden_states` variable. The `last_hidden_states` tensor is then passed through a linear layer, represented by the `self.out` variable, to produce the predictions. Finally, the `torch.sigmoid` function is applied to the predictions to constrain the output values within the [0,1] range."
      ],
      "metadata": {
        "id": "OeN-CNF-UEg5"
      }
    },
    {
      "cell_type": "markdown",
      "source": [
        "In summary, the `forward` method of the `BertForSequenceRegression` class takes an input sentence and its corresponding attention mask, passes the input through a pre-trained BERT model, and outputs a prediction for the target variable, which has been constrained within the [0,1] range using the sigmoid function."
      ],
      "metadata": {
        "id": "q5W6_h1cUFRn"
      }
    },
    {
      "cell_type": "code",
      "source": [
        "import torch.nn as nn\n",
        "\n",
        "# Bert Model transformer with a sequence regression head on top (a linear\n",
        "# layer on top of the pooled output).\n",
        "class BertForSequenceRegression(nn.Module):\n",
        "  def __init__(self, bert_pretrained_model_name, output_size):\n",
        "    super(BertForSequenceRegression, self).__init__()\n",
        "    self.bert = BertModel.from_pretrained(bert_pretrained_model_name,\n",
        "                                          output_attentions = False,\n",
        "                                          output_hidden_states = False)\n",
        "    self.out = nn.Linear(self.bert.config.hidden_size, output_size)\n",
        "\n",
        "  def forward(self, input_sentence, input_mask):\n",
        "    last_hidden_states = self.bert(input_sentence, attention_mask=input_mask)[1]\n",
        "    output = self.out(last_hidden_states)\n",
        "    output = torch.sigmoid(output) # Using a sigmoid in the output layer\n",
        "    return output\n",
        "\n",
        "model = BertForSequenceRegression(bert_pretrained_model_name, output_size=3)\n",
        "\n",
        "# Tell pytorch to run this model on the GPU\n",
        "model.to(device)"
      ],
      "metadata": {
        "id": "cOFxZJJA1J7a"
      },
      "execution_count": null,
      "outputs": []
    },
    {
      "cell_type": "markdown",
      "metadata": {
        "id": "mVTz-k9PH-5d"
      },
      "source": [
        "## 4.2. Training Loop"
      ]
    },
    {
      "cell_type": "markdown",
      "metadata": {
        "id": "Eo1LuJn7NdPH"
      },
      "source": [
        "Helper function for formatting elapsed times as hh:mm:ss."
      ]
    },
    {
      "cell_type": "code",
      "metadata": {
        "id": "LGqWolARNcX7"
      },
      "source": [
        "import time\n",
        "import datetime\n",
        "\n",
        "def format_time(elapsed):\n",
        "    '''\n",
        "    Takes a time in seconds and returns a string hh:mm:ss\n",
        "    '''\n",
        "    # Round to the nearest second.\n",
        "    elapsed_rounded = int(round((elapsed)))\n",
        "    \n",
        "    # Format as hh:mm:ss\n",
        "    return str(datetime.timedelta(seconds=elapsed_rounded))"
      ],
      "execution_count": 14,
      "outputs": []
    },
    {
      "cell_type": "markdown",
      "source": [
        "Defining the training loop for the model. The model is trained on the provided training dataset for 2 epochs. The Adam optimizer is used to update the model's parameters based on the loss, which is calculated using the mean squared error loss. The training loop also measures and reports the average training loss and the time it took to complete each epoch. After each training epoch, the code performs a validation step on a validation dataset, calculating the loss on the validation set and storing the results in `training_stats`."
      ],
      "metadata": {
        "id": "kUshm1HhUH42"
      }
    },
    {
      "cell_type": "code",
      "metadata": {
        "id": "iKkR-6VIUCMv",
        "colab": {
          "base_uri": "https://localhost:8080/"
        },
        "outputId": "4aa49f99-ab18-4720-f9b7-e7f78c35ae3f"
      },
      "source": [
        "import torch.optim as optim\n",
        "\n",
        "# Optimizer (lr options: 2e-5, 3e-5, 5e-5)\n",
        "optimizer = optim.Adam(model.parameters(), lr=2e-5, eps=1e-8)\n",
        "\n",
        "epochs = 2\n",
        "\n",
        "# Loss function\n",
        "criterion = torch.nn.MSELoss() \n",
        "\n",
        "# Storing statistics such as training loss and timings\n",
        "training_stats = []\n",
        "\n",
        "# Measuring the total training time for the whole run\n",
        "total_t0 = time.time()\n",
        "\n",
        "# For each epoch...\n",
        "for epoch_i in range(0, epochs):\n",
        "  # ========================================\n",
        "  #               Training\n",
        "  # ========================================\n",
        "    \n",
        "  # Perform one full pass over the training set.\n",
        "  \n",
        "  print(\"\")\n",
        "  print('======== Epoch {:} / {:} ========'.format(epoch_i + 1, epochs))\n",
        "  print('Training...')\n",
        "\n",
        "  # Measure how long the training epoch takes.\n",
        "  t0 = time.time()\n",
        "\n",
        "  # Reset the total loss for this epoch.\n",
        "  total_train_loss = 0\n",
        "\n",
        "  # Put the model into training mode.\n",
        "  # Dropout layers behave differently during training vs. eval mode.\n",
        "  model.train()\n",
        "\n",
        "  # For each batch of training data...\n",
        "  for step, batch in enumerate(train_dataloader):\n",
        "    \n",
        "    # Progress update every 40 batches.\n",
        "    if step % 40 == 0 and not step == 0:\n",
        "      # Calculate elapsed time in minutes.\n",
        "      elapsed = format_time(time.time() - t0)\n",
        "            \n",
        "      # Report progress.\n",
        "      print('  Batch {:>5,}  of  {:>5,}.    Elapsed: {:}.'.format(step, len(train_dataloader), elapsed))\n",
        "\n",
        "\n",
        "    # Unpack this training batch from our dataloader. \n",
        "    #\n",
        "    # As we unpack the batch, we'll also copy each tensor to the GPU using the \n",
        "    # `to` method.\n",
        "    #\n",
        "    # `batch` contains three pytorch tensors:\n",
        "    #   [0]: input ids \n",
        "    #   [1]: attention masks\n",
        "    #   [2]: labels \n",
        "    b_input_ids = batch[0].to(device)\n",
        "    b_input_mask = batch[1].to(device)\n",
        "    b_labels = batch[2].to(device)\n",
        "\n",
        "    # zero gradients\n",
        "    optimizer.zero_grad()\n",
        "    model.zero_grad()  \n",
        "\n",
        "    # Perform a forward pass (evaluate the model on this training batch).\n",
        "    output = model(b_input_ids, b_input_mask)\n",
        "\n",
        "    # loss\n",
        "    loss = criterion(output.view(-1), b_labels.view(-1))\n",
        "      \n",
        "    # Accumulate the training loss over all of the batches so that we can\n",
        "    # calculate the average loss at the end. `loss` is a Tensor containing a\n",
        "    # single value; the `.item()` function just returns the Python value \n",
        "    # from the tensor.\n",
        "    total_train_loss += loss.item()\n",
        "\n",
        "    # Perform a backward pass to calculate the gradients.\n",
        "    loss.backward()\n",
        "\n",
        "    # Update parameters and take a step using the computed gradient.\n",
        "    # The optimizer dictates the \"update rule\"--how the parameters are\n",
        "    # modified based on their gradients, the learning rate, etc.\n",
        "    optimizer.step()\n",
        "\n",
        "  # Calculate the average loss over all of the batches.\n",
        "  avg_train_loss = total_train_loss / len(train_dataloader)\n",
        "\n",
        "  # Measure how long this epoch took.\n",
        "  training_time = format_time(time.time() - t0)\n",
        "\n",
        "  print(\"\")\n",
        "  print(\"  Average training loss: {0:.2f}\".format(avg_train_loss))\n",
        "  print(\"  Training epoch took: {:}\".format(training_time))\n",
        "  \n",
        "  # ========================================\n",
        "  #               Validation\n",
        "  # ========================================\n",
        "  # After the completion of each training epoch, measure the performance on\n",
        "  # the validation set.\n",
        "\n",
        "  print(\"\")\n",
        "  print(\"Running Validation...\")\n",
        "\n",
        "  t0 = time.time()\n",
        "\n",
        "  model.eval()\n",
        "\n",
        "  # Tracking variables \n",
        "  total_eval_accuracy = 0\n",
        "  total_eval_loss = 0\n",
        "  nb_eval_steps = 0\n",
        "\n",
        "  # Evaluate data for one epoch\n",
        "  for batch in val_dataloader:\n",
        "\n",
        "    # Unpack this training batch from the dataloader. \n",
        "    #\n",
        "    # As we unpack the batch, we'll also copy each tensor to the GPU using \n",
        "    # the `to` method.\n",
        "    #\n",
        "    # `batch` contains three pytorch tensors:\n",
        "    #   [0]: input ids \n",
        "    #   [1]: attention masks\n",
        "    #   [2]: labels \n",
        "    b_input_ids = batch[0].to(device)\n",
        "    b_input_mask = batch[1].to(device)\n",
        "    b_labels = batch[2].to(device)\n",
        "\n",
        "    # Tell pytorch not to bother with constructing the compute graph during\n",
        "    # the forward pass, since this is only needed for backprop (training).\n",
        "    with torch.no_grad():\n",
        "      \n",
        "      # Perform a forward pass\n",
        "      output = model(b_input_ids, b_input_mask)\n",
        "\n",
        "    # loss\n",
        "    loss = criterion(output.view(-1), b_labels.view(-1))\n",
        "\n",
        "    # Accumulate the development loss.\n",
        "    total_eval_loss += loss.item()\n",
        "\n",
        "  # Calculate the average loss over all of the batches.\n",
        "  avg_val_loss = total_eval_loss / len(val_dataloader)\n",
        "\n",
        "  # Measure how long the development run took.\n",
        "  validation_time = format_time(time.time() - t0)\n",
        "\n",
        "  print(\"  Validation Loss: {0:.2f}\".format(avg_val_loss))\n",
        "  print(\"  Validation took: {:}\".format(validation_time))\n",
        "\n",
        "  # Record all statistics from this epoch.\n",
        "  training_stats.append(\n",
        "      {\n",
        "          'epoch': epoch_i + 1,\n",
        "          'Training Loss': avg_train_loss,\n",
        "          'Training Time': training_time,\n",
        "          'Valid. Loss': avg_val_loss,\n",
        "          'Validation Time': validation_time\n",
        "      })\n",
        "  \n",
        "print(\"\")\n",
        "print(\"Training complete!\")\n",
        "\n",
        "print(\"Total training took {:} (h:mm:ss)\".format(format_time(time.time()-total_t0)))"
      ],
      "execution_count": 15,
      "outputs": [
        {
          "output_type": "stream",
          "name": "stdout",
          "text": [
            "\n",
            "======== Epoch 1 / 2 ========\n",
            "Training...\n",
            "  Batch    40  of     70.    Elapsed: 0:00:56.\n",
            "\n",
            "  Average training loss: 0.17\n",
            "  Training epoch took: 0:01:39\n",
            "\n",
            "Running Validation...\n",
            "  Validation Loss: 0.15\n",
            "  Validation took: 0:04:44\n",
            "\n",
            "======== Epoch 2 / 2 ========\n",
            "Training...\n",
            "  Batch    40  of     70.    Elapsed: 0:00:59.\n",
            "\n",
            "  Average training loss: 0.13\n",
            "  Training epoch took: 0:01:43\n",
            "\n",
            "Running Validation...\n",
            "  Validation Loss: 0.14\n",
            "  Validation took: 0:04:46\n",
            "\n",
            "Training complete!\n",
            "Total training took 0:12:52 (h:mm:ss)\n"
          ]
        }
      ]
    },
    {
      "cell_type": "code",
      "metadata": {
        "id": "46JdqZssf1Pu",
        "colab": {
          "base_uri": "https://localhost:8080/",
          "height": 144
        },
        "outputId": "cabe5be7-648e-4553-f56a-6c7cd0132ddb"
      },
      "source": [
        "# Display floats with three decimal places.\n",
        "pd.set_option('precision', 4)\n",
        "\n",
        "# Create a DataFrame with the training statistics.\n",
        "df_stats = pd.DataFrame(data=training_stats)\n",
        "\n",
        "# Use the 'epoch' as the row index.\n",
        "df_stats = df_stats.set_index('epoch')\n",
        "\n",
        "# Display the table.\n",
        "df_stats"
      ],
      "execution_count": 16,
      "outputs": [
        {
          "output_type": "execute_result",
          "data": {
            "text/plain": [
              "       Training Loss Training Time  Valid. Loss Validation Time\n",
              "epoch                                                          \n",
              "1             0.1650       0:01:39       0.1486         0:04:44\n",
              "2             0.1326       0:01:43       0.1428         0:04:46"
            ],
            "text/html": [
              "\n",
              "  <div id=\"df-8ee285e6-4167-41fc-9c88-762d84b2a351\">\n",
              "    <div class=\"colab-df-container\">\n",
              "      <div>\n",
              "<style scoped>\n",
              "    .dataframe tbody tr th:only-of-type {\n",
              "        vertical-align: middle;\n",
              "    }\n",
              "\n",
              "    .dataframe tbody tr th {\n",
              "        vertical-align: top;\n",
              "    }\n",
              "\n",
              "    .dataframe thead th {\n",
              "        text-align: right;\n",
              "    }\n",
              "</style>\n",
              "<table border=\"1\" class=\"dataframe\">\n",
              "  <thead>\n",
              "    <tr style=\"text-align: right;\">\n",
              "      <th></th>\n",
              "      <th>Training Loss</th>\n",
              "      <th>Training Time</th>\n",
              "      <th>Valid. Loss</th>\n",
              "      <th>Validation Time</th>\n",
              "    </tr>\n",
              "    <tr>\n",
              "      <th>epoch</th>\n",
              "      <th></th>\n",
              "      <th></th>\n",
              "      <th></th>\n",
              "      <th></th>\n",
              "    </tr>\n",
              "  </thead>\n",
              "  <tbody>\n",
              "    <tr>\n",
              "      <th>1</th>\n",
              "      <td>0.1650</td>\n",
              "      <td>0:01:39</td>\n",
              "      <td>0.1486</td>\n",
              "      <td>0:04:44</td>\n",
              "    </tr>\n",
              "    <tr>\n",
              "      <th>2</th>\n",
              "      <td>0.1326</td>\n",
              "      <td>0:01:43</td>\n",
              "      <td>0.1428</td>\n",
              "      <td>0:04:46</td>\n",
              "    </tr>\n",
              "  </tbody>\n",
              "</table>\n",
              "</div>\n",
              "      <button class=\"colab-df-convert\" onclick=\"convertToInteractive('df-8ee285e6-4167-41fc-9c88-762d84b2a351')\"\n",
              "              title=\"Convert this dataframe to an interactive table.\"\n",
              "              style=\"display:none;\">\n",
              "        \n",
              "  <svg xmlns=\"http://www.w3.org/2000/svg\" height=\"24px\"viewBox=\"0 0 24 24\"\n",
              "       width=\"24px\">\n",
              "    <path d=\"M0 0h24v24H0V0z\" fill=\"none\"/>\n",
              "    <path d=\"M18.56 5.44l.94 2.06.94-2.06 2.06-.94-2.06-.94-.94-2.06-.94 2.06-2.06.94zm-11 1L8.5 8.5l.94-2.06 2.06-.94-2.06-.94L8.5 2.5l-.94 2.06-2.06.94zm10 10l.94 2.06.94-2.06 2.06-.94-2.06-.94-.94-2.06-.94 2.06-2.06.94z\"/><path d=\"M17.41 7.96l-1.37-1.37c-.4-.4-.92-.59-1.43-.59-.52 0-1.04.2-1.43.59L10.3 9.45l-7.72 7.72c-.78.78-.78 2.05 0 2.83L4 21.41c.39.39.9.59 1.41.59.51 0 1.02-.2 1.41-.59l7.78-7.78 2.81-2.81c.8-.78.8-2.07 0-2.86zM5.41 20L4 18.59l7.72-7.72 1.47 1.35L5.41 20z\"/>\n",
              "  </svg>\n",
              "      </button>\n",
              "      \n",
              "  <style>\n",
              "    .colab-df-container {\n",
              "      display:flex;\n",
              "      flex-wrap:wrap;\n",
              "      gap: 12px;\n",
              "    }\n",
              "\n",
              "    .colab-df-convert {\n",
              "      background-color: #E8F0FE;\n",
              "      border: none;\n",
              "      border-radius: 50%;\n",
              "      cursor: pointer;\n",
              "      display: none;\n",
              "      fill: #1967D2;\n",
              "      height: 32px;\n",
              "      padding: 0 0 0 0;\n",
              "      width: 32px;\n",
              "    }\n",
              "\n",
              "    .colab-df-convert:hover {\n",
              "      background-color: #E2EBFA;\n",
              "      box-shadow: 0px 1px 2px rgba(60, 64, 67, 0.3), 0px 1px 3px 1px rgba(60, 64, 67, 0.15);\n",
              "      fill: #174EA6;\n",
              "    }\n",
              "\n",
              "    [theme=dark] .colab-df-convert {\n",
              "      background-color: #3B4455;\n",
              "      fill: #D2E3FC;\n",
              "    }\n",
              "\n",
              "    [theme=dark] .colab-df-convert:hover {\n",
              "      background-color: #434B5C;\n",
              "      box-shadow: 0px 1px 3px 1px rgba(0, 0, 0, 0.15);\n",
              "      filter: drop-shadow(0px 1px 2px rgba(0, 0, 0, 0.3));\n",
              "      fill: #FFFFFF;\n",
              "    }\n",
              "  </style>\n",
              "\n",
              "      <script>\n",
              "        const buttonEl =\n",
              "          document.querySelector('#df-8ee285e6-4167-41fc-9c88-762d84b2a351 button.colab-df-convert');\n",
              "        buttonEl.style.display =\n",
              "          google.colab.kernel.accessAllowed ? 'block' : 'none';\n",
              "\n",
              "        async function convertToInteractive(key) {\n",
              "          const element = document.querySelector('#df-8ee285e6-4167-41fc-9c88-762d84b2a351');\n",
              "          const dataTable =\n",
              "            await google.colab.kernel.invokeFunction('convertToInteractive',\n",
              "                                                     [key], {});\n",
              "          if (!dataTable) return;\n",
              "\n",
              "          const docLinkHtml = 'Like what you see? Visit the ' +\n",
              "            '<a target=\"_blank\" href=https://colab.research.google.com/notebooks/data_table.ipynb>data table notebook</a>'\n",
              "            + ' to learn more about interactive tables.';\n",
              "          element.innerHTML = '';\n",
              "          dataTable['output_type'] = 'display_data';\n",
              "          await google.colab.output.renderOutput(dataTable, element);\n",
              "          const docLink = document.createElement('div');\n",
              "          docLink.innerHTML = docLinkHtml;\n",
              "          element.appendChild(docLink);\n",
              "        }\n",
              "      </script>\n",
              "    </div>\n",
              "  </div>\n",
              "  "
            ]
          },
          "metadata": {},
          "execution_count": 16
        }
      ]
    },
    {
      "cell_type": "code",
      "metadata": {
        "id": "Ya44ZLK9UClM",
        "colab": {
          "base_uri": "https://localhost:8080/",
          "height": 427
        },
        "outputId": "85f625a8-1dae-40d6-b9bc-9e523f9dddee"
      },
      "source": [
        "import matplotlib.pyplot as plt\n",
        "%matplotlib inline\n",
        "\n",
        "import seaborn as sns\n",
        "\n",
        "# Use plot styling from seaborn.\n",
        "sns.set(style='darkgrid')\n",
        "\n",
        "# Increase the plot size and font size.\n",
        "sns.set(font_scale=1.5)\n",
        "plt.rcParams[\"figure.figsize\"] = (12,6)\n",
        "\n",
        "# Plot the learning curve.\n",
        "plt.plot(df_stats['Training Loss'], 'b-o', label=\"Training\")\n",
        "plt.plot(df_stats['Valid. Loss'], 'g-o', label=\"Validation\")\n",
        "\n",
        "# Label the plot.\n",
        "plt.title(\"Training & Validation Loss\")\n",
        "plt.xlabel(\"Epoch\")\n",
        "plt.ylabel(\"Loss\")\n",
        "plt.legend()\n",
        "plt.xticks([1, 2, 3, 4, 5, 6, 7, 8, 9])\n",
        "\n",
        "plt.show()"
      ],
      "execution_count": 17,
      "outputs": [
        {
          "output_type": "display_data",
          "data": {
            "text/plain": [
              "<Figure size 864x432 with 1 Axes>"
            ],
            "image/png": "[encoded data removed]"
          },
          "metadata": {}
        }
      ]
    },
    {
      "cell_type": "markdown",
      "metadata": {
        "id": "glJ7rGlQJWQQ"
      },
      "source": [
        "# 5. Performance On Test Set"
      ]
    },
    {
      "cell_type": "code",
      "source": [
        "# Encode test dataset using the tokenizer.\n",
        "encoded_data_test = tokenizer.batch_encode_plus(\n",
        "    data[data.data_type == 'test'].segment_text.values,\n",
        "    add_special_tokens=True,\n",
        "    return_attention_mask=True,  \n",
        "    max_length=512,\n",
        "    truncation=True,\n",
        "    padding='max_length',\n",
        "    return_tensors='pt'\n",
        ")"
      ],
      "metadata": {
        "id": "MWz8zji6MDxL"
      },
      "execution_count": 20,
      "outputs": []
    },
    {
      "cell_type": "code",
      "source": [
        "# Extract IDs, attention masks and labels from testing dataset.\n",
        "input_ids_test = encoded_data_test['input_ids']\n",
        "attention_masks_test = encoded_data_test['attention_mask']\n",
        "labels_test = torch.tensor(data[data.data_type == 'test'][['pp', 'sp', 'mc']].values, dtype=torch.float32)\n",
        "\n",
        "dataset_test = TensorDataset(input_ids_test, attention_masks_test)\n",
        "test_dataloader = DataLoader(dataset_test)\n",
        "print(\"Test dataset length: {}\".format(len(dataset_test)))"
      ],
      "metadata": {
        "colab": {
          "base_uri": "https://localhost:8080/"
        },
        "id": "pR26emXifKGL",
        "outputId": "919e014a-9c80-461c-c1f0-42f8814db2de"
      },
      "execution_count": 21,
      "outputs": [
        {
          "output_type": "stream",
          "name": "stdout",
          "text": [
            "Test dataset length: 11721\n"
          ]
        }
      ]
    },
    {
      "cell_type": "markdown",
      "source": [
        "Defining a function `predict` that takes as input a test dataloader (`test_dataloader`) and returns a list of predictions. The function loops over the rows of the test dataloader and performs the following steps:\n",
        "\n",
        "1.   For each row in the test dataloader, it converts each element of the row to a PyTorch tensor and transfers it to the specified device.\n",
        "2.   It defines a dictionary called `inputs` that holds the converted tensors as inputs to the model.\n",
        "3.   It performs an evaluation of the model on the inputs using `model(**inputs)`\n",
        "4. The output of the model is a tensor `outputs[0]`. The outputs are detached from the computation history of the model and converted to a numpy array.\n",
        "5. It appends the outputs to the list `predictions`.\n",
        "\n",
        "The function is called on the test dataloader and the target values from the test set are collected to compare them with the predictions."
      ],
      "metadata": {
        "id": "Mdl3WmnyULxk"
      }
    },
    {
      "cell_type": "code",
      "source": [
        "def predict(test_dataloader):\n",
        "\n",
        "    predictions = []\n",
        "\n",
        "    for row in test_dataloader:\n",
        "      row = tuple(r.to(device) for r in row)\n",
        "      inputs = {'input_sentence': row[0],\n",
        "        'input_mask': row[1]\n",
        "        }\n",
        "\n",
        "      with torch.no_grad():\n",
        "          outputs = model(**inputs)\n",
        "\n",
        "      outputs = outputs[0]\n",
        "      outputs = outputs.detach().cpu().numpy()\n",
        "      predictions.append(outputs)\n",
        "\n",
        "    return predictions\n",
        "\n",
        "# Predict on the test set\n",
        "predictions = predict(test_dataloader)\n",
        "\n",
        "# Collect target values from test set\n",
        "true = data[data.data_type=='test'][['pp', 'sp', 'mc']].values"
      ],
      "metadata": {
        "id": "aof1d3bdfxWD"
      },
      "execution_count": 22,
      "outputs": []
    },
    {
      "cell_type": "code",
      "source": [
        "from sklearn.metrics import mean_absolute_error\n",
        "\n",
        "print('MAE (ALL) ', mean_absolute_error(true, predictions), ' \\n')\n",
        "print('MAE (PP): ', list(mean_absolute_error(true, predictions, multioutput='raw_values'))[0])\n",
        "print('MAE (SP): ', list(mean_absolute_error(true, predictions, multioutput='raw_values'))[1])\n",
        "print('MAE (MC): ', list(mean_absolute_error(true, predictions, multioutput='raw_values'))[2])"
      ],
      "metadata": {
        "colab": {
          "base_uri": "https://localhost:8080/"
        },
        "id": "WUhXNgjeFiMI",
        "outputId": "4e2add5f-a53b-44e4-b40c-76b6e5c3b917"
      },
      "execution_count": 23,
      "outputs": [
        {
          "output_type": "stream",
          "name": "stdout",
          "text": [
            "MAE (ALL)  0.3144745305116637  \n",
            "\n",
            "MAE (PP):  0.2837615077965261\n",
            "MAE (SP):  0.3273109819754797\n",
            "MAE (MC):  0.3323511017629853\n"
          ]
        }
      ]
    },
    {
      "cell_type": "code",
      "source": [
        "from sklearn.metrics import mean_squared_error\n",
        "\n",
        "print('RMSE (ALL) ', mean_squared_error(true, predictions), ' \\n')\n",
        "print('RMSE (PP): ', list(mean_squared_error(true, predictions, squared=False, multioutput='raw_values'))[0])\n",
        "print('RMSE (SP): ', list(mean_squared_error(true, predictions, squared=False, multioutput='raw_values'))[1])\n",
        "print('RMSE (MC): ', list(mean_squared_error(true, predictions, squared=False, multioutput='raw_values'))[2])"
      ],
      "metadata": {
        "colab": {
          "base_uri": "https://localhost:8080/"
        },
        "id": "tuNHVtt9FoI4",
        "outputId": "29c377b6-433a-43b7-cd84-c14e4df984c6"
      },
      "execution_count": 24,
      "outputs": [
        {
          "output_type": "stream",
          "name": "stdout",
          "text": [
            "RMSE (ALL)  0.1419505609244868  \n",
            "\n",
            "RMSE (PP):  0.3444554319562942\n",
            "RMSE (SP):  0.39026034971200463\n",
            "RMSE (MC):  0.39357209963604767\n"
          ]
        }
      ]
    },
    {
      "cell_type": "code",
      "source": [
        "from sklearn.metrics import r2_score\n",
        "\n",
        "print('R2 (ALL) ', r2_score(true, predictions), ' \\n')\n",
        "print('R2 (PP): ', list(r2_score(true, predictions, multioutput='raw_values'))[0])\n",
        "print('R2 (SP): ', list(r2_score(true, predictions, multioutput='raw_values'))[1])\n",
        "print('R2 (MC): ', list(r2_score(true, predictions, multioutput='raw_values'))[2])"
      ],
      "metadata": {
        "colab": {
          "base_uri": "https://localhost:8080/"
        },
        "id": "iTTJtEWDFsLt",
        "outputId": "d87c4655-a31e-48a1-d9e7-c580a52b071c"
      },
      "execution_count": 25,
      "outputs": [
        {
          "output_type": "stream",
          "name": "stdout",
          "text": [
            "R2 (ALL)  0.19254598047383129  \n",
            "\n",
            "R2 (PP):  0.11426573718671096\n",
            "R2 (SP):  0.2849427641710548\n",
            "R2 (MC):  0.17842944006372807\n"
          ]
        }
      ]
    },
    {
      "cell_type": "code",
      "source": [
        "model_path = \"/content/drive/MyDrive/DAR/models/bert_distrib_with_segments\" \n",
        "torch.save(model, model_path)"
      ],
      "metadata": {
        "id": "xd9Mf1OUGNre"
      },
      "execution_count": 28,
      "outputs": []
    }
  ]
}